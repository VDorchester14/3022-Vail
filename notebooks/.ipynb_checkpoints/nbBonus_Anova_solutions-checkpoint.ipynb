{
 "cells": [
  {
   "cell_type": "markdown",
   "metadata": {},
   "source": [
    "# Lecture 26: Anotha' ANOVA Solutions\n",
    "***\n",
    "\n",
    "We'll need Numpy, Matplotlib, Pandas, and scipy.stats for this notebook, so let's load them. "
   ]
  },
  {
   "cell_type": "code",
   "execution_count": 1,
   "metadata": {},
   "outputs": [
    {
     "name": "stderr",
     "output_type": "stream",
     "text": [
      "C:\\Users\\Vail Dorchester\\Anaconda3\\lib\\site-packages\\statsmodels\\compat\\pandas.py:56: FutureWarning: The pandas.core.datetools module is deprecated and will be removed in a future version. Please use the pandas.tseries module instead.\n",
      "  from pandas.core import datetools\n"
     ]
    }
   ],
   "source": [
    "import numpy as np \n",
    "from scipy import stats\n",
    "import statsmodels.api as sm \n",
    "import pandas as pd\n",
    "import matplotlib.pylab as plt \n",
    "%matplotlib inline"
   ]
  },
  {
   "cell_type": "markdown",
   "metadata": {},
   "source": [
    "### Suppose we have data from an experiment\n",
    "\n",
    "A number of otters were dressed in costumes and elementary school children were asked to bid on them to take them home as pets, using a token system. The costume types were octopus, robot, and panda. The question is whether the costumes actually have different effects from each other, or whether they are statistically the same. "
   ]
  },
  {
   "cell_type": "code",
   "execution_count": 2,
   "metadata": {},
   "outputs": [
    {
     "data": {
      "text/html": [
       "<div>\n",
       "<style>\n",
       "    .dataframe thead tr:only-child th {\n",
       "        text-align: right;\n",
       "    }\n",
       "\n",
       "    .dataframe thead th {\n",
       "        text-align: left;\n",
       "    }\n",
       "\n",
       "    .dataframe tbody tr th {\n",
       "        vertical-align: top;\n",
       "    }\n",
       "</style>\n",
       "<table border=\"1\" class=\"dataframe\">\n",
       "  <thead>\n",
       "    <tr style=\"text-align: right;\">\n",
       "      <th></th>\n",
       "      <th>octopuses</th>\n",
       "      <th>robots</th>\n",
       "      <th>pandas</th>\n",
       "    </tr>\n",
       "  </thead>\n",
       "  <tbody>\n",
       "    <tr>\n",
       "      <th>0</th>\n",
       "      <td>2.0</td>\n",
       "      <td>5</td>\n",
       "      <td>7.0</td>\n",
       "    </tr>\n",
       "    <tr>\n",
       "      <th>1</th>\n",
       "      <td>4.0</td>\n",
       "      <td>5</td>\n",
       "      <td>4.0</td>\n",
       "    </tr>\n",
       "    <tr>\n",
       "      <th>2</th>\n",
       "      <td>7.0</td>\n",
       "      <td>3</td>\n",
       "      <td>6.0</td>\n",
       "    </tr>\n",
       "    <tr>\n",
       "      <th>3</th>\n",
       "      <td>1.0</td>\n",
       "      <td>4</td>\n",
       "      <td>8.0</td>\n",
       "    </tr>\n",
       "    <tr>\n",
       "      <th>4</th>\n",
       "      <td>2.0</td>\n",
       "      <td>4</td>\n",
       "      <td>6.0</td>\n",
       "    </tr>\n",
       "    <tr>\n",
       "      <th>5</th>\n",
       "      <td>1.0</td>\n",
       "      <td>7</td>\n",
       "      <td>6.0</td>\n",
       "    </tr>\n",
       "    <tr>\n",
       "      <th>6</th>\n",
       "      <td>5.0</td>\n",
       "      <td>2</td>\n",
       "      <td>2.0</td>\n",
       "    </tr>\n",
       "    <tr>\n",
       "      <th>7</th>\n",
       "      <td>NaN</td>\n",
       "      <td>2</td>\n",
       "      <td>9.0</td>\n",
       "    </tr>\n",
       "    <tr>\n",
       "      <th>8</th>\n",
       "      <td>NaN</td>\n",
       "      <td>6</td>\n",
       "      <td>NaN</td>\n",
       "    </tr>\n",
       "    <tr>\n",
       "      <th>9</th>\n",
       "      <td>NaN</td>\n",
       "      <td>3</td>\n",
       "      <td>NaN</td>\n",
       "    </tr>\n",
       "    <tr>\n",
       "      <th>10</th>\n",
       "      <td>NaN</td>\n",
       "      <td>6</td>\n",
       "      <td>NaN</td>\n",
       "    </tr>\n",
       "  </tbody>\n",
       "</table>\n",
       "</div>"
      ],
      "text/plain": [
       "    octopuses  robots  pandas\n",
       "0         2.0       5     7.0\n",
       "1         4.0       5     4.0\n",
       "2         7.0       3     6.0\n",
       "3         1.0       4     8.0\n",
       "4         2.0       4     6.0\n",
       "5         1.0       7     6.0\n",
       "6         5.0       2     2.0\n",
       "7         NaN       2     9.0\n",
       "8         NaN       6     NaN\n",
       "9         NaN       3     NaN\n",
       "10        NaN       6     NaN"
      ]
     },
     "execution_count": 2,
     "metadata": {},
     "output_type": "execute_result"
    }
   ],
   "source": [
    "# Let's load in the data and take a look\n",
    "df = pd.read_csv(\"data/pro.csv\")\n",
    "df.head(11)"
   ]
  },
  {
   "cell_type": "code",
   "execution_count": 6,
   "metadata": {
    "collapsed": true
   },
   "outputs": [],
   "source": [
    "# Let's iterate over the groups\n",
    "groups = [\"octopuses\", \"robots\", \"pandas\"]\n",
    "\n",
    "# We'll accumulate SSW and the ingredients for the grand mean\n",
    "SSW=0\n",
    "grandsum = 0\n",
    "grandn = 0\n",
    "for group in groups:\n",
    "    x = df[group].dropna()\n",
    "    xbar = np.mean(x)\n",
    "    SSW += np.sum((x-xbar)**2)\n",
    "    grandn += len(x)\n",
    "    grandsum += np.sum(x)\n",
    "\n",
    "# compute the grand mean\n",
    "grandmean = grandsum/grandn\n",
    "\n",
    "# Now let's accumulate SSB\n",
    "SSB = 0\n",
    "for group in groups:\n",
    "    x = df[group].dropna()\n",
    "    xbar = np.mean(x)\n",
    "    n = len(x)\n",
    "    SSB += n*np.sum((xbar - grandmean)**2)\n",
    "    \n",
    "# compute the dof.\n",
    "SSBdf = len(groups)-1\n",
    "SSWdf = grandn - len(groups)\n",
    "\n",
    "# compute our Fstatistic\n",
    "Fstat = (SSB/SSBdf) /  (SSW/SSWdf)"
   ]
  },
  {
   "cell_type": "code",
   "execution_count": 7,
   "metadata": {},
   "outputs": [
    {
     "name": "stdout",
     "output_type": "stream",
     "text": [
      "F (by hand)\t3.8887\n",
      "pval (by hand)\t0.0351\n"
     ]
    }
   ],
   "source": [
    "# Let's compute our pvalue\n",
    "pval = 1-stats.f.cdf(Fstat,SSBdf,SSWdf)\n",
    "\n",
    "print('F (by hand)\\t{:.4f}\\npval (by hand)\\t{:.4f}'.format(Fstat,pval))"
   ]
  },
  {
   "cell_type": "code",
   "execution_count": 8,
   "metadata": {},
   "outputs": [
    {
     "name": "stdout",
     "output_type": "stream",
     "text": [
      "F (scipy) \t3.8887\n",
      "pval (scipy)\t0.0351\n"
     ]
    }
   ],
   "source": [
    "F, p = stats.f_oneway(df['octopuses'].dropna(), df['robots'].dropna(), df['pandas'].dropna())\n",
    "print('F (scipy) \\t{:.4f}\\npval (scipy)\\t{:.4f}'.format(F,p))"
   ]
  },
  {
   "cell_type": "code",
   "execution_count": null,
   "metadata": {
    "collapsed": true
   },
   "outputs": [],
   "source": []
  },
  {
   "cell_type": "code",
   "execution_count": null,
   "metadata": {
    "collapsed": true
   },
   "outputs": [],
   "source": []
  }
 ],
 "metadata": {
  "kernelspec": {
   "display_name": "Python 3",
   "language": "python",
   "name": "python3"
  },
  "language_info": {
   "codemirror_mode": {
    "name": "ipython",
    "version": 3
   },
   "file_extension": ".py",
   "mimetype": "text/x-python",
   "name": "python",
   "nbconvert_exporter": "python",
   "pygments_lexer": "ipython3",
   "version": "3.6.3"
  }
 },
 "nbformat": 4,
 "nbformat_minor": 2
}
