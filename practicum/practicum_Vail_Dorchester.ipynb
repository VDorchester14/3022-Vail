{
 "cells": [
  {
   "cell_type": "markdown",
   "metadata": {},
   "source": [
    "# CSCI 3022: Intro to Data Science - Spring 2018 Practicum \n",
    "***\n",
    "- <span style=\"color:blue\">Version 1.01 - clarified problem 1B (in blue text).</span>\n",
    "- <span style=\"color:green\">Version 1.02 - clarified problem 1D (in green text).</span>\n",
    "- <span style=\"color:red\">Version 1.03 - clarified problem 2D (in red text).</span>\n",
    "\n",
    "\n",
    "This practicum is due on Moodle by **11:55pm on Wednesday May 2nd**. Your solutions to theoretical questions should be done in Markdown/MathJax directly below the associated question.  Your solutions to computational questions should include any specified Python code and results as well as written commentary on your conclusions.  \n",
    "\n",
    "**Here are the rules:** \n",
    "\n",
    "1. All work, code and analysis, must be your own. \n",
    "1. You may use your course notes, posted lecture slides, in-class notebooks, and homework solutions as resources.  You may also search online for answers to general knowledge questions like the form of a probability distribution function or how to perform a particular operation in Python/Pandas. \n",
    "2. You may **NOT** post to message boards or other online resources asking for help. \n",
    "3. You may **NOT** collaborate with classmates or anyone else.  \n",
    "\n",
    "Violation of the above rules will result in an **F** in the course and a trip to Honor Council. \n",
    "\n",
    "***\n",
    "\n",
    "**By writing your name below you agree to abide by the rules given above:**\n",
    "\n",
    "**Name**: Vail Dorchester\n",
    "\n",
    "***\n",
    "\n",
    "\n",
    "**NOTES**: \n",
    "\n",
    "- You may not use late days on the practicum nor can you drop your practicum grade. \n",
    "- If you have a question for Chris and Dan, post it as a **PRIVATE** message on Piazza.  If we decide that the question is appropriate for the entire class we will make the post public (and anonymous). \n",
    "- Do **NOT** load or use any Python packages that are not available in Anaconda 3.6. \n",
    "- Some problems with code may be autograded.  If we provide a function API **do not** change it.  If we do not provide a function API then you're free to structure your code however you like. \n",
    "- Submit only this Jupyter notebook to Moodle.  Do not compress it using tar, rar, zip, etc. "
   ]
  },
  {
   "cell_type": "code",
   "execution_count": 2,
   "metadata": {},
   "outputs": [
    {
     "name": "stderr",
     "output_type": "stream",
     "text": [
      "C:\\Users\\Vail Dorchester\\Anaconda3\\lib\\site-packages\\statsmodels\\compat\\pandas.py:56: FutureWarning: The pandas.core.datetools module is deprecated and will be removed in a future version. Please use the pandas.tseries module instead.\n",
      "  from pandas.core import datetools\n"
     ]
    }
   ],
   "source": [
    "import numpy as np\n",
    "import matplotlib.pylab as plt\n",
    "import pandas as pd\n",
    "from scipy import stats\n",
    "import math\n",
    "from matplotlib import collections  as mc\n",
    "import statsmodels.api as sm \n",
    "%matplotlib inline"
   ]
  },
  {
   "cell_type": "markdown",
   "metadata": {},
   "source": [
    "### [35 points] Problem 1: Malaria Parasite Problems\n",
    "***\n",
    "\n",
    "Malaria parasites are very good at evading the immune system. Each parasite's genome has 60 different versions of a key immune evasion gene, so that when you get malaria, instead of simply getting sick and then getting better, the parasite switches among its 60 genes, sequentially, thereby changing its camouflage over and over and over. This is one of the reasons that malaria is still a huge problem today: you never develop a really strong immunity to the overall parasite population, due to its huge genetic diversity. You can read more about this [here](https://www.quantamagazine.org/networks-untangle-malarias-deadly-shuffle-20151015/) if you like. \n",
    "\n",
    "Here we are concerned with helping out lab scientists in desigining and evaluating their genetic sequencing experiments which target _var_ genes. The setup is as follows:\n",
    "\n",
    "* Each parasite has a repertoire of 60 different \"var\" genes.\n",
    "* A process called PCR is applied to a parasite genome. If PCR is successful, we get the sequence of one of the var genes, drawn at random from the repertoire of 60. However, PCR might not be successful at all, in which case we get nothing. Let the probability that a PCR attempt fails be equal to $f$. \n",
    "* In other words, with probability $f$, PCR yields nothing. With probability $1-f$, PCR produces a var gene sequence, and this sequence is chosen uniformly at random from among the total 60 var genes. \n",
    "* Importantly, PCR _does not deplete the DNA in the sample_, meaning that if one repeats the PCR process, the stochastic process described above takes place again, independently of the outcome of the previous PCR.\n",
    "* In other words, a repeated PCR might fail, or it might succeed. And, if it succeeds, the same gene might be sequenced _or_ a different one of the 60 genes might be sequenced.\n",
    "* To be clear: repeating PCR might sample a previously sampled gene, or it might sample another one of the 60. Then again, any individual PCR fails with probability $f$."
   ]
  },
  {
   "cell_type": "markdown",
   "metadata": {},
   "source": [
    "**Part A**: Suppose you have the budget to do $r$ PCR replicates (i.e. $r$ indepedent PCR trials). Let $k$ be the number of PCRs that are successful. Since $k$ is a random variable, what is the name of its distribution? What is the expected value of $k$, and how does it depend on $r$? What is the standard deviation of $k$?"
   ]
  },
  {
   "cell_type": "markdown",
   "metadata": {},
   "source": [
    "This follows a binomial distribution because the PCR process can either be successful or it can fail. The expected value is $E[x] = r(1-f)$, which scales linearly with the number of trials $r$. It is the probability of success multiplied by the number of trials. The variance is $Var[x] = r(1-f)f$, which is the probability of succes times the probability of failure times the number of trials. This yields a standard deviation of $\\sigma = \\sqrt{r(1-f)f}$"
   ]
  },
  {
   "cell_type": "markdown",
   "metadata": {},
   "source": [
    "**Part B**: Write a function called `draw_pcr_samples(r,f,var_repertoire)` that makes $r$ repeated attemps at PCR, each with independent probability of failure $f$. This code must return a list of the successfully sequenced var genes. For your convenience, please use the list `var_repertoire` below as the 60 possible var genes that are being sampled. <span style=\"color:blue\">When written correctly, the output of this code will change each time, depending on the success or failure of each PCR, and which var gene is chosen. To examine the output of your function, please repeatedly call it under three different conditions, and produce the following histograms: </span>\n",
    "* <span style=\"color:blue\">distribution of the</span> number of unique var genes sampled for $r=48$ and $f=0$. Make this histogram `blue`.\n",
    "* <span style=\"color:blue\">distribution of the</span> number of unique var genes sampled for $r=60$ and $f=0.2$. Make this histogram `green`.\n",
    "* <span style=\"color:blue\">distribution of the</span> number of unique var genes sampled for $r=120$ and $f=0.6$. Make this histogram `gold`."
   ]
  },
  {
   "cell_type": "code",
   "execution_count": 74,
   "metadata": {
    "collapsed": true
   },
   "outputs": [],
   "source": [
    "var_repertoire = ['a','b','c','d','e','f','g','h','i','j','k','l','m','n','o','p','q',\n",
    "                  'r','s','t','u','v','w','x','y','z','A','B','C','D','E','F','G','H',\n",
    "                 'I','J','K','L','M','N','O','P','Q','R','S','T','U','V','W','X','Y','Z',\n",
    "                 'π','ø','ß','∆','ç','Ω','µ','∞']"
   ]
  },
  {
   "cell_type": "code",
   "execution_count": 75,
   "metadata": {
    "collapsed": true
   },
   "outputs": [],
   "source": [
    "#a neato function\n",
    "def draw_pcr_samples(r, f, var_repertoire):\n",
    "    results = [] #i dunno just some stuff\n",
    "    genes = [] #denim lol\n",
    "    for i in range(r):\n",
    "        #switched f to 1-f because binomial takes the probability of succes\n",
    "        v = np.random.binomial(1, (1-f)) #Do a single bernoulli trial\n",
    "        results.append(v) #store results\n",
    "        if(v): #if PCR was successful\n",
    "            g = np.random.choice(var_repertoire) #get the gene\n",
    "            genes.append(g) #add it to the list of genes\n",
    "    return genes"
   ]
  },
  {
   "cell_type": "code",
   "execution_count": 100,
   "metadata": {
    "collapsed": true
   },
   "outputs": [],
   "source": [
    "#generating my samples\n",
    "f0 = draw_pcr_samples(48, 0, var_repertoire) #trial 1\n",
    "f2 = draw_pcr_samples(60, 0.2, var_repertoire) #trial 2\n",
    "f6 = draw_pcr_samples(120, 0.6, var_repertoire) #trial 3\n",
    "\n",
    "#y data for histograms. just holds the counts\n",
    "y1 = {}\n",
    "y2 = {}\n",
    "y3 = {}\n",
    "\n",
    "#go through each set\n",
    "for i, gene in enumerate(var_repertoire):\n",
    "    #using index to know which count goes to which gene\n",
    "    y1[gene] = (f0.count(gene))\n",
    "    y2[gene] = (f2.count(gene))\n",
    "    y3[gene] = (f6.count(gene))"
   ]
  },
  {
   "cell_type": "code",
   "execution_count": 101,
   "metadata": {},
   "outputs": [
    {
     "data": {
      "image/png": "[encoded data removed]",
      "text/plain": [
       "<matplotlib.figure.Figure at 0x2d5584713c8>"
      ]
     },
     "metadata": {},
     "output_type": "display_data"
    }
   ],
   "source": [
    "# Initialize figure subplots\n",
    "fig, axes = plt.subplots(nrows=3, ncols=1, figsize=(14,10))\n",
    "x = np.arange(60)\n",
    "\n",
    "#\n",
    "#\n",
    "#\n",
    "axes[0].bar(x, y1.values(), color='blue')\n",
    "axes[0].set_xticks(x, y1.keys())\n",
    "# Add titles and labels \n",
    "axes[0].set_title(\"Sequenced Gene Frequencies\", fontsize=20)\n",
    "axes[0].set_xlabel(\"Gene\", fontsize=16)\n",
    "axes[0].set_ylabel(\"Frequency\", fontsize=16)\n",
    "# Make grid lighter and set behind data\n",
    "axes[0].grid(alpha=0.25)\n",
    "axes[0].set_axisbelow(True)\n",
    "\n",
    "#\n",
    "#\n",
    "#\n",
    "axes[1].bar(x, y2.values(), color='green')\n",
    "axes[1].set_xticks(x, y1.keys())\n",
    "# Add titles and labels \n",
    "axes[1].set_title(\"Sequenced Gene Frequencies\", fontsize=20)\n",
    "axes[1].set_xlabel(\"Gene\", fontsize=16)\n",
    "axes[1].set_ylabel(\"Frequency\", fontsize=16)\n",
    "# Make grid lighter and set behind data\n",
    "axes[1].grid(alpha=0.25)\n",
    "axes[1].set_axisbelow(True)\n",
    "\n",
    "#\n",
    "#\n",
    "#\n",
    "axes[2].bar(x, y3.values(), color='gold')\n",
    "axes[2].set_xticks(x, y1.keys())\n",
    "# Add titles and labels \n",
    "axes[2].set_title(\"Sequenced Gene Frequencies\", fontsize=20)\n",
    "axes[2].set_xlabel(\"Gene\", fontsize=16)\n",
    "axes[2].set_ylabel(\"Frequency\", fontsize=16)\n",
    "# Make grid lighter and set behind data\n",
    "axes[2].grid(alpha=0.25)\n",
    "axes[2].set_axisbelow(True)\n",
    "\n",
    "#\n",
    "#\n",
    "#\n",
    "#\n",
    "axes[0].set_xlim([0,60])\n",
    "axes[1].set_xlim([0,60])\n",
    "axes[2].set_xlim([0,60])\n",
    "\n",
    "axes[0].set_ylim([0,10])\n",
    "axes[1].set_ylim([0,10])\n",
    "axes[2].set_ylim([0,10])\n",
    "\n",
    "# Adjust vertical space so titles/axis labels don't overlap \n",
    "fig.subplots_adjust(hspace=1)"
   ]
  },
  {
   "cell_type": "markdown",
   "metadata": {},
   "source": [
    "**Part C**: Use your calculations in Part A to write down the expected number of successful PCRs, $k$, for each of the three scenarios that you made histograms for in Part B. What do you notice? Write it in MarkDown. Then, examine the 3 histograms generated in Part B, and explain the relationship, if any, between the histograms and your expected $k$ calculations. If making calculations or annotating the histograms is helpful in your explanation, feel free to do so. "
   ]
  },
  {
   "cell_type": "markdown",
   "metadata": {},
   "source": [
    "Succeses is number of trials multiplied by probability for succes $1-f$<br>\n",
    "$$E[k] = (1-f)\\times r$$\n",
    "$$r = 48 \\quad f = 0 \\quad E[k] = 48$$\n",
    "$$r = 60 \\quad f = 0.2 \\quad E[k] = 48$$\n",
    "$$r = 120 \\quad f = 0.6 \\quad E[k] = 48$$"
   ]
  },
  {
   "cell_type": "markdown",
   "metadata": {},
   "source": [
    "The relationship I noticed is that with the given r and f values, the expected number of successes is the same for each set of PCR trials. The histograms reflect this well because it is somewhat easy to see that the total number of counts in each histogram is roughly equal. Also, if I call len(x) on each of my lists returned from the PCR function, we can confirm that they are pretty close to equal each time."
   ]
  },
  {
   "cell_type": "markdown",
   "metadata": {},
   "source": [
    "**Part D**: Lab scientists use what's called a _96-well plate_ to do experiments. A [96-well-plate](https://www.amazon.com/SEOH-Microplates-Well-Non-Sterile-Microchemistry/dp/B0088AR7Y6) is an 8-by-12 grid of little wells in which indepedent experiments can be conducted. Professor Amy Ferguson is wondering whether to dedicate a whole plate ($r=96$ independent PCR replicates) or a half plate ($r=48$ independent PCR replicates) to her PCR experiment. Or, she wonders whether she should use a different $r$ altogether. Use your code to simulate and compute answers to the following, assuming $f=0.1$:\n",
    "* In expectation, how many _unique_ genes are produced for $r=48$?\n",
    "* In expectation, how many _unique_ genes are produced for $r=96$?\n",
    "* If $r$ is large, then the chance that $55$ or more <span style=\"color:green\">_unique_</span> genes are sampled will increase. Professor Ferguson needs the probability that $55$ or more <span style=\"color:green\">_unique_</span> genes are sampled to be greater than 95%. What should $r$ be? Support your answer by creating a plot of <span style=\"color:green\">$P(\\text{at-least-55-unique-sampled} \\mid r)$</span> vs $r$."
   ]
  },
  {
   "cell_type": "code",
   "execution_count": 139,
   "metadata": {
    "collapsed": true
   },
   "outputs": [],
   "source": [
    "#get the average number of unique genes for a given r and f\n",
    "def n_unique(r, f, var_repertoire, n_trials=1000):\n",
    "    unique = [] # to store number of unique per trial\n",
    "    for i in range(n_trials): # do a bunch of trials\n",
    "        #basically calls the function, puts the returned list into a series\n",
    "        #and calls nunique on that\n",
    "        genes = draw_pcr_samples(r, f, var_repertoire)\n",
    "        unique.append(pd.Series(genes).nunique())\n",
    "    return np.mean(unique), np.std(unique)"
   ]
  },
  {
   "cell_type": "code",
   "execution_count": 140,
   "metadata": {
    "collapsed": true
   },
   "outputs": [],
   "source": [
    "un48, s48 = n_unique(48, 0.1, var_repertoire)\n",
    "un96, s96 = n_unique(96, 0.1, var_repertoire)"
   ]
  },
  {
   "cell_type": "code",
   "execution_count": 143,
   "metadata": {},
   "outputs": [
    {
     "name": "stdout",
     "output_type": "stream",
     "text": [
      "Expected number of unique genes for f = 0.1 and r = 48 : 30.93\n",
      "Expected number of unique genes for f = 0.1 and r = 96 : 45.91\n"
     ]
    }
   ],
   "source": [
    "print(\"Expected number of unique genes for f = 0.1 and r = 48 : {0:.4}\".format(un48))\n",
    "print(\"Expected number of unique genes for f = 0.1 and r = 96 : {0:.4}\".format(un96))"
   ]
  },
  {
   "cell_type": "markdown",
   "metadata": {},
   "source": [
    "Basically what I have chosen to do is get use the central limit theorem to get the mean and standard deviation for a given r, and I then passed that into the stats normal distribution and used the cumulative distribution function to find the probability that there are at 55 or fewer unique values. Knowing that we want to have a 95% probability of getting 55 or more, I incremented r until cdf(55) was only 0.05, so 95% of the time it will be equal or greater. Then for later use I turned this into a function"
   ]
  },
  {
   "cell_type": "code",
   "execution_count": 166,
   "metadata": {
    "collapsed": true
   },
   "outputs": [],
   "source": [
    "#returns r such that we get x or more unique genes a% of the time\n",
    "def r_required(x, a, f):\n",
    "    p = 1\n",
    "    r = 1\n",
    "    while(p>(1-a)):\n",
    "        mu, std = n_unique(r, f, var_repertoire)\n",
    "        p = stats.norm(mu, std).cdf(x)\n",
    "        #print(r, p)\n",
    "        if(p>=(1-a + 0.15)):\n",
    "            r+=20\n",
    "        elif(p>=(1-a+0.05)):\n",
    "            r+=2\n",
    "        else:\n",
    "            r+=1\n",
    "    return r"
   ]
  },
  {
   "cell_type": "code",
   "execution_count": 159,
   "metadata": {},
   "outputs": [
    {
     "name": "stdout",
     "output_type": "stream",
     "text": [
      "r needs to be roughly 210 to achieve 55 or more unique genes 95% of the time.\n"
     ]
    }
   ],
   "source": [
    "rr = r_required(55, 0.95, 0.1) #will print the r required to have 55 or more 95% of the time\n",
    "print(\"r needs to be roughly {0} to achieve 55 or more unique genes 95% of the time.\".format(rr))"
   ]
  },
  {
   "cell_type": "code",
   "execution_count": 153,
   "metadata": {
    "collapsed": true
   },
   "outputs": [],
   "source": [
    "#getting x and y for plot\n",
    "x = np.arange(1, 250, 5)\n",
    "y = []\n",
    "for r in x:\n",
    "    mu, std = n_unique(r, 0.1, var_repertoire)\n",
    "    p = stats.norm(mu, std).cdf(55)\n",
    "    y.append(1-p)"
   ]
  },
  {
   "cell_type": "code",
   "execution_count": 156,
   "metadata": {},
   "outputs": [
    {
     "data": {
      "image/png": "[encoded data removed]",
      "text/plain": [
       "<matplotlib.figure.Figure at 0x2d559191ba8>"
      ]
     },
     "metadata": {},
     "output_type": "display_data"
    }
   ],
   "source": [
    "fig, ax = plt.subplots(figsize=(8,4))\n",
    "plt.plot(x, y)\n",
    "ax.set_title(\"Probability that there are 55 or more unique genes vs r\")\n",
    "ax.set_xlabel(\"r\")\n",
    "ax.set_ylabel(\"P(n>=55)\")\n",
    "plt.show()"
   ]
  },
  {
   "cell_type": "markdown",
   "metadata": {},
   "source": [
    "This plot shows the probability that we get 55 or more unique genes vs r. We see that as r hits around 210, the probability of getting 55 or more unique samples reaches about 95%. To get a more accurate number, you'd probably want to increase the number of trials in my n_unique function, but alas, my computer will die if i do that. <br>\n",
    "Basically you need r to be around 210 though."
   ]
  },
  {
   "cell_type": "markdown",
   "metadata": {},
   "source": [
    "**Part E**: Bills, bills, bills. Professory Amy Ferguson has a decision to make about her lab budget. Here are some numbers:\n",
    "\n",
    "* Each 96-well plate costs \\$5 to buy. \n",
    "* The cheap PCR reagents cost $c=$\\$0.05 per well and fail with probability $f=0.3$.\n",
    "* The expensive PCR reagents cost $c=$\\$0.10 per well and fail with probability $f=0.1$.\n",
    "* The premium PCR reagents cost $c=$\\$0.20 per well and fail with probability $f=0.05$.\n",
    "\n",
    "Amy needs at least 50 unique sequences from a particular parasite genome for her experiment to be considered a success. She also knows that this whole PCR thing is a stochastic process, so while she might get 50 unique sequences in just $r=50$ attempts, that's going to be pretty rare. Still, increasing $r$ will increase the probability of success, i.e. of getting $\\geq50$ unique sequences. \n",
    "\n",
    "Turns out, she needs to success with probability of at least 0.95. She could achieve this using the cheap reagents, the expensive reagents, or the premium reagents. Naturally, she'd need to buy more of the cheaper reagents, but... the tradeoff isn't clear. \n",
    "\n",
    "Help! Which reagents should she choose? State your answer clearly as a recommendation, and explain why you recommend that. Use figures and calculations as necessary to support your case.\n",
    "\n",
    "You may assume:\n",
    "* A 96-well plate costs \\$5 even if fewer than 96 of the wells are actually used. For example, using 97 wells costs \\$10, since it uses two plates.\n",
    "* Reagents are billed on a per-well basis, not on a per-plate basis.\n",
    "* The goal is to sample 50 or more unique sequences 95\\% of the time or greater, but for as little money as possible."
   ]
  },
  {
   "cell_type": "code",
   "execution_count": 167,
   "metadata": {
    "collapsed": true
   },
   "outputs": [],
   "source": [
    "#defining my stuff\n",
    "plate_cost = 5\n",
    "\n",
    "#reagent costs\n",
    "crc = 0.05 #my naming convention is crc stands for cheap reagent cost and so on\n",
    "erc = 0.1\n",
    "prc = 0.2\n",
    "\n",
    "#reagent probabilities\n",
    "crf = 0.3 #cheap reagent fail\n",
    "erf = 0.1\n",
    "prf = 0.05"
   ]
  },
  {
   "cell_type": "code",
   "execution_count": 168,
   "metadata": {
    "collapsed": true
   },
   "outputs": [],
   "source": [
    "#naming convention is crr = cheap reagent r-required\n",
    "crr = r_required(50, 0.95, crf) #r required to get a success\n",
    "err = r_required(50, 0.95, erf) #r required to get a success\n",
    "prr = r_required(50, 0.95, prf) #r required to get a success"
   ]
  },
  {
   "cell_type": "code",
   "execution_count": 173,
   "metadata": {},
   "outputs": [
    {
     "name": "stdout",
     "output_type": "stream",
     "text": [
      "R required for cheap: 192\n",
      "R required for expensive: 149\n",
      "R required for premium: 142\n",
      "\n",
      "\n",
      "Cost using cheap reagent 19.6\n",
      "Cost using expensive reagent 24.9\n",
      "Cost using premium reagent 38.4\n"
     ]
    }
   ],
   "source": [
    "cheap_cost = (math.ceil(crr/96)*plate_cost) + (crr * crc)\n",
    "expen_cost = (math.ceil(err/96)*plate_cost) + (err * erc)\n",
    "premi_cost = (math.ceil(prr/96)*plate_cost) + (prr * prc)\n",
    "print(\"R required for cheap: {0}\".format(crr))\n",
    "print(\"R required for expensive: {}\".format(err))\n",
    "print(\"R required for premium: {0}\".format(prr))\n",
    "print('\\n')\n",
    "print(\"Cost using cheap reagent {0:.4}\".format(cheap_cost))\n",
    "print(\"Cost using expensive reagent {0:.4}\".format(expen_cost))\n",
    "print(\"Cost using premium reagent {0:.4}\".format(premi_cost))"
   ]
  },
  {
   "cell_type": "markdown",
   "metadata": {},
   "source": [
    "She should use the cheap reagents. The total cost would be smallest with those."
   ]
  },
  {
   "cell_type": "markdown",
   "metadata": {},
   "source": [
    "### [35 points] Problem 2: Parental Leave\n",
    "***\n",
    "\n",
    "The file `leave.tsv` is in the data folder. It contains information on paid parental leave policies for US and Canadian institutions for tenure-track professors. \n",
    "\n",
    "Answer the following questions and provide both _pseudocode_ and code for each question. In other words, in a #comment, explain what your code is doing in each step, and give the reader a brief hint as to why that's a good or necessary step. (This is what we mean by pseudocode.)  Then, provide the code that answers the question. \n",
    "\n",
    "Note that `pandas` is your friend here. Also, note that the researchers who assembled `leave.tsv` may have coded missing data in a variety of ways, so you'll need to explore the file to learn what those are. "
   ]
  },
  {
   "cell_type": "markdown",
   "metadata": {},
   "source": [
    "**Part A**: Figure out what a `.tsv` file is and how to load it in using `pandas`. Call your dataframe `dfLeave`. **Note** that, as in many real-life data science tasks, there is no code to import this file type in any of our in-class notebooks or homeworks; This step will require a web search."
   ]
  },
  {
   "cell_type": "markdown",
   "metadata": {},
   "source": [
    "Seems to be a tab separated value file. So just read csv with sep = '\\t'. this changes the delimiter to a tab"
   ]
  },
  {
   "cell_type": "code",
   "execution_count": 223,
   "metadata": {
    "collapsed": true
   },
   "outputs": [],
   "source": [
    "path = './data/leave.tsv'\n",
    "dfLeave = pd.read_csv(path, sep='\\t')"
   ]
  },
  {
   "cell_type": "code",
   "execution_count": 224,
   "metadata": {},
   "outputs": [
    {
     "data": {
      "text/html": [
       "<div>\n",
       "<style>\n",
       "    .dataframe thead tr:only-child th {\n",
       "        text-align: right;\n",
       "    }\n",
       "\n",
       "    .dataframe thead th {\n",
       "        text-align: left;\n",
       "    }\n",
       "\n",
       "    .dataframe tbody tr th {\n",
       "        vertical-align: top;\n",
       "    }\n",
       "</style>\n",
       "<table border=\"1\" class=\"dataframe\">\n",
       "  <thead>\n",
       "    <tr style=\"text-align: right;\">\n",
       "      <th></th>\n",
       "      <th>university_name</th>\n",
       "      <th>short_name</th>\n",
       "      <th>is_private</th>\n",
       "      <th>rank</th>\n",
       "      <th>rank_ind</th>\n",
       "      <th>census_region</th>\n",
       "      <th>missing</th>\n",
       "      <th>paid_leave_len_woman</th>\n",
       "      <th>paid_leave_len_woman_units</th>\n",
       "      <th>paid_leave_weeks_woman</th>\n",
       "      <th>relief_woman</th>\n",
       "      <th>paid_leave_len_man</th>\n",
       "      <th>paid_leave_len_man_units</th>\n",
       "      <th>paid_leave_weeks_man</th>\n",
       "      <th>relief_man</th>\n",
       "      <th>link</th>\n",
       "      <th>notes</th>\n",
       "      <th>date</th>\n",
       "    </tr>\n",
       "  </thead>\n",
       "  <tbody>\n",
       "    <tr>\n",
       "      <th>0</th>\n",
       "      <td>Arizona State University</td>\n",
       "      <td>Arizona State</td>\n",
       "      <td>0</td>\n",
       "      <td>108.72</td>\n",
       "      <td>101</td>\n",
       "      <td>West</td>\n",
       "      <td>0</td>\n",
       "      <td>6.0</td>\n",
       "      <td>week</td>\n",
       "      <td>6.0</td>\n",
       "      <td>Not specified</td>\n",
       "      <td>6.0</td>\n",
       "      <td>week</td>\n",
       "      <td>6.0</td>\n",
       "      <td>Not specified</td>\n",
       "      <td>https://provost.asu.edu/academic-personnel/par...</td>\n",
       "      <td>.</td>\n",
       "      <td>2/22/18</td>\n",
       "    </tr>\n",
       "    <tr>\n",
       "      <th>1</th>\n",
       "      <td>Auburn University</td>\n",
       "      <td>Auburn</td>\n",
       "      <td>0</td>\n",
       "      <td>126.69</td>\n",
       "      <td>122</td>\n",
       "      <td>South</td>\n",
       "      <td>0</td>\n",
       "      <td>0.0</td>\n",
       "      <td>NaN</td>\n",
       "      <td>0.0</td>\n",
       "      <td>NaN</td>\n",
       "      <td>0.0</td>\n",
       "      <td>NaN</td>\n",
       "      <td>0.0</td>\n",
       "      <td>NaN</td>\n",
       "      <td>https://cws.auburn.edu/shared/content/files/85/</td>\n",
       "      <td>FMLA</td>\n",
       "      <td>2/22/18</td>\n",
       "    </tr>\n",
       "    <tr>\n",
       "      <th>2</th>\n",
       "      <td>Boston University</td>\n",
       "      <td>Boston</td>\n",
       "      <td>1</td>\n",
       "      <td>51.73</td>\n",
       "      <td>44</td>\n",
       "      <td>Northeast</td>\n",
       "      <td>0</td>\n",
       "      <td>1.0</td>\n",
       "      <td>term</td>\n",
       "      <td>14.0</td>\n",
       "      <td>Other</td>\n",
       "      <td>1.0</td>\n",
       "      <td>term</td>\n",
       "      <td>14.0</td>\n",
       "      <td>Other</td>\n",
       "      <td>https://www.bu.edu/handbook/leaves-absences/fa...</td>\n",
       "      <td>Full semester for either parent, relief is FUL...</td>\n",
       "      <td>2/22/18</td>\n",
       "    </tr>\n",
       "    <tr>\n",
       "      <th>3</th>\n",
       "      <td>Brandeis University</td>\n",
       "      <td>Brandeis</td>\n",
       "      <td>1</td>\n",
       "      <td>84.55</td>\n",
       "      <td>78</td>\n",
       "      <td>Northeast</td>\n",
       "      <td>0</td>\n",
       "      <td>12.0</td>\n",
       "      <td>week</td>\n",
       "      <td>12.0</td>\n",
       "      <td>Not specified</td>\n",
       "      <td>12.0</td>\n",
       "      <td>week</td>\n",
       "      <td>12.0</td>\n",
       "      <td>Not specified</td>\n",
       "      <td>https://www.brandeis.edu/humanresources/docume...</td>\n",
       "      <td>.</td>\n",
       "      <td>2/22/18</td>\n",
       "    </tr>\n",
       "    <tr>\n",
       "      <th>4</th>\n",
       "      <td>Brigham Young University</td>\n",
       "      <td>Brigham Young</td>\n",
       "      <td>1</td>\n",
       "      <td>166.53</td>\n",
       "      <td>180</td>\n",
       "      <td>West</td>\n",
       "      <td>1</td>\n",
       "      <td>NaN</td>\n",
       "      <td>NaN</td>\n",
       "      <td>NaN</td>\n",
       "      <td>NaN</td>\n",
       "      <td>NaN</td>\n",
       "      <td>NaN</td>\n",
       "      <td>NaN</td>\n",
       "      <td>NaN</td>\n",
       "      <td>Not publicly accessible</td>\n",
       "      <td>Staff leave is 6wk</td>\n",
       "      <td>2/22/18</td>\n",
       "    </tr>\n",
       "  </tbody>\n",
       "</table>\n",
       "</div>"
      ],
      "text/plain": [
       "            university_name     short_name  is_private    rank  rank_ind  \\\n",
       "0  Arizona State University  Arizona State           0  108.72       101   \n",
       "1         Auburn University         Auburn           0  126.69       122   \n",
       "2         Boston University         Boston           1   51.73        44   \n",
       "3       Brandeis University       Brandeis           1   84.55        78   \n",
       "4  Brigham Young University  Brigham Young           1  166.53       180   \n",
       "\n",
       "  census_region  missing  paid_leave_len_woman paid_leave_len_woman_units  \\\n",
       "0          West        0                   6.0                       week   \n",
       "1         South        0                   0.0                        NaN   \n",
       "2     Northeast        0                   1.0                       term   \n",
       "3     Northeast        0                  12.0                       week   \n",
       "4          West        1                   NaN                        NaN   \n",
       "\n",
       "   paid_leave_weeks_woman   relief_woman  paid_leave_len_man  \\\n",
       "0                     6.0  Not specified                 6.0   \n",
       "1                     0.0            NaN                 0.0   \n",
       "2                    14.0          Other                 1.0   \n",
       "3                    12.0  Not specified                12.0   \n",
       "4                     NaN            NaN                 NaN   \n",
       "\n",
       "  paid_leave_len_man_units  paid_leave_weeks_man     relief_man  \\\n",
       "0                     week                   6.0  Not specified   \n",
       "1                      NaN                   0.0            NaN   \n",
       "2                     term                  14.0          Other   \n",
       "3                     week                  12.0  Not specified   \n",
       "4                      NaN                   NaN            NaN   \n",
       "\n",
       "                                                link  \\\n",
       "0  https://provost.asu.edu/academic-personnel/par...   \n",
       "1    https://cws.auburn.edu/shared/content/files/85/   \n",
       "2  https://www.bu.edu/handbook/leaves-absences/fa...   \n",
       "3  https://www.brandeis.edu/humanresources/docume...   \n",
       "4                            Not publicly accessible   \n",
       "\n",
       "                                               notes     date  \n",
       "0                                                  .  2/22/18  \n",
       "1                                               FMLA  2/22/18  \n",
       "2  Full semester for either parent, relief is FUL...  2/22/18  \n",
       "3                                                  .  2/22/18  \n",
       "4                                 Staff leave is 6wk  2/22/18  "
      ]
     },
     "execution_count": 224,
     "metadata": {},
     "output_type": "execute_result"
    }
   ],
   "source": [
    "dfLeave.head()"
   ]
  },
  {
   "cell_type": "markdown",
   "metadata": {},
   "source": [
    "**Part B**: Answer the following summary questions:\n",
    "* How many institutions are in the dataset? \n",
    "* How many actually have parental leave data in the `paid_leave_len_woman` column? \n",
    "* How many private institutions are there? \n",
    "* How many institutions have a note associated with them?"
   ]
  },
  {
   "cell_type": "markdown",
   "metadata": {},
   "source": [
    "For pseudocode, This is basically just using loc to index the data to get each answer. shape[0] returns the number of columns which is usually what was asked (number of universities with x)"
   ]
  },
  {
   "cell_type": "code",
   "execution_count": 239,
   "metadata": {
    "collapsed": true
   },
   "outputs": [],
   "source": [
    "n1 = dfLeave['university_name'].nunique()\n",
    "n2 = dfLeave[dfLeave['paid_leave_len_woman'].notnull()].shape[0]\n",
    "n3 = dfLeave.loc[dfLeave['is_private']==1].shape[0]\n",
    "n4 = dfLeave.loc[dfLeave.notes!='.'].shape[0]"
   ]
  },
  {
   "cell_type": "code",
   "execution_count": 240,
   "metadata": {},
   "outputs": [
    {
     "name": "stdout",
     "output_type": "stream",
     "text": [
      "There are 205 institutions\n",
      "197 have data in the paid_leave_len_woman column\n",
      "53 are private\n",
      "174 have notes\n"
     ]
    }
   ],
   "source": [
    "print(\"There are {0} institutions\".format(n1))\n",
    "print(\"{0} have data in the paid_leave_len_woman column\".format(n2))\n",
    "print(\"{0} are private\".format(n3))\n",
    "print(\"{0} have notes\".format(n4))"
   ]
  },
  {
   "cell_type": "markdown",
   "metadata": {},
   "source": [
    "**Part C**: Is there statistical evidence at the $\\alpha=0.05$ level that public and private institutions have different _average paid parental leave durations_? Answer the question separately for men and for women. Note that the researchers have conveniently included a column that converts durations into weeks so that policies can be compared across institutions, even if some are on semesters or quarters, etc. "
   ]
  },
  {
   "cell_type": "markdown",
   "metadata": {},
   "source": [
    "Basically, I slice the frame into private and public, then make series for men and women at private and public, and then calculate the deviations and means. Then i'm going to put them into hypothesis tests but that will likely be in a lower cell."
   ]
  },
  {
   "cell_type": "code",
   "execution_count": 241,
   "metadata": {
    "collapsed": true
   },
   "outputs": [],
   "source": [
    "#slice the frame\n",
    "public = dfLeave.loc[dfLeave['is_private']==0]\n",
    "private = dfLeave.loc[dfLeave['is_private']==1]\n",
    "\n",
    "#Getting the leave times for men and women\n",
    "puw_leave = public['paid_leave_weeks_woman']\n",
    "pum_leave = public['paid_leave_weeks_man']\n",
    "prw_leave = private['paid_leave_weeks_woman']\n",
    "prm_leave = private['paid_leave_weeks_man']\n",
    "\n",
    "#Getting means and standard deviations\n",
    "#for naming, pu means public, pr private, w women, m men, u is mean, s is std\n",
    "puwu = puw_leave.mean() #public women mean\n",
    "pumu = pum_leave.mean() #public men mean\n",
    "prwu = prw_leave.mean() #private women mean\n",
    "prmu = prm_leave.mean() #private men mean\n",
    "\n",
    "#deviations\n",
    "puws = puw_leave.std() #public women mean\n",
    "pums = pum_leave.std() #public men mean\n",
    "prws = prw_leave.std() #private women mean\n",
    "prms = prm_leave.std() #private men mean\n",
    "\n",
    "#getting n\n",
    "puwn = np.sum(puw_leave)\n",
    "pumn = np.sum(pum_leave)\n",
    "prwn = np.sum(prw_leave)\n",
    "prmn = np.sum(prm_leave)"
   ]
  },
  {
   "cell_type": "markdown",
   "metadata": {},
   "source": [
    "Hypotheses for Men:<br>\n",
    "$H_0: \\mu_{public} - \\mu_{private} = 0 \\\\ H_1: \\mu_{public} - \\mu_{private} \\neq 0 $<br>\n",
    "Hypotheses for Women:<br>\n",
    "$H_0: \\mu_{public} - \\mu_{private} = 0 \\\\ H_1: \\mu_{public} - \\mu_{private} \\neq 0 $<br>\n",
    "I guess I'm gonna use a two-tailed P-value test. Will reject the null hypothesis if p < 0.05 where $ p = 2 \\times \\min\\{\\Phi(Z), 1-\\Phi(Z)\\} $"
   ]
  },
  {
   "cell_type": "code",
   "execution_count": 242,
   "metadata": {
    "collapsed": true
   },
   "outputs": [],
   "source": [
    "#for men\n",
    "men_se = np.sqrt((pums**2)/pumn + (prms**2)/prmn)\n",
    "men_z = (pumu - prmu)/men_se \n",
    "men_p = 2*np.min([stats.norm.cdf(men_z), 1-stats.norm.cdf(men_z)])\n",
    "\n",
    "#for women\n",
    "women_se = np.sqrt((puws**2)/puwn + (prws**2)/prwn)\n",
    "women_z = (puwu - prwu)/women_se \n",
    "women_p = 2*np.min([stats.norm.cdf(women_z), 1-stats.norm.cdf(women_z)])"
   ]
  },
  {
   "cell_type": "code",
   "execution_count": 243,
   "metadata": {},
   "outputs": [
    {
     "name": "stdout",
     "output_type": "stream",
     "text": [
      "P value for difference between means for men 5.751747907939993e-11\n",
      "P value for difference between means for women 1.1483636634109926e-08\n"
     ]
    }
   ],
   "source": [
    "print(\"P value for difference between means for men {0}\".format(men_p))\n",
    "print(\"P value for difference between means for women {0}\".format(women_p))"
   ]
  },
  {
   "cell_type": "markdown",
   "metadata": {},
   "source": [
    "We are able to reject both null hypotheses because both p-values are below our alpha value. So, we can say at the $\\alpha = 0.05$ level that there is a difference between the mean leave time granted to men at public universities and leave time granted to men at private universities. We can also say the same about leave time granted to women at public and private universities."
   ]
  },
  {
   "cell_type": "markdown",
   "metadata": {},
   "source": [
    "**Part D**: Some institutions provide zero weeks of paid parental leave. For each `census_region` in the dataset, create a 95% confidence interval for the _proportion of universities that offer zero paid parental leave to their professors_. <span style=\"color:red\">Since a policy may offer paid parental leave to men, women, both, or neither, please consider a policy that offers any paid parental leave to men _or_ women _or_ both to qualify as non-zero paid parental leave. For example, a university that offers women 6 weeks and men 0 weeks _does_ qualify as a non-zero paid parental leave policy</span>. Based on your observations, is there evidence that policies vary significantly by census region? \n",
    "\n",
    "Please note that the number of data points varies from one census region to another, and therefore, different methods may be required to compute confidence intervals for the proportions in different census regions. _Clearly_ state which methods were used to create each confidence interval.\n",
    "\n",
    "For clarity, please plot your confidence intervals as vertical bars in a single plot. From left to right, please plot in the order `Canada`, `Northeast`, `Midwest`,`South`, `West`."
   ]
  },
  {
   "cell_type": "markdown",
   "metadata": {},
   "source": [
    "First I'm going to create a column called total leave. If it is zero, we know that that university does not offer paid leave. If it is Nan, we know that either the men or the women or both fields were missing, because a number plus Nan is Nan. Since Nan's aren't helpful, I'll ignore rows where total_leave is Nan, then group by region. probably gonna have to bootstrap for the Canadian region because there are only 19 samples total. Looking back, I think I way overcomplicated this with all the new dataframes, but I kinda just went with it."
   ]
  },
  {
   "cell_type": "code",
   "execution_count": 290,
   "metadata": {
    "collapsed": true
   },
   "outputs": [],
   "source": [
    "#adding total leave\n",
    "dfLeave['total_leave'] = dfLeave['paid_leave_weeks_woman'] + dfLeave['paid_leave_weeks_man']\n",
    "\n",
    "#dropping where leave is nan, then grouping by census region\n",
    "#I then apply a lambda function to each group to get the number of\n",
    "#universities with no pay per region. Probs gonna use value_counts\n",
    "#to get the number of universities per region.\n",
    "uni_per_region = dfLeave.dropna(subset=['total_leave']).census_region.value_counts()\n",
    "noleave_per_region = dfLeave.dropna(subset=['total_leave']).groupby('census_region').apply(lambda df: df.loc[df['total_leave']==0].shape[0])"
   ]
  },
  {
   "cell_type": "code",
   "execution_count": 291,
   "metadata": {},
   "outputs": [
    {
     "data": {
      "text/html": [
       "<div>\n",
       "<style>\n",
       "    .dataframe thead tr:only-child th {\n",
       "        text-align: right;\n",
       "    }\n",
       "\n",
       "    .dataframe thead th {\n",
       "        text-align: left;\n",
       "    }\n",
       "\n",
       "    .dataframe tbody tr th {\n",
       "        vertical-align: top;\n",
       "    }\n",
       "</style>\n",
       "<table border=\"1\" class=\"dataframe\">\n",
       "  <thead>\n",
       "    <tr style=\"text-align: right;\">\n",
       "      <th></th>\n",
       "      <th>census_region</th>\n",
       "      <th>no_leave</th>\n",
       "      <th>total</th>\n",
       "      <th>proportion</th>\n",
       "    </tr>\n",
       "  </thead>\n",
       "  <tbody>\n",
       "    <tr>\n",
       "      <th>0</th>\n",
       "      <td>Canada</td>\n",
       "      <td>3</td>\n",
       "      <td>19</td>\n",
       "      <td>0.157895</td>\n",
       "    </tr>\n",
       "    <tr>\n",
       "      <th>1</th>\n",
       "      <td>Midwest</td>\n",
       "      <td>16</td>\n",
       "      <td>38</td>\n",
       "      <td>0.421053</td>\n",
       "    </tr>\n",
       "    <tr>\n",
       "      <th>2</th>\n",
       "      <td>Northeast</td>\n",
       "      <td>13</td>\n",
       "      <td>44</td>\n",
       "      <td>0.295455</td>\n",
       "    </tr>\n",
       "    <tr>\n",
       "      <th>3</th>\n",
       "      <td>South</td>\n",
       "      <td>32</td>\n",
       "      <td>58</td>\n",
       "      <td>0.551724</td>\n",
       "    </tr>\n",
       "    <tr>\n",
       "      <th>4</th>\n",
       "      <td>West</td>\n",
       "      <td>12</td>\n",
       "      <td>38</td>\n",
       "      <td>0.315789</td>\n",
       "    </tr>\n",
       "  </tbody>\n",
       "</table>\n",
       "</div>"
      ],
      "text/plain": [
       "  census_region  no_leave  total  proportion\n",
       "0        Canada         3     19    0.157895\n",
       "1       Midwest        16     38    0.421053\n",
       "2     Northeast        13     44    0.295455\n",
       "3         South        32     58    0.551724\n",
       "4          West        12     38    0.315789"
      ]
     },
     "execution_count": 291,
     "metadata": {},
     "output_type": "execute_result"
    }
   ],
   "source": [
    "#sort them\n",
    "uni_per_region.sort_index(inplace=True)\n",
    "noleave_per_region.sort_index(inplace=True)\n",
    "#make a new dataframe out of these\n",
    "info = {'total':uni_per_region, 'no_leave':noleave_per_region} #dict\n",
    "df = pd.DataFrame(data=info).reset_index() #make dict into frame\n",
    "df['proportion'] = df['no_leave'] / df['total'] #get proportions\n",
    "df.head()"
   ]
  },
  {
   "cell_type": "code",
   "execution_count": 326,
   "metadata": {
    "collapsed": true
   },
   "outputs": [],
   "source": [
    "#now actually getting the intervals. i'll do canada later since n<30\n",
    "a = 0.05\n",
    "z = 1.96\n",
    "\n",
    "#i'll just overwrite canada's later\n",
    "df['interval'] = z * np.sqrt((df['proportion']*(1-df['proportion']))/df['total'])\n",
    "\n",
    "#now bootstrap for canada. Going to make a separate list to preserve my frame\n",
    "#and bootsrap off of that. There's 19 total, 3 have no leave, so I'll\n",
    "#represent it as a list of binary values\n",
    "canada = [0]*19 #init all to 0\n",
    "canada[0] = canada[1] = canada[2] = 1 #set the 3 to 1\n",
    "num = 5000 #number of bootstraps\n",
    "\n",
    "#this will give me a 2d array where each row is a resample i can iterate over\n",
    "b = np.array([np.random.choice(canada, replace=True, size=len(canada)) for ii in range(num)])\n",
    "prop = [] #init\n",
    "n = len(canada) #save some compute time\n",
    "for resample in b: #get all proportions\n",
    "    prop.append(np.sum(resample)/n)\n",
    "cp = df.loc[df['census_region']=='Canada', 'proportion'] = np.mean(prop) #add to can\n",
    "\n",
    "#getting upper and lower\n",
    "cU, cL = np.percentile(prop, 97.5), np.percentile(prop, 2.5)\n",
    "nU, nL = df.loc[df['census_region']=='Northeast', 'proportion'] + df.loc[df['census_region']=='Northeast', 'interval'], df.loc[df['census_region']=='Northeast', 'proportion'] - df.loc[df['census_region']=='Northeast', 'interval']\n",
    "mU, mL = df.loc[df['census_region']=='Midwest', 'proportion'] + df.loc[df['census_region']=='Midwest', 'interval'], df.loc[df['census_region']=='Midwest', 'proportion'] - df.loc[df['census_region']=='Midwest', 'interval']\n",
    "sU, sL = df.loc[df['census_region']=='South', 'proportion'] + df.loc[df['census_region']=='South', 'interval'], df.loc[df['census_region']=='South', 'proportion'] - df.loc[df['census_region']=='South', 'interval']\n",
    "wU, wL = df.loc[df['census_region']=='West', 'proportion'] + df.loc[df['census_region']=='West', 'interval'], df.loc[df['census_region']=='West', 'proportion'] - df.loc[df['census_region']=='West', 'interval']"
   ]
  },
  {
   "cell_type": "markdown",
   "metadata": {},
   "source": [
    "Here i used a line collection to  make it easier to plot"
   ]
  },
  {
   "cell_type": "code",
   "execution_count": 327,
   "metadata": {},
   "outputs": [
    {
     "data": {
      "image/png": "[encoded data removed]",
      "text/plain": [
       "<matplotlib.figure.Figure at 0x2d559163be0>"
      ]
     },
     "metadata": {},
     "output_type": "display_data"
    }
   ],
   "source": [
    "#now after that super unecessary dataframe manipulation, plotting.\n",
    "\n",
    "lines = [[(1, cL),(1, cU)],[(2,nL),(2,nU)],[(3,mL),(3,mU)],[(4,sL),(4,sU)],[(5,wL),(5,wU)]]\n",
    "co = np.array([(0,0,1,1),(0,0,1,1),(0,0,1,1),(0,0,1,1),(0,0,1,1)])\n",
    "linec = mc.LineCollection(lines, colors=co, linewidths=3)\n",
    "labels = np.array(['Canada','Northeast','Midwest','South','West'])\n",
    "\n",
    "fig, ax = plt.subplots(figsize=(8,4))\n",
    "ax.add_collection(linec)\n",
    "ax.set_xlim(-0.5, 6)\n",
    "ax.set_ylim(-0.5, 1)\n",
    "ax.set_title(\"Confidence Intervals For Proportions of Unis That Offer No Paid Leave Per Region\")\n",
    "ax.set_xlabel(\"Region\")\n",
    "ax.set_ylabel(\"Proportion\")\n",
    "plt.xticks([1,2,3,4,5], labels)\n",
    "ax.grid()\n",
    "ax.legend()\n",
    "plt.show()"
   ]
  },
  {
   "cell_type": "markdown",
   "metadata": {},
   "source": [
    "### [30 points] Problem 3: Multiple Linear Otter-gression \n",
    "***\n",
    "\n",
    "After years of study and professional development, you have finally landed your dream job as lead otter scientist.  It is a [dream job](https://www.youtube.com/watch?v=IXFqLIBHm-E). As your first project, you wish to use multiple linear regression to understand and predict what makes otters Instagrammable, as measured during many observations of otters, conducted by students.  Luckily, your predecessor has collected lots of data that might prove relevant.  You'll find this data in the file `otters.csv`. \n",
    "\n",
    "**Response**: \n",
    "\n",
    "- $\\texttt{instagrammability}$: The instagrammability of a particular otter, measured by a complicated formula involving likes, comments, DMs, reposts, and new followers.\n",
    "\n",
    "**Features**: \n",
    "\n",
    "- $\\texttt{urchin color}$: the depth of color of the urchins nearby, measured in Wongs. \n",
    "- $\\texttt{fur fluff}$: the fluff factor of the otter's fur, measured in Ketelsens.\n",
    "- $\\texttt{adorbz}$: unknown variable. The students keep writing it down. Units unknown.\n",
    "- $\\texttt{temp}$: the outside temperature, measured in degrees Fahrenheit \n",
    "- $\\texttt{majesty}$: the majesty of this particular otter in this particular photo, measured as a fraction of maximum majesty (between 0 and 1). \n",
    "- $\\texttt{observer GPA}$: the GPA of the student who recorded the data.\n",
    "- $\\texttt{paw size}$: measured as some kind of deviation away from the median paw size. Units unknown.\n",
    "- $\\texttt{paw grip}$: grip strength of paw (estimated) measured in Grochows. \n",
    "- $\\texttt{ice cream sold}$: the number of units of ice cream sold at Etai's\n",
    "- $\\texttt{shark attacks}$: the number of shark attacks at the Boulder Res on the day of observation\n"
   ]
  },
  {
   "cell_type": "code",
   "execution_count": null,
   "metadata": {
    "collapsed": true
   },
   "outputs": [],
   "source": []
  },
  {
   "cell_type": "markdown",
   "metadata": {},
   "source": [
    "**Part A**: Read the data from **otters.csv** into a Pandas DataFrame and clean the data.  Note that since we will be doing a multiple linear regression we will need all of the features, so you should drop any row in the DataFrame that is missing data.  "
   ]
  },
  {
   "cell_type": "markdown",
   "metadata": {},
   "source": [
    "Simply importing, dropping, and showing the head to check. I then ran a lambda function over the string rows to format them."
   ]
  },
  {
   "cell_type": "code",
   "execution_count": 4,
   "metadata": {},
   "outputs": [
    {
     "data": {
      "text/html": [
       "<div>\n",
       "<style>\n",
       "    .dataframe thead tr:only-child th {\n",
       "        text-align: right;\n",
       "    }\n",
       "\n",
       "    .dataframe thead th {\n",
       "        text-align: left;\n",
       "    }\n",
       "\n",
       "    .dataframe tbody tr th {\n",
       "        vertical-align: top;\n",
       "    }\n",
       "</style>\n",
       "<table border=\"1\" class=\"dataframe\">\n",
       "  <thead>\n",
       "    <tr style=\"text-align: right;\">\n",
       "      <th></th>\n",
       "      <th>instagrammability</th>\n",
       "      <th>urchin color</th>\n",
       "      <th>fur fluff</th>\n",
       "      <th>adorbz</th>\n",
       "      <th>temp</th>\n",
       "      <th>majesty</th>\n",
       "      <th>observer GPA</th>\n",
       "      <th>paw size</th>\n",
       "      <th>paw grip</th>\n",
       "      <th>ice cream sold</th>\n",
       "      <th>shark attacks</th>\n",
       "    </tr>\n",
       "  </thead>\n",
       "  <tbody>\n",
       "    <tr>\n",
       "      <th>0</th>\n",
       "      <td>138.70</td>\n",
       "      <td>89.1ƭ</td>\n",
       "      <td>6.8ɭ</td>\n",
       "      <td>263.0</td>\n",
       "      <td>62℉</td>\n",
       "      <td>1.00</td>\n",
       "      <td>2.04</td>\n",
       "      <td>0.0</td>\n",
       "      <td>25.0</td>\n",
       "      <td>196.0</td>\n",
       "      <td>3.0</td>\n",
       "    </tr>\n",
       "    <tr>\n",
       "      <th>1</th>\n",
       "      <td>121.87</td>\n",
       "      <td>93.4ƭ</td>\n",
       "      <td>8.0ɭ</td>\n",
       "      <td>264.0</td>\n",
       "      <td>63℉</td>\n",
       "      <td>1.00</td>\n",
       "      <td>2.69</td>\n",
       "      <td>-4.0</td>\n",
       "      <td>21.0</td>\n",
       "      <td>189.0</td>\n",
       "      <td>1.0</td>\n",
       "    </tr>\n",
       "    <tr>\n",
       "      <th>2</th>\n",
       "      <td>117.31</td>\n",
       "      <td>85.9ƭ</td>\n",
       "      <td>7.6ɭ</td>\n",
       "      <td>243.0</td>\n",
       "      <td>55℉</td>\n",
       "      <td>0.84</td>\n",
       "      <td>3.17</td>\n",
       "      <td>-2.0</td>\n",
       "      <td>11.0</td>\n",
       "      <td>219.0</td>\n",
       "      <td>0.0</td>\n",
       "    </tr>\n",
       "    <tr>\n",
       "      <th>3</th>\n",
       "      <td>80.69</td>\n",
       "      <td>89.1ƭ</td>\n",
       "      <td>6.0ɭ</td>\n",
       "      <td>260.0</td>\n",
       "      <td>52℉</td>\n",
       "      <td>0.73</td>\n",
       "      <td>2.13</td>\n",
       "      <td>-13.0</td>\n",
       "      <td>107.0</td>\n",
       "      <td>101.0</td>\n",
       "      <td>0.0</td>\n",
       "    </tr>\n",
       "    <tr>\n",
       "      <th>4</th>\n",
       "      <td>127.52</td>\n",
       "      <td>94.6ƭ</td>\n",
       "      <td>8.1ɭ</td>\n",
       "      <td>251.0</td>\n",
       "      <td>57℉</td>\n",
       "      <td>0.89</td>\n",
       "      <td>2.40</td>\n",
       "      <td>-6.0</td>\n",
       "      <td>43.0</td>\n",
       "      <td>186.0</td>\n",
       "      <td>0.0</td>\n",
       "    </tr>\n",
       "  </tbody>\n",
       "</table>\n",
       "</div>"
      ],
      "text/plain": [
       "   instagrammability urchin color fur fluff  adorbz temp  majesty  \\\n",
       "0             138.70        89.1ƭ      6.8ɭ   263.0  62℉     1.00   \n",
       "1             121.87        93.4ƭ      8.0ɭ   264.0  63℉     1.00   \n",
       "2             117.31        85.9ƭ      7.6ɭ   243.0  55℉     0.84   \n",
       "3              80.69        89.1ƭ      6.0ɭ   260.0  52℉     0.73   \n",
       "4             127.52        94.6ƭ      8.1ɭ   251.0  57℉     0.89   \n",
       "\n",
       "   observer GPA  paw size  paw grip  ice cream sold  shark attacks  \n",
       "0          2.04       0.0      25.0           196.0            3.0  \n",
       "1          2.69      -4.0      21.0           189.0            1.0  \n",
       "2          3.17      -2.0      11.0           219.0            0.0  \n",
       "3          2.13     -13.0     107.0           101.0            0.0  \n",
       "4          2.40      -6.0      43.0           186.0            0.0  "
      ]
     },
     "execution_count": 4,
     "metadata": {},
     "output_type": "execute_result"
    }
   ],
   "source": [
    "path = './data/otters.csv'\n",
    "otters = pd.read_csv(path)\n",
    "otters.dropna(inplace=True)\n",
    "otters.head()"
   ]
  },
  {
   "cell_type": "code",
   "execution_count": 5,
   "metadata": {},
   "outputs": [
    {
     "data": {
      "text/html": [
       "<div>\n",
       "<style>\n",
       "    .dataframe thead tr:only-child th {\n",
       "        text-align: right;\n",
       "    }\n",
       "\n",
       "    .dataframe thead th {\n",
       "        text-align: left;\n",
       "    }\n",
       "\n",
       "    .dataframe tbody tr th {\n",
       "        vertical-align: top;\n",
       "    }\n",
       "</style>\n",
       "<table border=\"1\" class=\"dataframe\">\n",
       "  <thead>\n",
       "    <tr style=\"text-align: right;\">\n",
       "      <th></th>\n",
       "      <th>instagrammability</th>\n",
       "      <th>urchin color</th>\n",
       "      <th>fur fluff</th>\n",
       "      <th>adorbz</th>\n",
       "      <th>temp</th>\n",
       "      <th>majesty</th>\n",
       "      <th>observer GPA</th>\n",
       "      <th>paw size</th>\n",
       "      <th>paw grip</th>\n",
       "      <th>ice cream sold</th>\n",
       "      <th>shark attacks</th>\n",
       "    </tr>\n",
       "  </thead>\n",
       "  <tbody>\n",
       "    <tr>\n",
       "      <th>0</th>\n",
       "      <td>138.70</td>\n",
       "      <td>8</td>\n",
       "      <td>6</td>\n",
       "      <td>263.0</td>\n",
       "      <td>62</td>\n",
       "      <td>1.00</td>\n",
       "      <td>2.04</td>\n",
       "      <td>0.0</td>\n",
       "      <td>25.0</td>\n",
       "      <td>196.0</td>\n",
       "      <td>3.0</td>\n",
       "    </tr>\n",
       "    <tr>\n",
       "      <th>1</th>\n",
       "      <td>121.87</td>\n",
       "      <td>9</td>\n",
       "      <td>8</td>\n",
       "      <td>264.0</td>\n",
       "      <td>63</td>\n",
       "      <td>1.00</td>\n",
       "      <td>2.69</td>\n",
       "      <td>-4.0</td>\n",
       "      <td>21.0</td>\n",
       "      <td>189.0</td>\n",
       "      <td>1.0</td>\n",
       "    </tr>\n",
       "    <tr>\n",
       "      <th>2</th>\n",
       "      <td>117.31</td>\n",
       "      <td>8</td>\n",
       "      <td>7</td>\n",
       "      <td>243.0</td>\n",
       "      <td>55</td>\n",
       "      <td>0.84</td>\n",
       "      <td>3.17</td>\n",
       "      <td>-2.0</td>\n",
       "      <td>11.0</td>\n",
       "      <td>219.0</td>\n",
       "      <td>0.0</td>\n",
       "    </tr>\n",
       "    <tr>\n",
       "      <th>3</th>\n",
       "      <td>80.69</td>\n",
       "      <td>8</td>\n",
       "      <td>6</td>\n",
       "      <td>260.0</td>\n",
       "      <td>52</td>\n",
       "      <td>0.73</td>\n",
       "      <td>2.13</td>\n",
       "      <td>-13.0</td>\n",
       "      <td>107.0</td>\n",
       "      <td>101.0</td>\n",
       "      <td>0.0</td>\n",
       "    </tr>\n",
       "    <tr>\n",
       "      <th>4</th>\n",
       "      <td>127.52</td>\n",
       "      <td>9</td>\n",
       "      <td>8</td>\n",
       "      <td>251.0</td>\n",
       "      <td>57</td>\n",
       "      <td>0.89</td>\n",
       "      <td>2.40</td>\n",
       "      <td>-6.0</td>\n",
       "      <td>43.0</td>\n",
       "      <td>186.0</td>\n",
       "      <td>0.0</td>\n",
       "    </tr>\n",
       "  </tbody>\n",
       "</table>\n",
       "</div>"
      ],
      "text/plain": [
       "   instagrammability  urchin color  fur fluff  adorbz  temp  majesty  \\\n",
       "0             138.70             8          6   263.0    62     1.00   \n",
       "1             121.87             9          8   264.0    63     1.00   \n",
       "2             117.31             8          7   243.0    55     0.84   \n",
       "3              80.69             8          6   260.0    52     0.73   \n",
       "4             127.52             9          8   251.0    57     0.89   \n",
       "\n",
       "   observer GPA  paw size  paw grip  ice cream sold  shark attacks  \n",
       "0          2.04       0.0      25.0           196.0            3.0  \n",
       "1          2.69      -4.0      21.0           189.0            1.0  \n",
       "2          3.17      -2.0      11.0           219.0            0.0  \n",
       "3          2.13     -13.0     107.0           101.0            0.0  \n",
       "4          2.40      -6.0      43.0           186.0            0.0  "
      ]
     },
     "execution_count": 5,
     "metadata": {},
     "output_type": "execute_result"
    }
   ],
   "source": [
    "otters['fur fluff'] = otters['fur fluff'].apply(lambda x: int(str(x)[:1]))#format temp\n",
    "otters['urchin color'] = otters['urchin color'].apply(lambda x: int(str(x)[:1]))#format temp\n",
    "otters['temp'] = otters['temp'].apply(lambda x: int(str(x)[:2]))#format temp\n",
    "otters.head()"
   ]
  },
  {
   "cell_type": "code",
   "execution_count": 6,
   "metadata": {
    "collapsed": true
   },
   "outputs": [],
   "source": [
    "#Also gonna split it to have a train set\n",
    "predictors = otters.iloc[:,1:] #all but response\n",
    "response = otters['instagrammability'] #response"
   ]
  },
  {
   "cell_type": "markdown",
   "metadata": {},
   "source": [
    "**Part B**: Perform the appropriate statistical test at the $\\alpha = 0.05$ significance level to determine if _at least one_ of the features is related to the the response $y$.  Clearly describe your methodology and show all computations in Python. "
   ]
  },
  {
   "cell_type": "markdown",
   "metadata": {},
   "source": [
    "Basically I fitted a model to the data and then used model.summary() to get a summary of the model that showed p values and the f statistic, and the p value for the f statistic. From looking at this, it was pretty easy to see that the f statistic was 267, which indicates there may be a relation between at least one of the predictors, and the p value was significantly lower than our $\\alpha = 0.05$, so we are able to say on that alpha level that at least one feature is related to the response."
   ]
  },
  {
   "cell_type": "code",
   "execution_count": 7,
   "metadata": {},
   "outputs": [
    {
     "data": {
      "text/html": [
       "<table class=\"simpletable\">\n",
       "<caption>OLS Regression Results</caption>\n",
       "<tr>\n",
       "  <th>Dep. Variable:</th>    <td>instagrammability</td> <th>  R-squared:         </th> <td>   0.973</td>\n",
       "</tr>\n",
       "<tr>\n",
       "  <th>Model:</th>                   <td>OLS</td>        <th>  Adj. R-squared:    </th> <td>   0.969</td>\n",
       "</tr>\n",
       "<tr>\n",
       "  <th>Method:</th>             <td>Least Squares</td>   <th>  F-statistic:       </th> <td>   267.3</td>\n",
       "</tr>\n",
       "<tr>\n",
       "  <th>Date:</th>             <td>Thu, 03 May 2018</td>  <th>  Prob (F-statistic):</th> <td>7.62e-54</td>\n",
       "</tr>\n",
       "<tr>\n",
       "  <th>Time:</th>                 <td>14:34:42</td>      <th>  Log-Likelihood:    </th> <td> -281.10</td>\n",
       "</tr>\n",
       "<tr>\n",
       "  <th>No. Observations:</th>      <td>    85</td>       <th>  AIC:               </th> <td>   584.2</td>\n",
       "</tr>\n",
       "<tr>\n",
       "  <th>Df Residuals:</th>          <td>    74</td>       <th>  BIC:               </th> <td>   611.1</td>\n",
       "</tr>\n",
       "<tr>\n",
       "  <th>Df Model:</th>              <td>    10</td>       <th>                     </th>     <td> </td>   \n",
       "</tr>\n",
       "<tr>\n",
       "  <th>Covariance Type:</th>      <td>nonrobust</td>     <th>                     </th>     <td> </td>   \n",
       "</tr>\n",
       "</table>\n",
       "<table class=\"simpletable\">\n",
       "<tr>\n",
       "         <td></td>           <th>coef</th>     <th>std err</th>      <th>t</th>      <th>P>|t|</th>  <th>[0.025</th>    <th>0.975]</th>  \n",
       "</tr>\n",
       "<tr>\n",
       "  <th>const</th>          <td>   37.3994</td> <td>   15.732</td> <td>    2.377</td> <td> 0.020</td> <td>    6.053</td> <td>   68.746</td>\n",
       "</tr>\n",
       "<tr>\n",
       "  <th>urchin color</th>   <td>    1.4669</td> <td>    0.824</td> <td>    1.781</td> <td> 0.079</td> <td>   -0.174</td> <td>    3.108</td>\n",
       "</tr>\n",
       "<tr>\n",
       "  <th>fur fluff</th>      <td>    4.1203</td> <td>    0.907</td> <td>    4.544</td> <td> 0.000</td> <td>    2.313</td> <td>    5.927</td>\n",
       "</tr>\n",
       "<tr>\n",
       "  <th>adorbz</th>         <td>    0.4793</td> <td>    0.053</td> <td>    9.099</td> <td> 0.000</td> <td>    0.374</td> <td>    0.584</td>\n",
       "</tr>\n",
       "<tr>\n",
       "  <th>temp</th>           <td>   -1.0835</td> <td>    0.118</td> <td>   -9.168</td> <td> 0.000</td> <td>   -1.319</td> <td>   -0.848</td>\n",
       "</tr>\n",
       "<tr>\n",
       "  <th>majesty</th>        <td>   -0.7120</td> <td>    5.549</td> <td>   -0.128</td> <td> 0.898</td> <td>  -11.769</td> <td>   10.345</td>\n",
       "</tr>\n",
       "<tr>\n",
       "  <th>observer GPA</th>   <td>    1.0607</td> <td>    1.411</td> <td>    0.752</td> <td> 0.455</td> <td>   -1.750</td> <td>    3.872</td>\n",
       "</tr>\n",
       "<tr>\n",
       "  <th>paw size</th>       <td>    4.9749</td> <td>    0.114</td> <td>   43.726</td> <td> 0.000</td> <td>    4.748</td> <td>    5.202</td>\n",
       "</tr>\n",
       "<tr>\n",
       "  <th>paw grip</th>       <td>   -0.0038</td> <td>    0.021</td> <td>   -0.178</td> <td> 0.859</td> <td>   -0.046</td> <td>    0.039</td>\n",
       "</tr>\n",
       "<tr>\n",
       "  <th>ice cream sold</th> <td>    0.0115</td> <td>    0.016</td> <td>    0.702</td> <td> 0.485</td> <td>   -0.021</td> <td>    0.044</td>\n",
       "</tr>\n",
       "<tr>\n",
       "  <th>shark attacks</th>  <td>    1.5712</td> <td>    1.002</td> <td>    1.568</td> <td> 0.121</td> <td>   -0.425</td> <td>    3.567</td>\n",
       "</tr>\n",
       "</table>\n",
       "<table class=\"simpletable\">\n",
       "<tr>\n",
       "  <th>Omnibus:</th>       <td> 6.365</td> <th>  Durbin-Watson:     </th> <td>   2.111</td>\n",
       "</tr>\n",
       "<tr>\n",
       "  <th>Prob(Omnibus):</th> <td> 0.041</td> <th>  Jarque-Bera (JB):  </th> <td>   5.948</td>\n",
       "</tr>\n",
       "<tr>\n",
       "  <th>Skew:</th>          <td> 0.492</td> <th>  Prob(JB):          </th> <td>  0.0511</td>\n",
       "</tr>\n",
       "<tr>\n",
       "  <th>Kurtosis:</th>      <td> 3.842</td> <th>  Cond. No.          </th> <td>6.65e+03</td>\n",
       "</tr>\n",
       "</table>"
      ],
      "text/plain": [
       "<class 'statsmodels.iolib.summary.Summary'>\n",
       "\"\"\"\n",
       "                            OLS Regression Results                            \n",
       "==============================================================================\n",
       "Dep. Variable:      instagrammability   R-squared:                       0.973\n",
       "Model:                            OLS   Adj. R-squared:                  0.969\n",
       "Method:                 Least Squares   F-statistic:                     267.3\n",
       "Date:                Thu, 03 May 2018   Prob (F-statistic):           7.62e-54\n",
       "Time:                        14:34:42   Log-Likelihood:                -281.10\n",
       "No. Observations:                  85   AIC:                             584.2\n",
       "Df Residuals:                      74   BIC:                             611.1\n",
       "Df Model:                          10                                         \n",
       "Covariance Type:            nonrobust                                         \n",
       "==================================================================================\n",
       "                     coef    std err          t      P>|t|      [0.025      0.975]\n",
       "----------------------------------------------------------------------------------\n",
       "const             37.3994     15.732      2.377      0.020       6.053      68.746\n",
       "urchin color       1.4669      0.824      1.781      0.079      -0.174       3.108\n",
       "fur fluff          4.1203      0.907      4.544      0.000       2.313       5.927\n",
       "adorbz             0.4793      0.053      9.099      0.000       0.374       0.584\n",
       "temp              -1.0835      0.118     -9.168      0.000      -1.319      -0.848\n",
       "majesty           -0.7120      5.549     -0.128      0.898     -11.769      10.345\n",
       "observer GPA       1.0607      1.411      0.752      0.455      -1.750       3.872\n",
       "paw size           4.9749      0.114     43.726      0.000       4.748       5.202\n",
       "paw grip          -0.0038      0.021     -0.178      0.859      -0.046       0.039\n",
       "ice cream sold     0.0115      0.016      0.702      0.485      -0.021       0.044\n",
       "shark attacks      1.5712      1.002      1.568      0.121      -0.425       3.567\n",
       "==============================================================================\n",
       "Omnibus:                        6.365   Durbin-Watson:                   2.111\n",
       "Prob(Omnibus):                  0.041   Jarque-Bera (JB):                5.948\n",
       "Skew:                           0.492   Prob(JB):                       0.0511\n",
       "Kurtosis:                       3.842   Cond. No.                     6.65e+03\n",
       "==============================================================================\n",
       "\n",
       "Warnings:\n",
       "[1] Standard Errors assume that the covariance matrix of the errors is correctly specified.\n",
       "[2] The condition number is large, 6.65e+03. This might indicate that there are\n",
       "strong multicollinearity or other numerical problems.\n",
       "\"\"\""
      ]
     },
     "execution_count": 7,
     "metadata": {},
     "output_type": "execute_result"
    }
   ],
   "source": [
    "#make the model, fit it, and show it\n",
    "predictors = sm.add_constant(predictors) \n",
    "model = sm.OLS(response, predictors).fit()\n",
    "model.summary()"
   ]
  },
  {
   "cell_type": "code",
   "execution_count": null,
   "metadata": {},
   "outputs": [],
   "source": []
  },
  {
   "cell_type": "markdown",
   "metadata": {},
   "source": [
    "**Part C**: Write a function `forward_select(df, resp_str, maxk)` that takes in the DataFrame, the name of the column corresponding to the response, and the max number of desired features, and returns a list of feature names corresponding to the maxk most important features via forward selection.  At each stage in forward selection you should add the feature whose inclusion in the model would result in the lowest sum of squared errors $(SSE)$. Use your function to determine the best $k=5$ features to include in the model. Clearly indicate which feature was added in each stage. \n",
    "\n",
    "**Note**: The point of this exercise is to see if you can implement `foward_select` yourself.  You may of course use canned routines like statmodels OLS, but you may not call any Python method that explicitly performs forward selection. "
   ]
  },
  {
   "cell_type": "markdown",
   "metadata": {},
   "source": [
    "Basically I took in the dataframe, then I split it into predictors and response, then I iterated up to maxk in order to get that numer of features. Then, for each iteration, i made a model that was fit on each feature and picked the one with the largest coefficient of determination. I then added that feature to the bestk list and did it again, this time fitting on bestk appended with each feature. In this way, forward selection was performed to iteratively find the maxk most immportant features."
   ]
  },
  {
   "cell_type": "markdown",
   "metadata": {},
   "source": []
  },
  {
   "cell_type": "code",
   "execution_count": 432,
   "metadata": {
    "collapsed": true
   },
   "outputs": [],
   "source": [
    "def forward_select(df, resp_str, maxk):\n",
    "    #make the model, fit it, and show it\n",
    "    Y = df[resp_str] #make y\n",
    "    X = df.drop(labels = resp_str, axis=1) # make x\n",
    "    \n",
    "    features = list(X.columns) #list of features\n",
    "\n",
    "    X = sm.add_constant(X) # add constants\n",
    "    \n",
    "    bestk = [] #holds best features\n",
    "    \n",
    "    #get k best\n",
    "    for i in range(maxk):\n",
    "        bestR = 0 #temp\n",
    "        bestFeat = '' #temp\n",
    "        for pred in features: #go through all the features\n",
    "            #print(pred)\n",
    "            if(pred in bestk): #if already selected, skip\n",
    "                continue\n",
    "            bestk_temp = bestk.copy() #set temp list of features\n",
    "            bestk_temp.append(pred) #append temp list\n",
    "            #print(bestk_temp)\n",
    "            r = sm.OLS(Y, df[bestk_temp]).fit().rsquared #get accuracy\n",
    "            \n",
    "            #check if r squared is highest\n",
    "            if r > bestR:\n",
    "                bestFeat = pred\n",
    "                bestR = r\n",
    "        bestk.append(bestFeat) #add best feature to list\n",
    "    return bestk"
   ]
  },
  {
   "cell_type": "code",
   "execution_count": 433,
   "metadata": {},
   "outputs": [
    {
     "data": {
      "text/plain": [
       "['adorbz', 'paw size', 'temp', 'fur fluff', 'urchin color']"
      ]
     },
     "execution_count": 433,
     "metadata": {},
     "output_type": "execute_result"
    }
   ],
   "source": [
    "forward_select(otters, 'instagrammability', 5)"
   ]
  },
  {
   "cell_type": "markdown",
   "metadata": {},
   "source": [
    "**Part D**: Write down the multiple linear regression model, including estimated parameters, obtained by your forward selection process. "
   ]
  },
  {
   "cell_type": "markdown",
   "metadata": {},
   "source": [
    "Basically I just fit a model and pulled out the parameters."
   ]
  },
  {
   "cell_type": "code",
   "execution_count": 434,
   "metadata": {},
   "outputs": [
    {
     "data": {
      "text/plain": [
       "const           38.807818\n",
       "adorbz           0.476365\n",
       "paw size         4.968635\n",
       "temp            -0.977070\n",
       "fur fluff        3.823208\n",
       "urchin color     1.587709\n",
       "dtype: float64"
      ]
     },
     "execution_count": 434,
     "metadata": {},
     "output_type": "execute_result"
    }
   ],
   "source": [
    "best=forward_select(otters, 'instagrammability', 5) #get best features\n",
    "predictors = otters[best] #get predictors\n",
    "predictors = sm.add_constant(predictors)  #add constants\n",
    "response = otters['instagrammability']\n",
    "model_best = sm.OLS(response, predictors).fit() #fit model\n",
    "model_best.params #get slopes"
   ]
  },
  {
   "cell_type": "markdown",
   "metadata": {},
   "source": [
    "$Instagrammability = 38.8078 + 0.47adorbz + 4.96pawsize - 0.97temp + 3.82furfluff + 1.58urchincolor$"
   ]
  },
  {
   "cell_type": "markdown",
   "metadata": {},
   "source": [
    "**Part E**: Perform the appropriate statistical test at the $\\alpha = 0.05$ significance level to determine whether there is a statistically significant difference between the full model with all features and the reduced model obtained by forward selection in **Part D**. "
   ]
  },
  {
   "cell_type": "markdown",
   "metadata": {},
   "source": [
    "Well I was going to perform a hypothesis test using F statistics and anova, but alas I ran out of time. I had a lot of final projects this week and this got pushed back."
   ]
  },
  {
   "cell_type": "code",
   "execution_count": 436,
   "metadata": {},
   "outputs": [
    {
     "data": {
      "text/html": [
       "<table class=\"simpletable\">\n",
       "<caption>OLS Regression Results</caption>\n",
       "<tr>\n",
       "  <th>Dep. Variable:</th>    <td>instagrammability</td> <th>  R-squared:         </th> <td>   0.973</td>\n",
       "</tr>\n",
       "<tr>\n",
       "  <th>Model:</th>                   <td>OLS</td>        <th>  Adj. R-squared:    </th> <td>   0.969</td>\n",
       "</tr>\n",
       "<tr>\n",
       "  <th>Method:</th>             <td>Least Squares</td>   <th>  F-statistic:       </th> <td>   267.3</td>\n",
       "</tr>\n",
       "<tr>\n",
       "  <th>Date:</th>             <td>Wed, 02 May 2018</td>  <th>  Prob (F-statistic):</th> <td>7.62e-54</td>\n",
       "</tr>\n",
       "<tr>\n",
       "  <th>Time:</th>                 <td>23:53:36</td>      <th>  Log-Likelihood:    </th> <td> -281.10</td>\n",
       "</tr>\n",
       "<tr>\n",
       "  <th>No. Observations:</th>      <td>    85</td>       <th>  AIC:               </th> <td>   584.2</td>\n",
       "</tr>\n",
       "<tr>\n",
       "  <th>Df Residuals:</th>          <td>    74</td>       <th>  BIC:               </th> <td>   611.1</td>\n",
       "</tr>\n",
       "<tr>\n",
       "  <th>Df Model:</th>              <td>    10</td>       <th>                     </th>     <td> </td>   \n",
       "</tr>\n",
       "<tr>\n",
       "  <th>Covariance Type:</th>      <td>nonrobust</td>     <th>                     </th>     <td> </td>   \n",
       "</tr>\n",
       "</table>\n",
       "<table class=\"simpletable\">\n",
       "<tr>\n",
       "         <td></td>           <th>coef</th>     <th>std err</th>      <th>t</th>      <th>P>|t|</th>  <th>[0.025</th>    <th>0.975]</th>  \n",
       "</tr>\n",
       "<tr>\n",
       "  <th>const</th>          <td>   37.3994</td> <td>   15.732</td> <td>    2.377</td> <td> 0.020</td> <td>    6.053</td> <td>   68.746</td>\n",
       "</tr>\n",
       "<tr>\n",
       "  <th>urchin color</th>   <td>    1.4669</td> <td>    0.824</td> <td>    1.781</td> <td> 0.079</td> <td>   -0.174</td> <td>    3.108</td>\n",
       "</tr>\n",
       "<tr>\n",
       "  <th>fur fluff</th>      <td>    4.1203</td> <td>    0.907</td> <td>    4.544</td> <td> 0.000</td> <td>    2.313</td> <td>    5.927</td>\n",
       "</tr>\n",
       "<tr>\n",
       "  <th>adorbz</th>         <td>    0.4793</td> <td>    0.053</td> <td>    9.099</td> <td> 0.000</td> <td>    0.374</td> <td>    0.584</td>\n",
       "</tr>\n",
       "<tr>\n",
       "  <th>temp</th>           <td>   -1.0835</td> <td>    0.118</td> <td>   -9.168</td> <td> 0.000</td> <td>   -1.319</td> <td>   -0.848</td>\n",
       "</tr>\n",
       "<tr>\n",
       "  <th>majesty</th>        <td>   -0.7120</td> <td>    5.549</td> <td>   -0.128</td> <td> 0.898</td> <td>  -11.769</td> <td>   10.345</td>\n",
       "</tr>\n",
       "<tr>\n",
       "  <th>observer GPA</th>   <td>    1.0607</td> <td>    1.411</td> <td>    0.752</td> <td> 0.455</td> <td>   -1.750</td> <td>    3.872</td>\n",
       "</tr>\n",
       "<tr>\n",
       "  <th>paw size</th>       <td>    4.9749</td> <td>    0.114</td> <td>   43.726</td> <td> 0.000</td> <td>    4.748</td> <td>    5.202</td>\n",
       "</tr>\n",
       "<tr>\n",
       "  <th>paw grip</th>       <td>   -0.0038</td> <td>    0.021</td> <td>   -0.178</td> <td> 0.859</td> <td>   -0.046</td> <td>    0.039</td>\n",
       "</tr>\n",
       "<tr>\n",
       "  <th>ice cream sold</th> <td>    0.0115</td> <td>    0.016</td> <td>    0.702</td> <td> 0.485</td> <td>   -0.021</td> <td>    0.044</td>\n",
       "</tr>\n",
       "<tr>\n",
       "  <th>shark attacks</th>  <td>    1.5712</td> <td>    1.002</td> <td>    1.568</td> <td> 0.121</td> <td>   -0.425</td> <td>    3.567</td>\n",
       "</tr>\n",
       "</table>\n",
       "<table class=\"simpletable\">\n",
       "<tr>\n",
       "  <th>Omnibus:</th>       <td> 6.365</td> <th>  Durbin-Watson:     </th> <td>   2.111</td>\n",
       "</tr>\n",
       "<tr>\n",
       "  <th>Prob(Omnibus):</th> <td> 0.041</td> <th>  Jarque-Bera (JB):  </th> <td>   5.948</td>\n",
       "</tr>\n",
       "<tr>\n",
       "  <th>Skew:</th>          <td> 0.492</td> <th>  Prob(JB):          </th> <td>  0.0511</td>\n",
       "</tr>\n",
       "<tr>\n",
       "  <th>Kurtosis:</th>      <td> 3.842</td> <th>  Cond. No.          </th> <td>6.65e+03</td>\n",
       "</tr>\n",
       "</table>"
      ],
      "text/plain": [
       "<class 'statsmodels.iolib.summary.Summary'>\n",
       "\"\"\"\n",
       "                            OLS Regression Results                            \n",
       "==============================================================================\n",
       "Dep. Variable:      instagrammability   R-squared:                       0.973\n",
       "Model:                            OLS   Adj. R-squared:                  0.969\n",
       "Method:                 Least Squares   F-statistic:                     267.3\n",
       "Date:                Wed, 02 May 2018   Prob (F-statistic):           7.62e-54\n",
       "Time:                        23:53:36   Log-Likelihood:                -281.10\n",
       "No. Observations:                  85   AIC:                             584.2\n",
       "Df Residuals:                      74   BIC:                             611.1\n",
       "Df Model:                          10                                         \n",
       "Covariance Type:            nonrobust                                         \n",
       "==================================================================================\n",
       "                     coef    std err          t      P>|t|      [0.025      0.975]\n",
       "----------------------------------------------------------------------------------\n",
       "const             37.3994     15.732      2.377      0.020       6.053      68.746\n",
       "urchin color       1.4669      0.824      1.781      0.079      -0.174       3.108\n",
       "fur fluff          4.1203      0.907      4.544      0.000       2.313       5.927\n",
       "adorbz             0.4793      0.053      9.099      0.000       0.374       0.584\n",
       "temp              -1.0835      0.118     -9.168      0.000      -1.319      -0.848\n",
       "majesty           -0.7120      5.549     -0.128      0.898     -11.769      10.345\n",
       "observer GPA       1.0607      1.411      0.752      0.455      -1.750       3.872\n",
       "paw size           4.9749      0.114     43.726      0.000       4.748       5.202\n",
       "paw grip          -0.0038      0.021     -0.178      0.859      -0.046       0.039\n",
       "ice cream sold     0.0115      0.016      0.702      0.485      -0.021       0.044\n",
       "shark attacks      1.5712      1.002      1.568      0.121      -0.425       3.567\n",
       "==============================================================================\n",
       "Omnibus:                        6.365   Durbin-Watson:                   2.111\n",
       "Prob(Omnibus):                  0.041   Jarque-Bera (JB):                5.948\n",
       "Skew:                           0.492   Prob(JB):                       0.0511\n",
       "Kurtosis:                       3.842   Cond. No.                     6.65e+03\n",
       "==============================================================================\n",
       "\n",
       "Warnings:\n",
       "[1] Standard Errors assume that the covariance matrix of the errors is correctly specified.\n",
       "[2] The condition number is large, 6.65e+03. This might indicate that there are\n",
       "strong multicollinearity or other numerical problems.\n",
       "\"\"\""
      ]
     },
     "execution_count": 436,
     "metadata": {},
     "output_type": "execute_result"
    }
   ],
   "source": [
    "model.summary()"
   ]
  },
  {
   "cell_type": "code",
   "execution_count": 435,
   "metadata": {},
   "outputs": [
    {
     "data": {
      "text/html": [
       "<table class=\"simpletable\">\n",
       "<caption>OLS Regression Results</caption>\n",
       "<tr>\n",
       "  <th>Dep. Variable:</th>    <td>instagrammability</td> <th>  R-squared:         </th> <td>   0.972</td>\n",
       "</tr>\n",
       "<tr>\n",
       "  <th>Model:</th>                   <td>OLS</td>        <th>  Adj. R-squared:    </th> <td>   0.970</td>\n",
       "</tr>\n",
       "<tr>\n",
       "  <th>Method:</th>             <td>Least Squares</td>   <th>  F-statistic:       </th> <td>   547.5</td>\n",
       "</tr>\n",
       "<tr>\n",
       "  <th>Date:</th>             <td>Wed, 02 May 2018</td>  <th>  Prob (F-statistic):</th> <td>9.27e-60</td>\n",
       "</tr>\n",
       "<tr>\n",
       "  <th>Time:</th>                 <td>23:53:32</td>      <th>  Log-Likelihood:    </th> <td> -282.82</td>\n",
       "</tr>\n",
       "<tr>\n",
       "  <th>No. Observations:</th>      <td>    85</td>       <th>  AIC:               </th> <td>   577.6</td>\n",
       "</tr>\n",
       "<tr>\n",
       "  <th>Df Residuals:</th>          <td>    79</td>       <th>  BIC:               </th> <td>   592.3</td>\n",
       "</tr>\n",
       "<tr>\n",
       "  <th>Df Model:</th>              <td>     5</td>       <th>                     </th>     <td> </td>   \n",
       "</tr>\n",
       "<tr>\n",
       "  <th>Covariance Type:</th>      <td>nonrobust</td>     <th>                     </th>     <td> </td>   \n",
       "</tr>\n",
       "</table>\n",
       "<table class=\"simpletable\">\n",
       "<tr>\n",
       "        <td></td>          <th>coef</th>     <th>std err</th>      <th>t</th>      <th>P>|t|</th>  <th>[0.025</th>    <th>0.975]</th>  \n",
       "</tr>\n",
       "<tr>\n",
       "  <th>const</th>        <td>   38.8078</td> <td>   13.975</td> <td>    2.777</td> <td> 0.007</td> <td>   10.992</td> <td>   66.624</td>\n",
       "</tr>\n",
       "<tr>\n",
       "  <th>adorbz</th>       <td>    0.4764</td> <td>    0.049</td> <td>    9.660</td> <td> 0.000</td> <td>    0.378</td> <td>    0.575</td>\n",
       "</tr>\n",
       "<tr>\n",
       "  <th>paw size</th>     <td>    4.9686</td> <td>    0.108</td> <td>   46.183</td> <td> 0.000</td> <td>    4.754</td> <td>    5.183</td>\n",
       "</tr>\n",
       "<tr>\n",
       "  <th>temp</th>         <td>   -0.9771</td> <td>    0.046</td> <td>  -21.428</td> <td> 0.000</td> <td>   -1.068</td> <td>   -0.886</td>\n",
       "</tr>\n",
       "<tr>\n",
       "  <th>fur fluff</th>    <td>    3.8232</td> <td>    0.837</td> <td>    4.565</td> <td> 0.000</td> <td>    2.156</td> <td>    5.490</td>\n",
       "</tr>\n",
       "<tr>\n",
       "  <th>urchin color</th> <td>    1.5877</td> <td>    0.799</td> <td>    1.987</td> <td> 0.050</td> <td>   -0.003</td> <td>    3.178</td>\n",
       "</tr>\n",
       "</table>\n",
       "<table class=\"simpletable\">\n",
       "<tr>\n",
       "  <th>Omnibus:</th>       <td> 7.181</td> <th>  Durbin-Watson:     </th> <td>   2.072</td>\n",
       "</tr>\n",
       "<tr>\n",
       "  <th>Prob(Omnibus):</th> <td> 0.028</td> <th>  Jarque-Bera (JB):  </th> <td>   6.669</td>\n",
       "</tr>\n",
       "<tr>\n",
       "  <th>Skew:</th>          <td> 0.574</td> <th>  Prob(JB):          </th> <td>  0.0356</td>\n",
       "</tr>\n",
       "<tr>\n",
       "  <th>Kurtosis:</th>      <td> 3.752</td> <th>  Cond. No.          </th> <td>4.73e+03</td>\n",
       "</tr>\n",
       "</table>"
      ],
      "text/plain": [
       "<class 'statsmodels.iolib.summary.Summary'>\n",
       "\"\"\"\n",
       "                            OLS Regression Results                            \n",
       "==============================================================================\n",
       "Dep. Variable:      instagrammability   R-squared:                       0.972\n",
       "Model:                            OLS   Adj. R-squared:                  0.970\n",
       "Method:                 Least Squares   F-statistic:                     547.5\n",
       "Date:                Wed, 02 May 2018   Prob (F-statistic):           9.27e-60\n",
       "Time:                        23:53:32   Log-Likelihood:                -282.82\n",
       "No. Observations:                  85   AIC:                             577.6\n",
       "Df Residuals:                      79   BIC:                             592.3\n",
       "Df Model:                           5                                         \n",
       "Covariance Type:            nonrobust                                         \n",
       "================================================================================\n",
       "                   coef    std err          t      P>|t|      [0.025      0.975]\n",
       "--------------------------------------------------------------------------------\n",
       "const           38.8078     13.975      2.777      0.007      10.992      66.624\n",
       "adorbz           0.4764      0.049      9.660      0.000       0.378       0.575\n",
       "paw size         4.9686      0.108     46.183      0.000       4.754       5.183\n",
       "temp            -0.9771      0.046    -21.428      0.000      -1.068      -0.886\n",
       "fur fluff        3.8232      0.837      4.565      0.000       2.156       5.490\n",
       "urchin color     1.5877      0.799      1.987      0.050      -0.003       3.178\n",
       "==============================================================================\n",
       "Omnibus:                        7.181   Durbin-Watson:                   2.072\n",
       "Prob(Omnibus):                  0.028   Jarque-Bera (JB):                6.669\n",
       "Skew:                           0.574   Prob(JB):                       0.0356\n",
       "Kurtosis:                       3.752   Cond. No.                     4.73e+03\n",
       "==============================================================================\n",
       "\n",
       "Warnings:\n",
       "[1] Standard Errors assume that the covariance matrix of the errors is correctly specified.\n",
       "[2] The condition number is large, 4.73e+03. This might indicate that there are\n",
       "strong multicollinearity or other numerical problems.\n",
       "\"\"\""
      ]
     },
     "execution_count": 435,
     "metadata": {},
     "output_type": "execute_result"
    }
   ],
   "source": [
    "model_best.summary()"
   ]
  },
  {
   "cell_type": "markdown",
   "metadata": {},
   "source": [
    "**Part F**: Based on your conclusions in **Part E**, use the _better_ of the two models to predict an otter's instagrammability when the following features are observed: \n",
    "\n",
    "- $\\texttt{urchin color}$: 93 Wongs\n",
    "- $\\texttt{fur fluff}$: 8.2 Ketelsens\n",
    "- $\\texttt{adorbz}$: 273\n",
    "- $\\texttt{temp}$: 46F \n",
    "- $\\texttt{majesty}$: 0.79 \n",
    "- $\\texttt{observer GPA}$: 3.50 \n",
    "- $\\texttt{paw size}$: -10 \n",
    "- $\\texttt{paw grip}$: 55 Grochows\n",
    "- $\\texttt{ice cream sold}$: 130\n",
    "- $\\texttt{shark attacks}$: 3 "
   ]
  },
  {
   "cell_type": "code",
   "execution_count": null,
   "metadata": {
    "collapsed": true
   },
   "outputs": [],
   "source": []
  },
  {
   "cell_type": "code",
   "execution_count": null,
   "metadata": {
    "collapsed": true
   },
   "outputs": [],
   "source": []
  }
 ],
 "metadata": {
  "kernelspec": {
   "display_name": "Python 3",
   "language": "python",
   "name": "python3"
  },
  "language_info": {
   "codemirror_mode": {
    "name": "ipython",
    "version": 3
   },
   "file_extension": ".py",
   "mimetype": "text/x-python",
   "name": "python",
   "nbconvert_exporter": "python",
   "pygments_lexer": "ipython3",
   "version": "3.6.3"
  }
 },
 "nbformat": 4,
 "nbformat_minor": 2
}
