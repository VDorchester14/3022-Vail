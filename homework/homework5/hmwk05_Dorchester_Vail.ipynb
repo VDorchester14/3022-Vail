{
 "cells": [
  {
   "cell_type": "markdown",
   "metadata": {},
   "source": [
    "# Homework 5: Confidence Intervals, Autograders, Freethrows\n",
    "***\n",
    "\n",
    "**Name**: \n",
    "\n",
    "***\n",
    "\n",
    "This assignment is due on Moodle by **5pm on Friday April 6th**. Your solutions to theoretical questions should be done in Markdown/MathJax directly below the associated question.  Your solutions to computational questions should include any specified Python code and results as well as written commentary on your conclusions.  Remember that you are encouraged to discuss the problems with your instructors and classmates, but **you must write all code and solutions on your own**.  For a refresher on the course **Collaboration Policy** click [here](https://github.com/dblarremore/csci3022/blob/master/resources/syllabus.md#collaboration-policy).\n",
    "\n",
    "**NOTES**: \n",
    "\n",
    "- Do **NOT** load or use any Python packages that are not available in Anaconda 3.6. \n",
    "- Some problems with code may be autograded.  If we provide a function API **do not** change it.  If we do not provide a function API then you're free to structure your code however you like. \n",
    "- Because you can technically evaluate notebook cells is a non-linear order, it's a good idea to do Cell $\\rightarrow$ Run All as a check before submitting your solutions.  That way if we need to run your code you will know that it will work as expected. \n",
    "- Submit only this Jupyter notebook to Moodle.  Do not compress it using tar, rar, zip, etc. "
   ]
  },
  {
   "cell_type": "code",
   "execution_count": 39,
   "metadata": {
    "collapsed": true,
    "scrolled": true
   },
   "outputs": [],
   "source": [
    "import numpy as np\n",
    "import matplotlib.pylab as plt\n",
    "import pandas as pd\n",
    "import sklearn\n",
    "from scipy import stats\n",
    "%matplotlib inline"
   ]
  },
  {
   "cell_type": "markdown",
   "metadata": {},
   "source": [
    "### [20 points] Problem 1 - Alcohol Content of Red vs White Wine \n",
    "***\n",
    "\n",
    "Load the data in $\\texttt{winequality-red.csv}$ and $\\texttt{winequality-white.csv}$ into Pandas DataFrames.  A description of this dataset can be found on [Berkeley's Machine Learning Repository](https://archive.ics.uci.edu/ml/datasets/Wine+Quality). The characteristic that we'll be interested in is the wine's alcohol content.  "
   ]
  },
  {
   "cell_type": "code",
   "execution_count": 37,
   "metadata": {},
   "outputs": [
    {
     "data": {
      "text/html": [
       "<div>\n",
       "<style>\n",
       "    .dataframe thead tr:only-child th {\n",
       "        text-align: right;\n",
       "    }\n",
       "\n",
       "    .dataframe thead th {\n",
       "        text-align: left;\n",
       "    }\n",
       "\n",
       "    .dataframe tbody tr th {\n",
       "        vertical-align: top;\n",
       "    }\n",
       "</style>\n",
       "<table border=\"1\" class=\"dataframe\">\n",
       "  <thead>\n",
       "    <tr style=\"text-align: right;\">\n",
       "      <th></th>\n",
       "      <th>fixed acidity</th>\n",
       "      <th>volatile acidity</th>\n",
       "      <th>citric acid</th>\n",
       "      <th>residual sugar</th>\n",
       "      <th>chlorides</th>\n",
       "      <th>free sulfur dioxide</th>\n",
       "      <th>total sulfur dioxide</th>\n",
       "      <th>density</th>\n",
       "      <th>pH</th>\n",
       "      <th>sulphates</th>\n",
       "      <th>alcohol</th>\n",
       "      <th>quality</th>\n",
       "    </tr>\n",
       "  </thead>\n",
       "  <tbody>\n",
       "    <tr>\n",
       "      <th>0</th>\n",
       "      <td>7.4</td>\n",
       "      <td>0.70</td>\n",
       "      <td>0.00</td>\n",
       "      <td>1.9</td>\n",
       "      <td>0.076</td>\n",
       "      <td>11.0</td>\n",
       "      <td>34.0</td>\n",
       "      <td>0.9978</td>\n",
       "      <td>3.51</td>\n",
       "      <td>0.56</td>\n",
       "      <td>9.4</td>\n",
       "      <td>5</td>\n",
       "    </tr>\n",
       "    <tr>\n",
       "      <th>1</th>\n",
       "      <td>7.8</td>\n",
       "      <td>0.88</td>\n",
       "      <td>0.00</td>\n",
       "      <td>2.6</td>\n",
       "      <td>0.098</td>\n",
       "      <td>25.0</td>\n",
       "      <td>67.0</td>\n",
       "      <td>0.9968</td>\n",
       "      <td>3.20</td>\n",
       "      <td>0.68</td>\n",
       "      <td>9.8</td>\n",
       "      <td>5</td>\n",
       "    </tr>\n",
       "    <tr>\n",
       "      <th>2</th>\n",
       "      <td>7.8</td>\n",
       "      <td>0.76</td>\n",
       "      <td>0.04</td>\n",
       "      <td>2.3</td>\n",
       "      <td>0.092</td>\n",
       "      <td>15.0</td>\n",
       "      <td>54.0</td>\n",
       "      <td>0.9970</td>\n",
       "      <td>3.26</td>\n",
       "      <td>0.65</td>\n",
       "      <td>9.8</td>\n",
       "      <td>5</td>\n",
       "    </tr>\n",
       "    <tr>\n",
       "      <th>3</th>\n",
       "      <td>11.2</td>\n",
       "      <td>0.28</td>\n",
       "      <td>0.56</td>\n",
       "      <td>1.9</td>\n",
       "      <td>0.075</td>\n",
       "      <td>17.0</td>\n",
       "      <td>60.0</td>\n",
       "      <td>0.9980</td>\n",
       "      <td>3.16</td>\n",
       "      <td>0.58</td>\n",
       "      <td>9.8</td>\n",
       "      <td>6</td>\n",
       "    </tr>\n",
       "    <tr>\n",
       "      <th>4</th>\n",
       "      <td>7.4</td>\n",
       "      <td>0.70</td>\n",
       "      <td>0.00</td>\n",
       "      <td>1.9</td>\n",
       "      <td>0.076</td>\n",
       "      <td>11.0</td>\n",
       "      <td>34.0</td>\n",
       "      <td>0.9978</td>\n",
       "      <td>3.51</td>\n",
       "      <td>0.56</td>\n",
       "      <td>9.4</td>\n",
       "      <td>5</td>\n",
       "    </tr>\n",
       "  </tbody>\n",
       "</table>\n",
       "</div>"
      ],
      "text/plain": [
       "   fixed acidity  volatile acidity  citric acid  residual sugar  chlorides  \\\n",
       "0            7.4              0.70         0.00             1.9      0.076   \n",
       "1            7.8              0.88         0.00             2.6      0.098   \n",
       "2            7.8              0.76         0.04             2.3      0.092   \n",
       "3           11.2              0.28         0.56             1.9      0.075   \n",
       "4            7.4              0.70         0.00             1.9      0.076   \n",
       "\n",
       "   free sulfur dioxide  total sulfur dioxide  density    pH  sulphates  \\\n",
       "0                 11.0                  34.0   0.9978  3.51       0.56   \n",
       "1                 25.0                  67.0   0.9968  3.20       0.68   \n",
       "2                 15.0                  54.0   0.9970  3.26       0.65   \n",
       "3                 17.0                  60.0   0.9980  3.16       0.58   \n",
       "4                 11.0                  34.0   0.9978  3.51       0.56   \n",
       "\n",
       "   alcohol  quality  \n",
       "0      9.4        5  \n",
       "1      9.8        5  \n",
       "2      9.8        5  \n",
       "3      9.8        6  \n",
       "4      9.4        5  "
      ]
     },
     "execution_count": 37,
     "metadata": {},
     "output_type": "execute_result"
    }
   ],
   "source": [
    "#set paths and load them with proper delimiters\n",
    "white_path = './data/winequality-red.csv'\n",
    "red_path = './data/winequality-white.csv'\n",
    "red = pd.read_csv(red_path, sep=';')\n",
    "white = pd.read_csv(white_path, sep=';')\n",
    "#did it work - yes\n",
    "white.head()"
   ]
  },
  {
   "cell_type": "markdown",
   "metadata": {},
   "source": [
    "**Part A**: Are we justified in using the assumptions of the Central Limit Theorem in our analysis of estimates of the mean of the data?  Justify your response. "
   ]
  },
  {
   "cell_type": "markdown",
   "metadata": {
    "collapsed": true
   },
   "source": [
    "We are justified because we can treat our data sets for red and white wine as a set of samples from a larger population that is all red and white portuguese vinho verde wines respectively. We have samples from this population for various attributes that are either continuous or discrete variables. The means of these variables can be estimated using the central limit theorem, because these attributes are sampled from the same distribution functions. We are also analysing the red and white wines independently, which matters because red and white wines probably have different distributions, but also they have different sample sizes. Basically they are indeed identical samples and independent."
   ]
  },
  {
   "cell_type": "markdown",
   "metadata": {},
   "source": [
    "**Part B**: Compute a 95% confidence interval for the mean of the red wine's alcohol content.  Separately, compute a 95% confidence interval for the mean of the white wine's alcohol content. Do all computations in Python. "
   ]
  },
  {
   "cell_type": "code",
   "execution_count": 38,
   "metadata": {},
   "outputs": [
    {
     "name": "stdout",
     "output_type": "stream",
     "text": [
      "95% confidence interval for the red wines is 10.514 +- 0.034\n",
      "95% confidence interval for the white wines is 10.423 +- 0.052\n"
     ]
    }
   ],
   "source": [
    "#Get the means\n",
    "rMean = red['alcohol'].mean()\n",
    "wMean = white['alcohol'].mean()\n",
    "\n",
    "#Standard deviations\n",
    "rStd = red['alcohol'].std()\n",
    "wStd = white['alcohol'].std()\n",
    "\n",
    "#sample sizes\n",
    "rN = red.shape[0]\n",
    "wN = white.shape[0]\n",
    "\n",
    "#Z value\n",
    "z = 1.960\n",
    "\n",
    "#actual intervals\n",
    "redInterval = z*((rStd)/(rN**0.5))\n",
    "whiteInterval = z*((wStd)/(wN**0.5))\n",
    "\n",
    "#Print the findings i guess\n",
    "print(\"95% confidence interval for the red wines is {0:.5} +- {1:.2}\".format(rMean, redInterval))\n",
    "print(\"95% confidence interval for the white wines is {0:.5} +- {1:.2}\".format(wMean, whiteInterval))"
   ]
  },
  {
   "cell_type": "markdown",
   "metadata": {},
   "source": [
    "**Part C**: Compute the 95% confidence interval for the difference between the means of the alcohol content of red and white wine. "
   ]
  },
  {
   "cell_type": "code",
   "execution_count": 36,
   "metadata": {},
   "outputs": [
    {
     "name": "stdout",
     "output_type": "stream",
     "text": [
      "95% confidence interval for the difference between the means of the alcohol content of red and white wine is 0.091 +- 0.0626\n"
     ]
    }
   ],
   "source": [
    "#difference of means, z-value stays the same\n",
    "diffOfMeans = rMean - wMean\n",
    "interval = z*(((rStd**2)/(rN))+((wStd**2)/(wN)))**0.5\n",
    "print(\"95% confidence interval for the difference between the means of the alcohol content of red and white wine is {0:.2} +- {1:.3}\".format(diffOfMeans, interval))"
   ]
  },
  {
   "cell_type": "markdown",
   "metadata": {},
   "source": [
    "**Part D**: Interpret the confidence interval you computed in **Part C** in one or two sentences.  Can you say that it's likely that there is a difference in mean alcohol content between red and white wine?  "
   ]
  },
  {
   "cell_type": "markdown",
   "metadata": {
    "collapsed": true
   },
   "source": [
    "Basically, 95% of the time the difference between the average alcohol contents of the red and the white will fall somehwere on that interval. However, the samples are different sizes so I'm not really sure if this is a comparison you can make."
   ]
  },
  {
   "cell_type": "markdown",
   "metadata": {},
   "source": [
    "### [15 points] Problem 2: Election Polling\n",
    "***\n",
    "\n",
    "On the eve of an important senate seat election, a pollster polls a simple random sample of the population and asks which candidate they plan to vote for on the following day. In particular, the pollster asks if the respondents plan to vote for Candidate A, Candidate B, or some other candidate.  The results of the poll can be found in the following table: \n",
    "\n",
    "\\begin{array}{ccc}\n",
    "\\hline \n",
    "\\textrm{Candidate A} & \\textrm{Candidate B} & \\textrm{Other} \\\\\n",
    "\\hline \n",
    "1204 & 1099 & 205  \\\\\n",
    "\\hline \n",
    "\\end{array}\n",
    "\n",
    "**Part A**: Poll results are typically reported as a predicted **percentage** of the electorate plus or minus a margin of error, i.e. $\\texttt{percentage} \\pm \\texttt{margin}$.  Express the poll results for Candidates A and B in the specified format at the 95% confidence level. "
   ]
  },
  {
   "cell_type": "code",
   "execution_count": 68,
   "metadata": {},
   "outputs": [
    {
     "name": "stdout",
     "output_type": "stream",
     "text": [
      "The electron results are:\n",
      "Candidate A: 48.01 +- 0.9976%\n",
      "Candidate B: 43.82 +- 0.9907%\n",
      "Other: 8.174 +- 0.5471%\n",
      "\n"
     ]
    }
   ],
   "source": [
    "CA = 1204\n",
    "CB = 1099\n",
    "CO = 205\n",
    "N = CB+CA+CO\n",
    "pa = (CA/N)\n",
    "pb = (CB/N)\n",
    "po = (CO/N)\n",
    "sa = ((pa*(1-pa))/(N))**0.5\n",
    "sb = ((pb*(1-pb))/(N))**0.5\n",
    "so = ((po*(1-po))/(N))**0.5\n",
    "print(\"\"\"The electron results are:\n",
    "Candidate A: {0:.4} +- {3:.4}%\n",
    "Candidate B: {1:.4} +- {4:.4}%\n",
    "Other: {2:.4} +- {5:.4}%\n",
    "\"\"\".format(pa*100, pb*100, po*100, sa*100, sb*100, so*100))"
   ]
  },
  {
   "cell_type": "markdown",
   "metadata": {},
   "source": [
    "**Part B**: Express the poll results as 95% confidence intervals.  Based on these results, would it be responsible for a newspaper to definitely call the election for a particular candidate? Clearly justify your response. "
   ]
  },
  {
   "cell_type": "code",
   "execution_count": 280,
   "metadata": {},
   "outputs": [
    {
     "name": "stdout",
     "output_type": "stream",
     "text": [
      "\n",
      "Election poll results are:\n",
      "Candidate A: 1204 +- 25\n",
      "Candidate B: 1099 +- 25\n",
      "Other: 205 +- 14\n",
      "\n"
     ]
    }
   ],
   "source": [
    "na = sa*N\n",
    "nb = sb*N\n",
    "no = so*N\n",
    "print(\"\"\"\n",
    "Election poll results are:\n",
    "Candidate A: {0} +- {1:.2g}\n",
    "Candidate B: {2} +- {3:.2g}\n",
    "Other: {4} +- {5:.2g}\n",
    "\"\"\".format(CA, na, CB, nb, CO, no))"
   ]
  },
  {
   "cell_type": "markdown",
   "metadata": {},
   "source": [
    "They could pretty confidently report the election outcomes at this stage. A is winning and we can say with 95% certainty that the true number of votes for A will be at least as high as 1179, and we can say with the same certainty that candidate B will receive no more than 1124 votes, and in this case, A still wins. If it were me I'd just wait until the next day though to be safe."
   ]
  },
  {
   "cell_type": "markdown",
   "metadata": {},
   "source": [
    "**Part C**: In the run-up to the next election, the pollster is designing a poll of a city council race between two relatively unknown candidates.  Without having any prior data, how many respondents does the pollster need responses from to guarantee that she will get at most a 2% margin of error at the 95% confidence level? Be sure to **clearly** justify your reasoning.  \n",
    "\n",
    "**Hint**: Recall that when computing a confidence interval for proportion we use the actual sample proportion to approximate the variance.  How can you get a worst-case scenario estimate of the variance when the sample proportion is not known _a priori_? \n"
   ]
  },
  {
   "cell_type": "markdown",
   "metadata": {
    "collapsed": true
   },
   "source": [
    "I'd say we could get a worst case scenario by assuming that literally everyone votes for one candidate, which is pretty unlikely. When doing this, we get 1 over the root of N as our margin of error, and if we set that margin to 0.02, we find that N must be at least 2500."
   ]
  },
  {
   "cell_type": "markdown",
   "metadata": {},
   "source": [
    "### [15 points] Problem 3 - Have Opinions on Marijuana Legalization Changed? \n",
    "***\n",
    "\n",
    "The General Social Survey (GSS) has been collecting demographic, behavioral, and attitudinal information since 1972 to monitor changes within the US and to compare the US to other nations. Support for the legalization of marijuana in the US is shown for 2010 and in 2016 in the following table:\n",
    "\n",
    "\n",
    "\\begin{array}{cccc}\n",
    "\\hline\n",
    "\\textrm{Year} & \\textrm{Favor} & \\textrm{Oppose} & \\textrm{Total} \\\\ \n",
    "\\hline\n",
    "\\textrm{2010} & \\textrm{603} & \\textrm{656} & \\textrm{1259} \\\\\n",
    "\\textrm{2016} & \\textrm{1126} & \\textrm{717} & \\textrm{1843} \\\\\n",
    "\\hline\n",
    "\\end{array}\n",
    "\n",
    "\n",
    "**Part A**: Find a 95% confidence interval for the change in the proportion supporting marijuana legalization from 2010 to 2016. Use Python for all computations and show your work. "
   ]
  },
  {
   "cell_type": "code",
   "execution_count": 281,
   "metadata": {},
   "outputs": [
    {
     "name": "stdout",
     "output_type": "stream",
     "text": [
      "\n",
      "The confidence interval for the change of proportion of the population\n",
      "that supports the legalization of marijuana is:\n",
      "13.2% +- 0.06413%\n",
      "This is interepreted as the percent increase in support plus and minus an \n",
      "error bound.\n",
      "\n"
     ]
    }
   ],
   "source": [
    "yes_10 = 603\n",
    "no_10 = 656\n",
    "n_10 = 1259\n",
    "yes_16 = 1126\n",
    "no_16 = 717\n",
    "n_16 = 1843\n",
    "p1 = yes_10/n_10\n",
    "p2 = yes_16/n_16\n",
    "std = (((p1*(1-p1))/(n_10))+((p2*(1-p2))/(n_16)))\n",
    "z = 1.960\n",
    "i = z*std\n",
    "print(\"\"\"\n",
    "The confidence interval for the change of proportion of the population\n",
    "that supports the legalization of marijuana is:\n",
    "{0:.4}% +- {1:.4}%\n",
    "This is interepreted as the percent increase in support plus and minus an \n",
    "error bound.\n",
    "\"\"\".format((p2-p1)*100, i*100))"
   ]
  },
  {
   "cell_type": "markdown",
   "metadata": {},
   "source": [
    "**Part B**: Is it likely that the proportion supporting marijuana legalization changed between 2010 and 2016? Justify your conclusion using the ideas of statistical inference and your results from **Part A**. "
   ]
  },
  {
   "cell_type": "markdown",
   "metadata": {
    "collapsed": true
   },
   "source": [
    "It is quite likely that the proportion supporting legalization changed. The percent increase was 13%, and the confidence interval for that is +- less than 1%, so it's likely that the true increase in support for marijuana legalization is somewhere around 13%."
   ]
  },
  {
   "cell_type": "markdown",
   "metadata": {},
   "source": [
    "### [20 points] Problem 4 - Exploring Confidence Intervals \n",
    "***\n",
    "\n",
    "The so-called [Chi-squared](https://en.wikipedia.org/wiki/Chi-squared_distribution) distribution is important in several statistical tests.  It's also fairly asymmetric, and thus interesting for investigating confidence intervals.  It is implemented in scipy.stats as [chi2](https://docs.scipy.org/doc/scipy-0.19.1/reference/generated/scipy.stats.chi2.html). \n"
   ]
  },
  {
   "cell_type": "code",
   "execution_count": 71,
   "metadata": {
    "collapsed": true
   },
   "outputs": [],
   "source": [
    "from scipy.stats import chi2"
   ]
  },
  {
   "cell_type": "markdown",
   "metadata": {},
   "source": [
    "**Part A**: Complete the following code cell to plot a histogram of realizations from the Chi-squared distribution with parameter $K=3$. "
   ]
  },
  {
   "cell_type": "code",
   "execution_count": 84,
   "metadata": {
    "scrolled": false
   },
   "outputs": [
    {
     "data": {
      "image/png": "[encoded data removed]",
      "text/plain": [
       "<matplotlib.figure.Figure at 0x212ba81e518>"
      ]
     },
     "metadata": {},
     "output_type": "display_data"
    }
   ],
   "source": [
    "k = 3 \n",
    "x = chi2.rvs(k, size=10000)\n",
    "fig, ax = plt.subplots(nrows=1, ncols=1, figsize=(12,6))\n",
    "# TODO\n",
    "ax.hist(x, bins=35)\n",
    "plt.show()"
   ]
  },
  {
   "cell_type": "markdown",
   "metadata": {},
   "source": [
    "**Part B**: Look up the mean and variance of the Chi-squared distribution with parameter $k=3$ and report them here. "
   ]
  },
  {
   "cell_type": "markdown",
   "metadata": {
    "collapsed": true
   },
   "source": [
    "Mean Value is k which is 3. Variance is 2k which is 6."
   ]
  },
  {
   "cell_type": "markdown",
   "metadata": {},
   "source": [
    "**Part C**: In this part you'll write a function to investigate the _coverage properties_ of a confidence interval for the mean of the Chi-squared distribution. Complete the following function to randomly sample $m=500$ sample means with sample size $n=100$ for the Chi-squared distribution with parameter $k=3$.  For each random sample, compute the 95% confidence interval for the mean.  Your function should do two things: \n",
    "\n",
    "1. Report the proportion of confidence intervals that successfully cover the true mean of the distribution \n",
    "2. Make a plot of 50 randomly selected confidence intervals. Overlay the intervals on the line $y=\\mu$ where $\\mu$ is the true mean of the distribution. Color confidence intervals black if they cover the true mean, and red if they don't.  "
   ]
  },
  {
   "cell_type": "code",
   "execution_count": 182,
   "metadata": {
    "scrolled": false
   },
   "outputs": [],
   "source": [
    "def confidence_intervals(m=500, n=100):\n",
    "    # TODO\n",
    "    k = 3\n",
    "    means = []\n",
    "    intervals = []\n",
    "    #generate the samples\n",
    "    covered = 0\n",
    "    for i in range(m):\n",
    "        x = chi2.rvs(k, size=n)\n",
    "        mean = np.mean(x)\n",
    "        means.append(mean)\n",
    "        interval= (1.960*((np.std(x))/(n**0.5)))\n",
    "        intervals.append(interval)\n",
    "        if(abs(mean-3)<interval):\n",
    "            covered+=1\n",
    "    proportion_covered = covered/m\n",
    "    print(\"{0:.3}% of the intervals contain the true mean.\".format(proportion_covered*100))\n",
    "    indices = np.random.choice(np.arange(m), size=50, replace=False)\n",
    "    \n",
    "    #plotting\n",
    "    y = [means[i] for i in indices]\n",
    "    margins = [intervals[i] for i in indices]\n",
    "    # Initialize figure \n",
    "    fig, ax = plt.subplots(figsize=(8,4))\n",
    "    ax.plot([0, 50], [3, 3])\n",
    "    for ix, i in enumerate(indices):\n",
    "        cmin, cmax = (means[i]-intervals[i]),(means[i]+intervals[i])\n",
    "        if(abs(means[i]-3)<intervals[i]):\n",
    "            c='black'\n",
    "        else:\n",
    "            c='red'\n",
    "        ax.plot([ix, ix], [cmin,cmax], color=c)"
   ]
  },
  {
   "cell_type": "code",
   "execution_count": 183,
   "metadata": {},
   "outputs": [
    {
     "name": "stdout",
     "output_type": "stream",
     "text": [
      "95.0% of the intervals contain the true mean.\n"
     ]
    },
    {
     "data": {
      "image/png": "[encoded data removed]",
      "text/plain": [
       "<matplotlib.figure.Figure at 0x212bbcbb908>"
      ]
     },
     "metadata": {},
     "output_type": "display_data"
    }
   ],
   "source": [
    "confidence_intervals()"
   ]
  },
  {
   "cell_type": "markdown",
   "metadata": {},
   "source": [
    "**Part D**: Does the proportion of confidence intervals that cover the true mean of the distribution agree with the theory described in class?  Justify your conclusion. "
   ]
  },
  {
   "cell_type": "markdown",
   "metadata": {
    "collapsed": true
   },
   "source": [
    "Yeah. That is literally the definition of the confidence interval, so it makes since that 95% of the samples have a confidence interval that covers the true mean."
   ]
  },
  {
   "cell_type": "markdown",
   "metadata": {},
   "source": [
    "### [15 points] Problem 5 - Autograding Simulation Homework \n",
    "***\n",
    "\n",
    "Suppose that you are the grader for an Introduction to Data Science course and your boss has asked you to write an autograder for a homework problem on simulation.  Specifically, students have been asked to write a simulation to estimate the expected number of rolls it will take until doubles are rolled with a pair of fair, six-sided dice (i.e. until both dice show the same value).  The students have been asked to structure their code so that it runs many trials of the experiment and returns the sample mean of the trials, as well as an array containing the result of each individual trial. \n",
    "\n",
    "The solutions submitted by three students in the course are given below. "
   ]
  },
  {
   "cell_type": "code",
   "execution_count": 284,
   "metadata": {
    "collapsed": true
   },
   "outputs": [],
   "source": [
    "def student1(num_trials=5000):\n",
    "    t = np.zeros(num_trials)\n",
    "    for ii in range(num_trials):\n",
    "        ctr = 0\n",
    "        while np.random.choice([1,2,3,4,5,6]) != np.random.choice([1,2,3,4,5,6]):\n",
    "            ctr += 1 \n",
    "        t[ii] = ctr \n",
    "    return np.mean(t), t\n",
    "\n",
    "def student2(num_trials=5000):\n",
    "    t = np.zeros(num_trials)\n",
    "    for ii in range(num_trials):\n",
    "        ctr = 1\n",
    "        while int(6*np.random.uniform(0,1)+1) != int(6*np.random.uniform(0,1)+1):\n",
    "            ctr += 1 \n",
    "        t[ii] = ctr \n",
    "    return np.mean(t), t\n",
    "\n",
    "def student3(num_trials=5000):\n",
    "    t = np.random.exponential(6, size=num_trials)\n",
    "    return np.mean(t), t "
   ]
  },
  {
   "cell_type": "markdown",
   "metadata": {},
   "source": [
    "Now, you landed this job at the last minute, and your probability theory is a little rusty.  Luckily, your boss has given you his solution to the problem which is shown below: "
   ]
  },
  {
   "cell_type": "code",
   "execution_count": 285,
   "metadata": {
    "collapsed": true
   },
   "outputs": [],
   "source": [
    "def prof(num_trials=5000):\n",
    "    t = np.random.geometric(1/6, size=num_trials)\n",
    "    return np.mean(t), t"
   ]
  },
  {
   "cell_type": "markdown",
   "metadata": {},
   "source": [
    "Knowing that your probability theory is rusty, your boss has suggested that your autograder be constructed solely based on confidence intervals to compare the students' estimates of the expected value of the experiment to his own estimate.  Finally, although there are only examples from three students above, there are actually more than 100 students in the course, so tailoring your tests to features of individual students' code is out of the question. \n",
    "\n",
    "**Part A**: Complete the function autograder below, which takes in the realizations of the trials from your professor's code and one of the students' codes, as well as the $\\alpha$ for a $100(1-\\alpha)\\%$ confidence interval and returns a string indicating whether the student passed or failed the test. **Clearly** indicate what statistical test(s) your autograder is using and why this is a good idea.  Then demonstrate the use of your autograder to grade the three student solutions above. "
   ]
  },
  {
   "cell_type": "markdown",
   "metadata": {},
   "source": [
    "My autograder will use an independent t-test to compare the proportion. I figure this is good because if we can confidently say that 0 falls within the confidence interval of the difference of the means, then we know that the student's answer was probably the same as the professors."
   ]
  },
  {
   "cell_type": "code",
   "execution_count": 291,
   "metadata": {
    "collapsed": true
   },
   "outputs": [],
   "source": [
    "def autograder(pf, st, alpha=0.05):\n",
    "    # TODO\n",
    "    if alpha==0.05:\n",
    "        z=1.960\n",
    "    else:\n",
    "        z=1.960#fix this later to just calculate z\n",
    "    \n",
    "    #get means and standard deviations\n",
    "    pmean = np.mean(pf)\n",
    "    smean = np.mean(st)\n",
    "    pstd = np.std(pf)\n",
    "    sstd = np.std(st)\n",
    "    pn = len(pf)\n",
    "    sn = len(st)\n",
    "    \n",
    "    #get interval\n",
    "    pi = z*(pstd/(pn**0.5))\n",
    "    si = z*(sstd/(sn**0.5))\n",
    "    \n",
    "    #now get proportion of sample that falls in the 95% interval\n",
    "    p1 = 0\n",
    "    p2 = 0\n",
    "    for val in pf:\n",
    "        if(abs(val-mean)<pi):\n",
    "            p1+=1\n",
    "    for val in st:\n",
    "        if(abs(val-mean)<si):\n",
    "            p2+=1\n",
    "    \n",
    "    #calc proportions\n",
    "    p1 = p1/pn\n",
    "    p2 = p2/sn\n",
    "    \n",
    "    #now get interval for difference of proportions\n",
    "    interval = z*(((p1*(1-p1))/(pn))+((p2*(1-p2))/(sn)))**0.5\n",
    "    diff = p1-p2\n",
    "    \n",
    "    #now see if 0 is in that interval\n",
    "    if(abs(diff)<interval):\n",
    "        passed=True\n",
    "    else:\n",
    "        passed=False\n",
    "    \n",
    "    if passed:\n",
    "        return \"Passed\"\n",
    "    else:\n",
    "        return \"Failed\""
   ]
  },
  {
   "cell_type": "code",
   "execution_count": 295,
   "metadata": {},
   "outputs": [
    {
     "name": "stdout",
     "output_type": "stream",
     "text": [
      "Student 1 Failed\n",
      "Student 2 Passed\n",
      "Student 3 Failed\n"
     ]
    }
   ],
   "source": [
    "mp, dp = prof()\n",
    "ms1, ds1 = student1()\n",
    "ms2, ds2 = student2()\n",
    "ms3, ds3 = student3()\n",
    "print(\"Student 1 \"+autograder(dp, ds1))\n",
    "print(\"Student 2 \"+autograder(dp, ds2))\n",
    "print(\"Student 3 \"+autograder(dp, ds3))"
   ]
  },
  {
   "cell_type": "markdown",
   "metadata": {},
   "source": [
    "**[Extra Credit] Part B**: You realize that tests based solely on the estimate of the mean are not robust.  Come up with a better autograder that, again using tests based on confidence intervals, compares the students' solutions to the professor's solutions on statistical properties beyond just the mean. Again, **clearly** motivate the features of your autograder based on theory developed in class.    "
   ]
  },
  {
   "cell_type": "markdown",
   "metadata": {
    "collapsed": true
   },
   "source": [
    "### [15 points] Problem 6 - Freethrows\n",
    "***\n",
    "\n",
    "Keep your skills sharp by answering these straightforward questions."
   ]
  },
  {
   "cell_type": "markdown",
   "metadata": {},
   "source": [
    "**Part A**: <font color='green'>You are driving through the paint toward the basket when Steph Curry fouls you. You step to the line to sink this freethrow shot, which is delivered in the form of a CSCI3022 problem:</font>\n",
    "\n",
    "You have a shuffled deck of cards. You flip over the cards one by one, without replacing them in the deck. You count how many cards you'll have to flip until you flip over the third Jack.  You repeat this many times. Simulate this process. Plot a histogram with binsize=1 of the outcomes. Compute the mean, median, and mode for this dataset, indicate them on the plot too. Look up how to do a legend in MatPlotLib, and label your histogram, mean, median.\n",
    "***"
   ]
  },
  {
   "cell_type": "code",
   "execution_count": 205,
   "metadata": {
    "collapsed": true
   },
   "outputs": [],
   "source": [
    "from random import shuffle"
   ]
  },
  {
   "cell_type": "code",
   "execution_count": 259,
   "metadata": {
    "collapsed": true
   },
   "outputs": [],
   "source": [
    "def num_before_jacks():\n",
    "    #init deck\n",
    "    deck = []\n",
    "    for i in range(2, 15):\n",
    "        for j in range(4):\n",
    "            deck.append(i)\n",
    "    shuffle(deck)\n",
    "\n",
    "    #now draw some cards i guess\n",
    "    jacks = 0\n",
    "    draws = 0\n",
    "    while(jacks<3):\n",
    "        card = deck.pop()\n",
    "        draws+=1\n",
    "        if(card==11):#11 is the value of our jack\n",
    "            jacks+=1\n",
    "    return draws"
   ]
  },
  {
   "cell_type": "code",
   "execution_count": 260,
   "metadata": {},
   "outputs": [
    {
     "data": {
      "text/plain": [
       "26"
      ]
     },
     "execution_count": 260,
     "metadata": {},
     "output_type": "execute_result"
    }
   ],
   "source": [
    "num_before_jacks()"
   ]
  },
  {
   "cell_type": "code",
   "execution_count": 272,
   "metadata": {},
   "outputs": [],
   "source": [
    "def more_times(n=1000):\n",
    "    #do it many times\n",
    "    draws = []\n",
    "    for i in range(n):\n",
    "        num = num_before_jacks()\n",
    "        draws.append(num)\n",
    "    mean = np.mean(draws)\n",
    "    std = np.std(draws)\n",
    "    median = np.median(draws)\n",
    "    mode = max(set(draws), key=draws.count)\n",
    "    \n",
    "    fig, ax = plt.subplots(nrows=1, ncols=1, figsize=(12,6))\n",
    "    ax.hist(draws, bins=len(set(draws)))\n",
    "    ax.set_xticks(np.arange(26)*2)\n",
    "    ax.axvline(x=mean, color='r', label='Mean')\n",
    "    ax.axvline(x=median, color='g', label='Median')\n",
    "    ax.axvline(x=mode, color='k', label='Mode')\n",
    "    ax.set_title(\"Number of draws until 3 jacks are drawn from a deck\")\n",
    "    plt.legend(bbox_to_anchor=(1.05, 1), loc=2, borderaxespad=0.)#show the legend"
   ]
  },
  {
   "cell_type": "code",
   "execution_count": 273,
   "metadata": {},
   "outputs": [
    {
     "data": {
      "image/png": "[encoded data removed]",
      "text/plain": [
       "<matplotlib.figure.Figure at 0x212ba3286d8>"
      ]
     },
     "metadata": {},
     "output_type": "display_data"
    }
   ],
   "source": [
    "more_times(100000)"
   ]
  },
  {
   "cell_type": "markdown",
   "metadata": {},
   "source": [
    "**Part B**: <font color='green'>You sink your first free throw and immediately get dap from your teammates, Jerry Ferguson and Steve Ferguson. You prepare to take anotter shot, which—and you're not going to believe this—is another CSCI3022 problem:</font>\n",
    "\n",
    "In general, which is wider: a 95% confidence interval or a 99% confidence interval? How would you explain this to your younger sibling, who is not a statistician?\n",
    "***"
   ]
  },
  {
   "cell_type": "markdown",
   "metadata": {},
   "source": [
    "Generallly, a 99% confidence interval is wider. The wider the interval, the more likely it is for the real value to fall in it. To do some sanity checks, an infinitely wide interval will cover the mean 100% of the time. An infinitely small (but not 0) interval will probably cover the mean close to 0% of the time. So, generally, the higher the percent in the confidence interval, the wider the interval."
   ]
  },
  {
   "cell_type": "markdown",
   "metadata": {},
   "source": [
    "**Part C**: <font color='green'>The crowd is silent. Everything is slow motion. You're literally in the air, releasing what looks to be a perfect shot to tie the match. As you release the ball, a hand appears to block it. It is Kevin Durant. :( \n",
    "\n",
    "Luckily, his fingertips also brush against your arm. That's a foul, and everyone saw it. Back to the line. Back to CSCI3022:</font>\n",
    "\n",
    "Let $X$ be a normally-distributed random variable. You draw from it and get these values, stored in the numpy array **durant**, below. Compute a 95% confidence interval for the standard deviation.\n",
    "***"
   ]
  },
  {
   "cell_type": "code",
   "execution_count": 185,
   "metadata": {
    "collapsed": true
   },
   "outputs": [],
   "source": [
    "durant = np.array([3.7778,3.9459,3.8248,4.1111,4.0180,4.0898,4.0380,3.9273,3.9614,3.8387])"
   ]
  },
  {
   "cell_type": "code",
   "execution_count": 189,
   "metadata": {},
   "outputs": [
    {
     "name": "stdout",
     "output_type": "stream",
     "text": [
      "The 95% confidence interval for the given sample is 3.95 +- 0.0668\n"
     ]
    }
   ],
   "source": [
    "z = 1.960\n",
    "std = np.std(durant)\n",
    "sqrtn = durant.shape[0]**0.5\n",
    "mean = np.mean(durant)\n",
    "mr_interval = z*(std/sqrtn)\n",
    "print(\"The 95% confidence interval for the given sample is {0:.3} +- {1:.3}\".format(mean, mr_interval))"
   ]
  },
  {
   "cell_type": "markdown",
   "metadata": {},
   "source": [
    "**Part D**: <font color='green'>You are watching tape footage at halftime with your personal trainer, Maureen Ferguson. You gotta focus up if you're going to match Klay Thompson's speed in the second half. You take a sip of Gatorade and Dr. Ferguson suggests that you do the following CSCI3022 problem:</font>\n",
    "\n",
    "You collect 53 samples of hair from baby river otters and find that they are, on average, 22.6 mm long, with a standard devaition of 15.2mm. \n",
    "\n",
    "Then you collect 41 samples of hair from baby sea otters and find that they are, on average, 26.4 mm long, with a standard deviation of 11.4 mm. \n",
    "\n",
    "Is there statistical evidence at the 0.05 significance level that the true mean of baby sea otter hair length exceeds the true mean of baby river otter hair length by more than 3 mm?  Use a test of your choice.\n",
    "\n",
    "***"
   ]
  },
  {
   "cell_type": "code",
   "execution_count": 196,
   "metadata": {},
   "outputs": [
    {
     "name": "stdout",
     "output_type": "stream",
     "text": [
      "Confidence interval: 3.8 +- 5.378\n"
     ]
    }
   ],
   "source": [
    "alpha = 0.05\n",
    "z= 1.960\n",
    "# _r for river otters, _b for baby sea otters\n",
    "n_r = 53\n",
    "mean_r = 22.6#lol mean otters\n",
    "std_r = 15.2\n",
    "n_b = 41\n",
    "mean_b = 26.4\n",
    "std_b = 11.4\n",
    "\n",
    "#now for other shenanigans\n",
    "diff = mean_b - mean_r\n",
    "i = z*(((std_r**2)/(n_r))+((std_b**2)/(n_b)))**0.5\n",
    "print(\"Confidence interval: {0:.4} +- {1:.4}\".format(diff, i))"
   ]
  },
  {
   "cell_type": "markdown",
   "metadata": {},
   "source": [
    "There is not statistical evidence for this claim. Or at least the data given does not support the claim. The confidence interval is greater than the difference of the means, so it's quite possible that the true mean for baby sea otters is actually less than the true mean of river otters or vice versa. We do not have sufficient data to say. "
   ]
  },
  {
   "cell_type": "markdown",
   "metadata": {},
   "source": [
    "**Part E**: <font color='green'>\"Draymond Green has it all, in spite of living in the Bay Area,\" you think to yourself. \"But he doesn't have this shot...\" You're all over him, and he's going to have to pass. You can see the irritation in his eyes. Then you realize that it's not irritation, and he's not being distracted by your superb defense. He's being distracted by this CSCI3022 problem:</font>\n",
    "\n",
    "If you're doing quality control for the average strength of carbon fiber that will be used in airplane construction, and your alternative hypothesis is that the strength of the carbon is below tolerance, and therefore unsafe, would you rather have a low Type I error rate or a low Type II error rate? Explain.\n",
    "\n",
    "***"
   ]
  },
  {
   "cell_type": "markdown",
   "metadata": {},
   "source": [
    "I would rather have a low type II error. In this case, Type I error means you marked carbon fiber as insufficient even though it actually is ok, and Type II error means you have marked the carbon fiber as ok even though it actually isn't. I'd much rather stay on the safe side and have a low chance of marking faulty carbon fiber as ok."
   ]
  },
  {
   "cell_type": "code",
   "execution_count": null,
   "metadata": {
    "collapsed": true
   },
   "outputs": [],
   "source": []
  }
 ],
 "metadata": {
  "kernelspec": {
   "display_name": "Python 3",
   "language": "python",
   "name": "python3"
  },
  "language_info": {
   "codemirror_mode": {
    "name": "ipython",
    "version": 3
   },
   "file_extension": ".py",
   "mimetype": "text/x-python",
   "name": "python",
   "nbconvert_exporter": "python",
   "pygments_lexer": "ipython3",
   "version": "3.6.3"
  }
 },
 "nbformat": 4,
 "nbformat_minor": 2
}
