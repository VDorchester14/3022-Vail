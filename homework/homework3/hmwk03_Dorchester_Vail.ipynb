{
 "cells": [
  {
   "cell_type": "markdown",
   "metadata": {},
   "source": [
    "# Homework 3: Random Variables and Their Distributions\n",
    "***\n",
    "\n",
    "**Name**: \n",
    "\n",
    "***\n",
    "\n",
    "This assignment is due on Moodle by **5pm on Friday March 2nd**. Your solutions to theoretical questions should be done in Markdown/MathJax directly below the associated question.  Your solutions to computational questions should include any specified Python code and results as well as written commentary on your conclusions.  Remember that you are encouraged to discuss the problems with your instructors and classmates, but **you must write all code and solutions on your own**.  For a refresher on the course **Collaboration Policy** click [here](https://github.com/dblarremore/csci3022/blob/master/resources/syllabus.md#collaboration-policy).  \n",
    "\n",
    "**NOTES**: \n",
    "\n",
    "- Do **NOT** load or use any Python packages that are not available in Anaconda 3.6. \n",
    "- Some problems with code may be autograded.  If we provide a function API **do not** change it.  If we do not provide a function API then you're free to structure your code however you like. \n",
    "- Because you can technically evaluate notebook cells is a non-linear order, it's a good idea to do Cell $\\rightarrow$ Run All as a check before submitting your solutions.  That way if we need to run your code you will know that it will work as expected. \n",
    "- Submit only this Jupyter notebook to Moodle.  Do not compress it using tar, rar, zip, etc. \n",
    "\n",
    "### Work only 4 of the 5 problems below! Your choice."
   ]
  },
  {
   "cell_type": "code",
   "execution_count": 183,
   "metadata": {
    "collapsed": true,
    "scrolled": true
   },
   "outputs": [],
   "source": [
    "import pandas as pd\n",
    "import numpy as np\n",
    "import matplotlib.pylab as plt\n",
    "from scipy.special import binom\n",
    "import math\n",
    "%matplotlib inline"
   ]
  },
  {
   "cell_type": "markdown",
   "metadata": {},
   "source": [
    "### [25 points] Problem 1\n",
    "***\n",
    "\n",
    "Let $X$ be the lifespan (in years) of a BF Otterich Rugged Trail T/A tire under normal driving conditions, and suppose $X$ is described by the following probability density function: \n",
    "\n",
    "$$\n",
    "f(x) = \\left\\{ \n",
    "\\begin{array}{ll}\n",
    "\\dfrac{15}{c x^3} & 1 \\leq x \\leq 15 \\\\\n",
    "0 & \\textrm{otherwise}\n",
    "\\end{array}\n",
    "\\right.\n",
    "$$\n",
    "\n",
    "**Part A**: Determine the value of $c$ such that $f(x)$ is a valid PDF. "
   ]
  },
  {
   "cell_type": "markdown",
   "metadata": {
    "collapsed": true
   },
   "source": []
  },
  {
   "cell_type": "markdown",
   "metadata": {},
   "source": [
    "**Part B**: Compute the cumulative distribution function $F(y)$ for $X$. "
   ]
  },
  {
   "cell_type": "markdown",
   "metadata": {},
   "source": []
  },
  {
   "cell_type": "markdown",
   "metadata": {},
   "source": []
  },
  {
   "cell_type": "markdown",
   "metadata": {},
   "source": [
    "**Part C**: Use the cdf you computed in **Part B** to find the probability that a single tire goes longer than 5 years without failing. "
   ]
  },
  {
   "cell_type": "markdown",
   "metadata": {
    "collapsed": true
   },
   "source": []
  },
  {
   "cell_type": "markdown",
   "metadata": {},
   "source": [
    "**Part D**: Use the cdf you computed in **Part B** to determine the number of years within which $62.5\\%$ of all tires will need to be replaced. In other words, determine the 62.5th percentile of the distribution of $X$. "
   ]
  },
  {
   "cell_type": "markdown",
   "metadata": {
    "collapsed": true
   },
   "source": []
  },
  {
   "cell_type": "markdown",
   "metadata": {},
   "source": [
    "**Part E**: What is the probability that all four BF Otterich Rugged Trail T/A tires on a vehicle last longer than 5 years without failing? "
   ]
  },
  {
   "cell_type": "markdown",
   "metadata": {
    "collapsed": true
   },
   "source": []
  },
  {
   "cell_type": "markdown",
   "metadata": {},
   "source": [
    "### [25 points] Problem 2\n",
    "***\n",
    "\n",
    "You are a data-driven transportation engineer investigating the effect that a particular [vertical lift bridge](https://en.wikipedia.org/wiki/Vertical-lift_bridge) has on city traffic.  Every time a boat passes under the bridge, cars must stop while the bridge is raised to accommodate the height of the boat.  As both boat and car traffic increases, city planners are considering building a new taller bridge that will never impede the flow of traffic. As part of a larger simulation of traffic congestion, you need to decide how to model the arrival of boats at the bridge.  From your Intro to Data Science class you remember that the time _between_ independent arrivals are usually modeled by an Exponential distribution.  Finally, you have access to a report that says on average 10 boats cross under the bridge per day.\n",
    "\n",
    "Answer the following questions about this scenario. **Note** that for **Parts B-D** you should clearly express the computation you're doing with math, but feel free to do any fancy function evaluations with Python. \n",
    "\n",
    "**Part A**:  Assuming the between-boat times do in-fact follow $Exp(10)$, what distribution would you expect the **number** of boats that cross under the bridge on a given day to follow?  What are the parameter(s) of the distribution? "
   ]
  },
  {
   "cell_type": "markdown",
   "metadata": {
    "collapsed": true
   },
   "source": [
    "The actual number of boats that pass through would follow the Poisson distribution, which would use 10 as the average number in a time frame, and then it would take parameter x, which is the number of events we want to find the probability for. The exponential distribution describes the time between events in a poisson distribution."
   ]
  },
  {
   "cell_type": "markdown",
   "metadata": {},
   "source": [
    "**Part B**:  What is the probability that 13 boats cross under the bridge on a particular day?"
   ]
  },
  {
   "cell_type": "markdown",
   "metadata": {
    "collapsed": true
   },
   "source": [
    "$P(x) = e^{-10}\\times\\frac{10^x}{x!} = e^{-10}\\times\\frac{10^{13}}{13!} = 0.07290$"
   ]
  },
  {
   "cell_type": "markdown",
   "metadata": {},
   "source": [
    "**Part C**:  What is the probability that 8 boats or fewer cross under the bridge on a particular day?"
   ]
  },
  {
   "cell_type": "markdown",
   "metadata": {
    "collapsed": true
   },
   "source": [
    "To do this, i will integrate to PDF of a poisson distribution over the integral 0 to 8. The code was me trying to do it numerically."
   ]
  },
  {
   "cell_type": "code",
   "execution_count": 478,
   "metadata": {
    "collapsed": true
   },
   "outputs": [],
   "source": [
    "def pShips(n, mean):\n",
    "    return (math.exp(-mean)*((mean**n)/(math.factorial(n))))"
   ]
  },
  {
   "cell_type": "code",
   "execution_count": 479,
   "metadata": {},
   "outputs": [],
   "source": [
    "pr = 0\n",
    "#sum the probabilities for 0-8 ships\n",
    "for i in range(9):\n",
    "    pr+=pShips(i, 10)"
   ]
  },
  {
   "cell_type": "markdown",
   "metadata": {},
   "source": [
    "The integral comes out to about 0.27"
   ]
  },
  {
   "cell_type": "markdown",
   "metadata": {},
   "source": [
    "**Part D**: What is the probability that between 2 and 4 hours pass between two boat crossings? "
   ]
  },
  {
   "cell_type": "code",
   "execution_count": 480,
   "metadata": {
    "collapsed": true
   },
   "outputs": [],
   "source": [
    "#exponential probability of value with exp(rate)\n",
    "def exp(rate, x):\n",
    "    return rate*math.exp(-1*rate*x)"
   ]
  },
  {
   "cell_type": "code",
   "execution_count": 481,
   "metadata": {
    "collapsed": true
   },
   "outputs": [],
   "source": [
    "#cumulative\n",
    "def cumul(rate, x):\n",
    "    return (1-math.exp(-1*rate*x))"
   ]
  },
  {
   "cell_type": "code",
   "execution_count": 482,
   "metadata": {},
   "outputs": [
    {
     "name": "stdout",
     "output_type": "stream",
     "text": [
      "0.9918379816874708\n"
     ]
    }
   ],
   "source": [
    "#using 24/10 as hourly rate\n",
    "a = cumul(24/10, 4) - cumul(24/10, 2)#prob that the time between events falls in this range\n",
    "print(1-a)#1-a is the probability that no boat comes in this time range"
   ]
  },
  {
   "cell_type": "markdown",
   "metadata": {},
   "source": [
    "The chance that the time between boat crossings is between 2-4 hours is 0.99183"
   ]
  },
  {
   "cell_type": "markdown",
   "metadata": {},
   "source": [
    "**Part F**: Write a function boat_count that takes as its sole argument the rate parameter $\\lambda$ with units boats per day. Your function should simulate boat arrivals at the bridge by sampling between-boat times from $Exp(\\lambda)$ via Numpy's [random.exponential](https://docs.scipy.org/doc/numpy-1.13.0/reference/generated/numpy.random.exponential.html) function and return the number of boats that pass under the bridge on a single simulated day. \n",
    "\n",
    "**Note**: Do not change the API for this function. In other words, please keep the name of the function, its input parameter, and its desired output the same. Of course, the inner workings of this function and the actual value that it returns are in your hands!"
   ]
  },
  {
   "cell_type": "code",
   "execution_count": 483,
   "metadata": {
    "collapsed": true
   },
   "outputs": [],
   "source": [
    "#so this takes beta which is 1/rate\n",
    "def boat_count(lam):\n",
    "    beta = 1/lam\n",
    "    time = 0\n",
    "    boats = 0\n",
    "    while(time<1):#simulate boat arrivals until a day has passed\n",
    "        time+=np.random.exponential(beta)\n",
    "        boats+=1\n",
    "    return boats"
   ]
  },
  {
   "cell_type": "code",
   "execution_count": 484,
   "metadata": {},
   "outputs": [
    {
     "data": {
      "text/plain": [
       "10"
      ]
     },
     "execution_count": 484,
     "metadata": {},
     "output_type": "execute_result"
    }
   ],
   "source": [
    "boat_count(10)"
   ]
  },
  {
   "cell_type": "markdown",
   "metadata": {},
   "source": [
    "**Part G**: Write a function boat_count_sim that takes as arguments the rate parameter $\\lambda$ with units boats per day and an integer number of days to simulate. Your function should use the function you wrote in **Part F** to simulate many independent days of boat crossings and estimate the probability that 8 boats or fewer cross under the bridge on a particular day. For $\\lambda = 10$, does your estimate agree with the by-hand computation you did in **Part C**?  \n",
    "\n",
    "**Note**: Do not change the API for this function. "
   ]
  },
  {
   "cell_type": "code",
   "execution_count": 485,
   "metadata": {
    "collapsed": true
   },
   "outputs": [],
   "source": [
    "def boat_count_sim(lam, num_days=int(1e3)):\n",
    "    countPerDay = []\n",
    "    #simulate days\n",
    "    for i in range(num_days+1):\n",
    "        countPerDay.append(boat_count(lam))\n",
    "    #times there were 8 or less\n",
    "    eightOrLess = 0\n",
    "    for i in countPerDay:\n",
    "        if(i<=8):\n",
    "            eightOrLess+=1\n",
    "    return eightOrLess/num_days"
   ]
  },
  {
   "cell_type": "code",
   "execution_count": 489,
   "metadata": {},
   "outputs": [
    {
     "data": {
      "text/plain": [
       "0.2247"
      ]
     },
     "execution_count": 489,
     "metadata": {},
     "output_type": "execute_result"
    }
   ],
   "source": [
    "boat_count_sim(10, 10000)"
   ]
  },
  {
   "cell_type": "markdown",
   "metadata": {},
   "source": [
    "This value is pretty close to my caluclated value, but is a lower enough that it is significant and noteworthy."
   ]
  },
  {
   "cell_type": "markdown",
   "metadata": {},
   "source": [
    "**Part H**: Write a function boat_time_sim that takes as arguments the rate parameter $\\lambda$ with units boats per day and an integer number of boat arrivals to simulate. Your function should sample boat arrivals via [np.random.exponential](https://docs.scipy.org/doc/numpy-1.13.0/reference/generated/numpy.random.exponential.html) and estimate the probability that boats arrive between 2 and 4 hours apart.  For $\\lambda = 10$, does your estimate agree with the by-hand computation you did in **Part D**?  \n",
    "\n",
    "**Note**: Do not change the API for this function.  "
   ]
  },
  {
   "cell_type": "code",
   "execution_count": 487,
   "metadata": {
    "collapsed": true
   },
   "outputs": [],
   "source": [
    "def boat_time_sim(lam, num_boats=int(1e3)):\n",
    "    beta = 1/lam#param for exp\n",
    "    times = []\n",
    "    #do sims\n",
    "    interval_count = 0\n",
    "    for x in range(num_boats + 1):\n",
    "        t = np.random.exponential(beta)\n",
    "        times.append(t)\n",
    "        if(t<=(4/24) and t>=(2/24)):#if it is between 2 and 4 hours\n",
    "            interval_count+=1\n",
    "    return interval_count/num_boats"
   ]
  },
  {
   "cell_type": "code",
   "execution_count": 492,
   "metadata": {},
   "outputs": [
    {
     "data": {
      "text/plain": [
       "0.235"
      ]
     },
     "execution_count": 492,
     "metadata": {},
     "output_type": "execute_result"
    }
   ],
   "source": [
    "boat_time_sim(10, 1000)"
   ]
  },
  {
   "cell_type": "markdown",
   "metadata": {},
   "source": [
    "### [25 points] Problem 3 \n",
    "***\n",
    "\n",
    "Let $X =$ the leading digit of a randomly selected number from a large accounting\n",
    "ledger. For example, if we randomly draw the number \\$20,695, then $X = 2.$\n",
    "People who make up numbers to commit accounting fraud tend to give $X$ a\n",
    "(discrete) uniform distribution, i.e., $P(X = x) = \\frac{1}{9}$, for $x \\in \\{1, ..., 9\\}$. However,\n",
    "there is empirical evidence that suggests that _naturally occurring_ numbers (e.g.,\n",
    "numbers in a non-fraudulent accounting ledgers) have leading digits that do not\n",
    "follow a uniform distribution. Instead, they follow a distribution defined by the following probability mass function:\n",
    "\n",
    "$$\n",
    "f(x) = \\log_{10}\\left( \\frac{x+1}{x} \\right) \\quad \\textrm{for } x = 1, 2, \\ldots, 9\n",
    "$$"
   ]
  },
  {
   "cell_type": "markdown",
   "metadata": {},
   "source": [
    "**Part A**: Write a function pmf_natural that implements $f(x)$. Your function should take in an integer $x$ and return $f(x) = P(X = x)$.  Use your function to argue that $f(x)$ is a well-defined probability mass function. "
   ]
  },
  {
   "cell_type": "code",
   "execution_count": 2,
   "metadata": {
    "collapsed": true
   },
   "outputs": [],
   "source": [
    "def pmf_natural(x):\n",
    "    r = np.log10((x+1)/(x))\n",
    "    return r "
   ]
  },
  {
   "cell_type": "code",
   "execution_count": 13,
   "metadata": {},
   "outputs": [
    {
     "name": "stdout",
     "output_type": "stream",
     "text": [
      "P(1) = 0.301029995664\n",
      "P(2) = 0.176091259056\n",
      "P(3) = 0.124938736608\n",
      "P(4) = 0.0969100130081\n",
      "P(5) = 0.0791812460476\n",
      "P(6) = 0.0669467896306\n",
      "P(7) = 0.0579919469777\n",
      "P(8) = 0.0511525224474\n",
      "P(9) = 0.0457574905607\n",
      "1.0\n"
     ]
    }
   ],
   "source": [
    "sum=0\n",
    "for i in range(1, 10):\n",
    "    sum+=pmf_natural(i)\n",
    "    print(\"P(\"+str(i)+\") = \"+str(pmf_natural(i)))\n",
    "print(sum)"
   ]
  },
  {
   "cell_type": "markdown",
   "metadata": {},
   "source": [
    "The code above shows that this is a valid PMF, because the values in the range are above zero for the given support, and they sum to 1."
   ]
  },
  {
   "cell_type": "markdown",
   "metadata": {},
   "source": [
    "**Part B**: Use the function you wrote above to make stacked bar plots describing the pmf of the naturally occurring numbers as well as the discrete uniform distribution.  Make sure that the $x$- and $y$-limits on your plots are the same so that the two distributions are easy to compare. "
   ]
  },
  {
   "cell_type": "code",
   "execution_count": 16,
   "metadata": {},
   "outputs": [],
   "source": [
    "pmf = []\n",
    "for i in range(1,10):\n",
    "    pmf.append(pmf_natural(i))"
   ]
  },
  {
   "cell_type": "code",
   "execution_count": 38,
   "metadata": {},
   "outputs": [
    {
     "data": {
      "image/png": "[encoded data removed]",
      "text/plain": [
       "<matplotlib.figure.Figure at 0x1ed411ddb70>"
      ]
     },
     "metadata": {},
     "output_type": "display_data"
    }
   ],
   "source": [
    "# Initialize figure subplots\n",
    "fig, axes = plt.subplots(nrows=2, ncols=1, figsize=(12,8))\n",
    "\n",
    "y_pos = np.arange(len(pmf))\n",
    "axes[0].barh(y_pos, pmf, align='center', alpha=0.5)\n",
    "axes[0].set_yticks(y_pos, range(1,10))\n",
    "axes[0].set_xlabel('P(X=k)')\n",
    "axes[0].set_ylabel('k')\n",
    "axes[0].set_xlim([0,0.5])\n",
    "axes[0].set_title('PMF of naturally occuring numbers')\n",
    "\n",
    "y_pos = np.arange(len(pmf))\n",
    "axes[1].barh(y_pos, 1/9, align='center', alpha=0.5)\n",
    "axes[1].set_yticks(y_pos, range(1,10))\n",
    "axes[1].set_xlabel('P(X=k)')\n",
    "axes[1].set_ylabel('k')\n",
    "axes[1].set_xlim([0,0.5])\n",
    "axes[1].set_title('PMF of uniform distribution')\n",
    "\n",
    "# Adjust vertical space so titles/axis labels don't overlap \n",
    "fig.subplots_adjust(hspace=.5)"
   ]
  },
  {
   "cell_type": "markdown",
   "metadata": {},
   "source": [
    "**Part C**: Write a function cdf_natural that implements the cumulative distribution function $F(y)$ for $X$ and use it to compute the probability that the leading digit in a number is at most 4 and at most 5. "
   ]
  },
  {
   "cell_type": "code",
   "execution_count": 52,
   "metadata": {
    "collapsed": true
   },
   "outputs": [],
   "source": [
    "#basically just sum the probabilities of each val in the support\n",
    "#since it is a discrete distribution\n",
    "def cdf_natural(y):\n",
    "    p = 0\n",
    "    for i in range(1,y+1):\n",
    "        p+=pmf_natural(i)\n",
    "    return p"
   ]
  },
  {
   "cell_type": "code",
   "execution_count": 54,
   "metadata": {},
   "outputs": [
    {
     "data": {
      "text/plain": [
       "0.69897000433601886"
      ]
     },
     "execution_count": 54,
     "metadata": {},
     "output_type": "execute_result"
    }
   ],
   "source": [
    "cdf_natural(4)"
   ]
  },
  {
   "cell_type": "markdown",
   "metadata": {},
   "source": [
    "The above example shows that the probability that the leading number is at most 4 (1,2,3, or 4), 0.69897. "
   ]
  },
  {
   "cell_type": "code",
   "execution_count": 55,
   "metadata": {},
   "outputs": [
    {
     "data": {
      "text/plain": [
       "0.77815125038364363"
      ]
     },
     "execution_count": 55,
     "metadata": {},
     "output_type": "execute_result"
    }
   ],
   "source": [
    "cdf_natural(5)"
   ]
  },
  {
   "cell_type": "markdown",
   "metadata": {},
   "source": [
    "The next example above shows that the probability that the number is at most 5 is 0.77815"
   ]
  },
  {
   "cell_type": "markdown",
   "metadata": {},
   "source": [
    "**Part D**: The data in tax_data.txt contains the taxable income for individuals in 1978. Use Pandas and the information from **Parts A-D** to determine whether or not the dataset is likely fraudulent.  In addition to code and any graphical summaries, make sure to clearly justify your conclusion in words. "
   ]
  },
  {
   "cell_type": "code",
   "execution_count": 86,
   "metadata": {},
   "outputs": [
    {
     "data": {
      "text/plain": [
       "Text(0.5,1,'PMF of dataset')"
      ]
     },
     "execution_count": 86,
     "metadata": {},
     "output_type": "execute_result"
    },
    {
     "data": {
      "image/png": "[encoded data removed]",
      "text/plain": [
       "<matplotlib.figure.Figure at 0x1ed40e3c908>"
      ]
     },
     "metadata": {},
     "output_type": "display_data"
    }
   ],
   "source": [
    "path = 'tax_data.txt'\n",
    "df = pd.read_csv(path, delimiter='\\t')#get the data\n",
    "\n",
    "#drop where tax data is 0\n",
    "df['Tax Incomes'].replace(0, np.nan, inplace=True)\n",
    "df.dropna(subset=['Tax Incomes'], inplace=True)\n",
    "\n",
    "#now make a column of first digits\n",
    "df[\"first_digit\"] = df[\"Tax Incomes\"].apply(lambda s: int(str(s)[0]))#get first digit by casting to string and back to int\n",
    "\n",
    "#now get count for each digit\n",
    "#dis = df.groupby('first_digit').count()\n",
    "dis = []\n",
    "for i in range(1, 10):\n",
    "    dis.append((df['first_digit'] == i).sum())\n",
    "\n",
    "#now convert this to a list of probabilities\n",
    "total = 0\n",
    "for i in dis:\n",
    "    total+=i\n",
    "dis = [(n/total) for n in dis]\n",
    "\n",
    "# Initialize figure subplots\n",
    "fig, axes = plt.subplots(figsize=(12,4))\n",
    "\n",
    "y_pos = np.arange(len(dis))\n",
    "axes.barh(y_pos, dis, align='center', alpha=0.5)\n",
    "axes.set_yticks(y_pos, range(1,10))\n",
    "axes.set_xlabel('P(X=k)')\n",
    "axes.set_ylabel('k')\n",
    "axes.set_xlim([0,0.5])\n",
    "axes.set_title('PMF of dataset')"
   ]
  },
  {
   "cell_type": "markdown",
   "metadata": {},
   "source": [
    "The above plot matches the distribution for naturally occuring numbers, so it is likely a real dataset."
   ]
  },
  {
   "cell_type": "markdown",
   "metadata": {},
   "source": [
    "### [25 points] Problem 4\n",
    "***\n",
    "\n",
    "You are the team manager for the CU intramural Quidditch team, the Boulder Beaters, and you've just made it to the national championship series against the Stanford Snitching Snitches. The typical Quidditch championship is a best of 11 series, so the first team to win 6 matches is declared the winner.  Furthermore, based on a rigorous statistical analysis of regular season play, the probability that the Boulder Beaters win any one match against the Snitching Snitches is given by $p = 0.55$.  \n",
    "\n",
    "**Part A**: What is the probability that you win the 11-game series on the 8th match played? \n"
   ]
  },
  {
   "cell_type": "code",
   "execution_count": 237,
   "metadata": {
    "collapsed": true
   },
   "outputs": [],
   "source": [
    "def n_choose_k(n,k):\n",
    "    return math.factorial(n)/(math.factorial(k)*math.factorial(n-k))"
   ]
  },
  {
   "cell_type": "code",
   "execution_count": 238,
   "metadata": {},
   "outputs": [],
   "source": [
    "c = n_choose_k(8, 6)\n",
    "p = c*(0.55**6)*(0.45**2)"
   ]
  },
  {
   "cell_type": "code",
   "execution_count": 239,
   "metadata": {},
   "outputs": [
    {
     "name": "stdout",
     "output_type": "stream",
     "text": [
      "0.1569492323437501\n"
     ]
    }
   ],
   "source": [
    "print(p)"
   ]
  },
  {
   "cell_type": "markdown",
   "metadata": {},
   "source": [
    "The Boulder Beaters have a 0.1569 probability of winning the match on their 8th game. This was found by using a negative binomial distribution to find the event of 6 wins out of 8 games."
   ]
  },
  {
   "cell_type": "markdown",
   "metadata": {},
   "source": [
    "**Part B**: What is the probability that you win the 11-game series in any valid number of matches? "
   ]
  },
  {
   "cell_type": "code",
   "execution_count": 240,
   "metadata": {
    "collapsed": true
   },
   "outputs": [],
   "source": [
    "#this function returns the probability of winning 6 games out of numGames with a win rate of 0.55\n",
    "def series(numGames, p):\n",
    "    return 0 if numGames<6 else n_choose_k((numGames-1), (6-1))*(p**6)*((1-p)**(numGames-6))"
   ]
  },
  {
   "cell_type": "code",
   "execution_count": 241,
   "metadata": {},
   "outputs": [
    {
     "data": {
      "text/plain": [
       "0.12871798917591798"
      ]
     },
     "execution_count": 241,
     "metadata": {},
     "output_type": "execute_result"
    }
   ],
   "source": [
    "series(11, 0.55)"
   ]
  },
  {
   "cell_type": "markdown",
   "metadata": {},
   "source": [
    "There's 11 games, and you could win after 6, 7, 8, 9, 10, or 11. So, those are the values we are interested in."
   ]
  },
  {
   "cell_type": "code",
   "execution_count": 242,
   "metadata": {},
   "outputs": [
    {
     "name": "stdout",
     "output_type": "stream",
     "text": [
      "Probability of winning series after exactly 0 games: 0\n",
      "Probability of winning series after exactly 1 games: 0\n",
      "Probability of winning series after exactly 2 games: 0\n",
      "Probability of winning series after exactly 3 games: 0\n",
      "Probability of winning series after exactly 4 games: 0\n",
      "Probability of winning series after exactly 5 games: 0\n",
      "Probability of winning series after exactly 6 games: 0.027680640625000013\n",
      "Probability of winning series after exactly 7 games: 0.07473772968750002\n",
      "Probability of winning series after exactly 8 games: 0.11771192425781253\n",
      "Probability of winning series after exactly 9 games: 0.14125430910937503\n",
      "Probability of winning series after exactly 10 games: 0.1430199879732422\n",
      "Probability of winning series after exactly 11 games: 0.12871798917591798\n",
      "Probability of winning the series: 0.6331225808288479\n"
     ]
    }
   ],
   "source": [
    "#init possible games and probability \n",
    "probs = 0\n",
    "for i in range(12):\n",
    "    pp = series(i, 0.55)\n",
    "    probs+=pp\n",
    "    print(\"Probability of winning series after exactly {:d} games: \".format(i)+str(pp))\n",
    "print(\"Probability of winning the series: \"+str(probs))"
   ]
  },
  {
   "cell_type": "markdown",
   "metadata": {},
   "source": [
    "**Part C**: The winner of the champsionship will take home \\$10,000 to use for equipment and victory parties in the following season. Because the stakes are so high, you've decided to hire a famous Quidditch consultant, Bludger Bob, to help you prepare for each match. With Bob's help your probability of winning any given match increases to $p = 0.7$.  Bludger Bob charges a fee of \\$100 per game, but as a testament to his confidence in his abilities, only charges you the \\$100 for games that you win and only if you win the series.  So, if you play a 11-game series and win you will take home \\$10,000 less \\$600 for Bludger Bob's fees, for a total payout of \\$9,400.  What is the expected payout for an 11-game series?   "
   ]
  },
  {
   "cell_type": "code",
   "execution_count": 249,
   "metadata": {
    "collapsed": true
   },
   "outputs": [],
   "source": [
    "#sums the probabilities\n",
    "def pWin(numGames, p):\n",
    "    probs = 0\n",
    "    for i in range(6, numGames+1):\n",
    "        pp=series(i, p)\n",
    "        probs+=pp\n",
    "    return probs"
   ]
  },
  {
   "cell_type": "code",
   "execution_count": 250,
   "metadata": {},
   "outputs": [
    {
     "name": "stdout",
     "output_type": "stream",
     "text": [
      "The probability of winning an eleven game series under these conditions is 0.921775\n"
     ]
    }
   ],
   "source": [
    "print(\"The probability of winning an eleven game series under these conditions is {:f}\".format(pWin(11, 0.7)))"
   ]
  },
  {
   "cell_type": "code",
   "execution_count": 245,
   "metadata": {},
   "outputs": [
    {
     "name": "stdout",
     "output_type": "stream",
     "text": [
      "8664.686964976\n"
     ]
    }
   ],
   "source": [
    "#probability of winning multiplied by the payout if you win.\n",
    "payout = pWin(11, 0.7) * 9400\n",
    "print(payout)"
   ]
  },
  {
   "cell_type": "markdown",
   "metadata": {},
   "source": [
    "Wasn't really sure how to approach this, but i just multiplied the probability of winning with the money you get if you do win, so, if you were to participate in the 11 game series with the given stats, you could expect \\$8664 per participation."
   ]
  },
  {
   "cell_type": "markdown",
   "metadata": {},
   "source": [
    "**Part D**: This year the National Intramural Quidditch Association (NIQA) is implementing an experimental rule.  As the team with the best record in the regular season you will get to choose the length of the championship series.  Specifically, you can choose the series length to be anywhere from $N=3, 5, 7, \\ldots, 99$ games long.  Assuming that you plan to use Bludger Bob's services and considering the fact that you have a better than even chance of winning each game, explain the trade-offs between choosing a short series vs. a long series in terms of Expected Payout. \n"
   ]
  },
  {
   "cell_type": "markdown",
   "metadata": {
    "collapsed": true
   },
   "source": [
    "If you were to use a long series, you're more likely to win since your win rate would converge towards the 0.7. However, Bob would take a larger cut since you'd have to win more games. If you use a shorter series, you're less likely to win since your win rate is more volatile with smaller sets, but bob would take a smaller cut since you need to win fewer games."
   ]
  },
  {
   "cell_type": "markdown",
   "metadata": {},
   "source": [
    "**Part E**: Write a function optimal_series that takes in $p$, the probability that your team wins an individual game, then computes the Expected Payout for each series of length $N=3, 5, 7, \\ldots 99$ and returns the optimal series length.  In addition to returning the optimal series length, your function should also produce a plot of Expected Payout vs Series Length. You may write any additional helper functions that you like, but you should not change the API for the function optimal_series. "
   ]
  },
  {
   "cell_type": "code",
   "execution_count": 367,
   "metadata": {
    "collapsed": true
   },
   "outputs": [],
   "source": [
    "#this function returns the probability of winning (numGames+1)/2 games out of numGames with a win rate of 0.55\n",
    "def series2(numGames, p, winsRequired):\n",
    "    nck = n_choose_k((numGames-1),(winsRequired-1))\n",
    "    w = (p**winsRequired)\n",
    "    l = (1-p)**(numGames-winsRequired)\n",
    "    if(numGames<winsRequired):\n",
    "        return 0\n",
    "    else:\n",
    "        return nck*w*l"
   ]
  },
  {
   "cell_type": "code",
   "execution_count": 368,
   "metadata": {},
   "outputs": [
    {
     "data": {
      "text/plain": [
       "0.12965400000000002"
      ]
     },
     "execution_count": 368,
     "metadata": {},
     "output_type": "execute_result"
    }
   ],
   "source": [
    "series2(7, 0.7, 4)"
   ]
  },
  {
   "cell_type": "code",
   "execution_count": 369,
   "metadata": {
    "collapsed": true
   },
   "outputs": [],
   "source": [
    "#Probability of winning the series of N games with win rate p\n",
    "def pWin2(N, p):\n",
    "    probs = 0\n",
    "    winsRequired = (N+1)/2\n",
    "    for i in range(int(winsRequired), N+1):\n",
    "        pp=series2(i, p, winsRequired)#probability of winning after i game series after winsRequired games\n",
    "        probs+=pp\n",
    "    return probs"
   ]
  },
  {
   "cell_type": "code",
   "execution_count": 370,
   "metadata": {},
   "outputs": [
    {
     "data": {
      "text/plain": [
       "0.92177520904"
      ]
     },
     "execution_count": 370,
     "metadata": {},
     "output_type": "execute_result"
    }
   ],
   "source": [
    "pWin2(11, 0.7)"
   ]
  },
  {
   "cell_type": "code",
   "execution_count": 407,
   "metadata": {},
   "outputs": [],
   "source": [
    "def optimal_series(p):\n",
    "    #Create dictionary. Key is game length, value is payout\n",
    "    series = {}\n",
    "    for i in range(3, 101, 2):\n",
    "        series[str(i)]=0\n",
    "\n",
    "    #Update the payout value\n",
    "    winnings = 0\n",
    "    for key in series:\n",
    "        winsRequired = (int(key)+1)/2\n",
    "        winnings = 10000 - (winsRequired*100)\n",
    "        pr = pWin2(int(key), p)\n",
    "        net = winnings*pr\n",
    "        series[key] = net#(total - (wins required * 100))*probability of winning \n",
    "        #print(\"Winnings for {:d} games is {:d} multiplied by probability {:3f} equals a net winnings of {:3f}\".format(int(key), int(winnings), pr, net))\n",
    "              \n",
    "    #now get top expected payout and also make lists for plot\n",
    "    best = 1\n",
    "    bestLength = ''\n",
    "    gameLengths = []\n",
    "    payouts = []\n",
    "    for k in series:\n",
    "        #do list building\n",
    "        gameLengths.append(int(k))\n",
    "        payouts.append(series[k])\n",
    "        \n",
    "        #now get best one. unrelated to above\n",
    "        if(series[k]>best):\n",
    "            best=series[k]\n",
    "            bestLength=k\n",
    "            \n",
    "    # Initialize figure subplots\n",
    "    fig, axes = plt.subplots(figsize=(12,4))\n",
    "    y_pos = np.arange(len(gameLengths))*2\n",
    "    axes.barh(y_pos, payouts, align='center', alpha=0.5)\n",
    "    axes.set_yticks(gameLengths, range(1,10))\n",
    "    axes.set_xlabel('Expected Earnings')\n",
    "    axes.set_ylabel('Games in series')\n",
    "    axes.set_xlim([0,10000])\n",
    "    axes.set_ylim([0,100])\n",
    "    axes.set_title('Games in series vs Earnings')\n",
    "\n",
    "    return bestLength"
   ]
  },
  {
   "cell_type": "code",
   "execution_count": 409,
   "metadata": {},
   "outputs": [
    {
     "data": {
      "text/plain": [
       "'15'"
      ]
     },
     "execution_count": 409,
     "metadata": {},
     "output_type": "execute_result"
    },
    {
     "data": {
      "image/png": "[encoded data removed]",
      "text/plain": [
       "<matplotlib.figure.Figure at 0x1ed40f68278>"
      ]
     },
     "metadata": {},
     "output_type": "display_data"
    }
   ],
   "source": [
    "optimal_series(0.7)"
   ]
  },
  {
   "cell_type": "markdown",
   "metadata": {},
   "source": [
    "Given my calculations, 15 games is the optimal series length."
   ]
  },
  {
   "cell_type": "markdown",
   "metadata": {},
   "source": [
    "### [25 points] Problem 5\n",
    "***\n",
    "\n",
    "The card game \"War\" is fun for small children. The basic rules are [here](https://www.bicyclecards.com/how-to-play/war/), but see the list below. Assume that the value of each card in the deck, in decreasing order, is A K Q J 10 9 8 7 6 5 4 3 2. For example, Q is of higher value than J. \n",
    "\n",
    "Create a simulation of the game War. Your simulation must:\n",
    "\n",
    "- initialize a single deck of 52 standard cards, shuffled.\n",
    "- deal half of those cards to each player.\n",
    "- simulate the game of War between two players until one player has all 52 cards, while recording the number of rounds that have passed.\n",
    "- for counting purposes, a round ends when the winner places cards on the bottom of their stack. \n",
    "- if a player runs out of cards mid-War, that player loses. \n",
    "- when cards are collected to be placed at the bottom of a deck, they are scraped from the table in a way that randomly shuffles them.  "
   ]
  },
  {
   "cell_type": "markdown",
   "metadata": {
    "collapsed": true
   },
   "source": [
    "**Part A**: For any fixed order of the cards, the game is completely non-random. This means that shuffling the deck randomly makes the duration of the game a random variable. Use your simulation to compute the expected value of the duration of a game of war. "
   ]
  },
  {
   "cell_type": "code",
   "execution_count": null,
   "metadata": {
    "collapsed": true
   },
   "outputs": [],
   "source": []
  },
  {
   "cell_type": "markdown",
   "metadata": {
    "collapsed": true
   },
   "source": [
    "**Part B**: What happens to the expected duration if the K, Q, and J cards are all now assumed to have _equal_ rank?"
   ]
  },
  {
   "cell_type": "code",
   "execution_count": null,
   "metadata": {
    "collapsed": true
   },
   "outputs": [],
   "source": []
  },
  {
   "cell_type": "markdown",
   "metadata": {},
   "source": [
    "**Part C**: Suppose that before the game starts, Player 1 gives all of their 2s and 3s to Player 2, and Player 2 gives all their As and Ks to Player 1. Does this tend to make the game longer or shorter?"
   ]
  },
  {
   "cell_type": "code",
   "execution_count": null,
   "metadata": {
    "collapsed": true
   },
   "outputs": [],
   "source": []
  }
 ],
 "metadata": {
  "kernelspec": {
   "display_name": "Python 3",
   "language": "python",
   "name": "python3"
  },
  "language_info": {
   "codemirror_mode": {
    "name": "ipython",
    "version": 3
   },
   "file_extension": ".py",
   "mimetype": "text/x-python",
   "name": "python",
   "nbconvert_exporter": "python",
   "pygments_lexer": "ipython3",
   "version": "3.6.3"
  }
 },
 "nbformat": 4,
 "nbformat_minor": 2
}
