{
 "cells": [
  {
   "cell_type": "markdown",
   "metadata": {},
   "source": [
    "# Homework 6: Hypothesis Testing, P-Hacking, and Simple Linear Regression \n",
    "***\n",
    "\n",
    "**Name**: Solution\n",
    "\n",
    "***\n",
    "\n",
    "This assignment is due on Moodle by **5pm on Friday December 1st**. Your solutions to theoretical questions should be done in Markdown/MathJax directly below the associated question.  Your solutions to computational questions should include any specified Python code and results as well as written commentary on your conclusions.  Remember that you are encouraged to discuss the problems with your instructors and classmates, but **you must write all code and solutions on your own**.  For a refresher on the course **Collaboration Policy** click [here](https://github.com/chrisketelsen/csci3022/blob/master/resources/syllabus.md#collaboration-policy).  \n",
    "\n",
    "**NOTES**: \n",
    "\n",
    "- Do **NOT** load or use any Python packages that are not available in Anaconda 3.6. \n",
    "- Some problems with code may be autograded.  If we provide a function API **do not** change it.  If we do not provide a function API then you're free to structure your code however you like. \n",
    "- Because you can technically evaluate notebook cells is a non-linear order, it's a good idea to do Cell $\\rightarrow$ Run All as a check before submitting your solutions.  That way if we need to run your code you will know that it will work as expected. \n",
    "- Submit only this Jupyter notebook to Moodle.  Do not compress it using tar, rar, zip, etc. "
   ]
  },
  {
   "cell_type": "code",
   "execution_count": 2,
   "metadata": {
    "collapsed": true,
    "scrolled": true
   },
   "outputs": [],
   "source": [
    "import numpy as np\n",
    "import matplotlib.pylab as plt\n",
    "import pandas as pd\n",
    "from scipy import stats \n",
    "%matplotlib inline"
   ]
  },
  {
   "cell_type": "markdown",
   "metadata": {},
   "source": [
    "### [15 points] Problem 1 - Hypothesis Testing: Find-the-Knowledge-Bug \n",
    "***\n",
    "\n",
    "As part of your job as a seasoned data science consultant, companies often bring you in to supervise their less-experienced data science teams before new product roll-outs.  One one such occasion, you are hired by a medium-sized internet-sales company that is preparing to release a new line of smart-home products.  Prior to their product release the company wants to do a targeted ad campaign to drive traffic to their site on launch day. \n",
    "\n",
    "You are asked to pair-up and do some inference work with a new employee named Stevey McKnowsNoStats. At various points in your day you catch Stevey making the following mistakes.  In each case, clearly explain to Stevey why his testing setup or conclusion is incorrect. "
   ]
  },
  {
   "cell_type": "markdown",
   "metadata": {},
   "source": [
    "**Part A**: Stevey has pulled up some data on the characteristics of customers that visited the company's website over the previous month.  He wants to perform an analysis on the mean age of customers that visit the site.  Let $X$ be the random variable describing the age of a site visitor and suppose that the population mean for $X$ is $\\mu$. In particular, Stevey wants to see if the data suggests that the mean age of their customers is under 30 years old.   He decides to perform the test with a null hypothesis of $H_0: \\bar{x} = 30$. "
   ]
  },
  {
   "cell_type": "markdown",
   "metadata": {
    "collapsed": true
   },
   "source": [
    "**Solution**: The null hypothesis should include the population mean, e.g. $H_0: \\mu = 30$. A hypothesis test about the sample mean (1) is very easy to do (just look at the sample mean) and (2) tells you nothing about the population.  "
   ]
  },
  {
   "cell_type": "markdown",
   "metadata": {},
   "source": [
    "**Part B**: After the wonderful explanation you gave him after the previous debacle, Stevey has seen the error in his ways and decides instead to do his hypothesis test with a null hypothesis of $H_0: \\mu < 30$.  "
   ]
  },
  {
   "cell_type": "markdown",
   "metadata": {
    "collapsed": true
   },
   "source": [
    "**Solution**: The null hypothesis should have an equals sign and not an inequality.  The reason for this is that the null hypothesis defines the distribution that we will compare our data against.  A claim like $\\mu < 30$ does not specify a particular value of $\\mu$ that we can define our distribution by. "
   ]
  },
  {
   "cell_type": "markdown",
   "metadata": {},
   "source": [
    "**Part C**: Finally on track with reasonable hypotheses of $H_0: \\mu = 30$ and $H_1: \\mu < 30$, Stevey computes a normalized test-statistic of $z = -1.35$ for the mean age and concludes that since $z = -1.35 < 0.05$ there is sufficient statistical evidence at the $\\alpha = 0.05$ significance level that the mean age of their customers is less than 30.  "
   ]
  },
  {
   "cell_type": "markdown",
   "metadata": {
    "collapsed": true
   },
   "source": [
    "**Solution**: Stevey is incorrectly comparing the test-statistic $z$ to the significance level $\\alpha$, which makes no sense.  Instead he should compare the test-statistic to the relevant critical value $z_\\alpha$.  Alternatively, he could compute a $p$-value associated with the test statistic and compare this value to the significance level. "
   ]
  },
  {
   "cell_type": "markdown",
   "metadata": {},
   "source": [
    "**Part D**: This time, with the hypotheses again $H_0: \\mu = 30$ and $H_1: \\mu < 30$, Stevey computes a p-value of $0.03$, and thus concludes that there is only a 3% probability that the null hypothesis is true. "
   ]
  },
  {
   "cell_type": "markdown",
   "metadata": {
    "collapsed": true
   },
   "source": [
    "**Solution**: The p-value is not a probability that the null hypothesis is true or false.  The p-value represents the probability, under the null hypothesis, that we observe a test-statistic as extreme or more extreme than the one we got from the data. "
   ]
  },
  {
   "cell_type": "markdown",
   "metadata": {},
   "source": [
    "### [10 points] Problem 2 - Scientists vs. P-Values \n",
    "***\n",
    "\n",
    "Read the following article from **FiveThirtyEight**: [Statisticians Found One Thing They Can Agree On: It's Time to Stop Misusing P-Values](http://fivethirtyeight.com/features/statisticians-found-one-thing-they-can-agree-on-its-time-to-stop-misusing-p-values/). In what ways are scientists misusing p-values?  What suggestions are being made to use them properly? "
   ]
  },
  {
   "cell_type": "markdown",
   "metadata": {},
   "source": [
    "**Solution**: According to the article, scientists are misusing p-values by: \n",
    "\n",
    "1. Assuming that p-values tell you the probability that the alternative hypothesis is true \n",
    "2. Assuming that the p-values tell you the probability of observing the data by random chance (with no consideration for the null hypothesis). \n",
    "3. P-Hacking \n",
    "4. Setting arbitrary thresholds for significance and ignoring scientific reasoning. \n",
    "\n",
    "The suggestions being made to use them properly include: \n",
    "\n",
    "1. Use confidence intervals and Bayesian measures instead. \n",
    "2. Use p-values as a tool in conjunction with other techniques. "
   ]
  },
  {
   "cell_type": "markdown",
   "metadata": {},
   "source": [
    "### [20 points] Problem 3 - Evaluating Pizza Delivery Performance \n",
    "***\n",
    "\n",
    "The manager of a pizza chain with multiple locations likes to keep meticulous data on his pizza deliveries.  The data from more than 1200 deliveries in May 2014 is stored in pizza.csv. "
   ]
  },
  {
   "cell_type": "code",
   "execution_count": 3,
   "metadata": {
    "collapsed": true
   },
   "outputs": [],
   "source": [
    "np.random.seed(1235)\n",
    "dfP = pd.read_csv(\"data/pizza.csv\")\n",
    "\n",
    "# Modify mean delivery time to be 29.75 and stdev to be 6ish  \n",
    "# dfP.loc[:,\"time\"] -= (dfP.loc[:,\"time\"]-29.5723424)\n",
    "# dfP.loc[:,\"time\"] += stats.norm.rvs(0,6,size=len(dfP))\n",
    "# print(dfP[\"time\"].mean())\n",
    "# print(dfP[\"time\"].std())\n",
    "\n",
    "# Modify mean delivery temperature to be 64.25\n",
    "# dfP.loc[:,\"temperature\"] -= (dfP.loc[:,\"temperature\"]-65.0524242)\n",
    "# dfP.loc[:,\"temperature\"] += stats.norm.rvs(0,7,size=len(dfP))\n",
    "# print(dfP[\"temperature\"].mean())\n",
    "# print(dfP[\"temperature\"].std())\n",
    "\n",
    "# dfP = dfP.iloc[:,:9]\n",
    "\n",
    "# dfP.to_csv(\"new_pizza.csv\", index=False)"
   ]
  },
  {
   "cell_type": "code",
   "execution_count": 4,
   "metadata": {},
   "outputs": [
    {
     "data": {
      "text/html": [
       "<div>\n",
       "<style>\n",
       "    .dataframe thead tr:only-child th {\n",
       "        text-align: right;\n",
       "    }\n",
       "\n",
       "    .dataframe thead th {\n",
       "        text-align: left;\n",
       "    }\n",
       "\n",
       "    .dataframe tbody tr th {\n",
       "        vertical-align: top;\n",
       "    }\n",
       "</style>\n",
       "<table border=\"1\" class=\"dataframe\">\n",
       "  <thead>\n",
       "    <tr style=\"text-align: right;\">\n",
       "      <th></th>\n",
       "      <th>day</th>\n",
       "      <th>date</th>\n",
       "      <th>time</th>\n",
       "      <th>operator</th>\n",
       "      <th>branch</th>\n",
       "      <th>driver</th>\n",
       "      <th>temperature</th>\n",
       "      <th>bill</th>\n",
       "      <th>pizzas</th>\n",
       "    </tr>\n",
       "  </thead>\n",
       "  <tbody>\n",
       "    <tr>\n",
       "      <th>0</th>\n",
       "      <td>Thursday</td>\n",
       "      <td>01-May-14</td>\n",
       "      <td>33.708636</td>\n",
       "      <td>Laura</td>\n",
       "      <td>East</td>\n",
       "      <td>Bruno</td>\n",
       "      <td>71.433084</td>\n",
       "      <td>58.4</td>\n",
       "      <td>4</td>\n",
       "    </tr>\n",
       "    <tr>\n",
       "      <th>1</th>\n",
       "      <td>Thursday</td>\n",
       "      <td>01-May-14</td>\n",
       "      <td>29.382070</td>\n",
       "      <td>Melissa</td>\n",
       "      <td>East</td>\n",
       "      <td>Salvatore</td>\n",
       "      <td>64.952920</td>\n",
       "      <td>26.4</td>\n",
       "      <td>2</td>\n",
       "    </tr>\n",
       "    <tr>\n",
       "      <th>2</th>\n",
       "      <td>Thursday</td>\n",
       "      <td>01-May-14</td>\n",
       "      <td>33.580664</td>\n",
       "      <td>Melissa</td>\n",
       "      <td>West</td>\n",
       "      <td>Salvatore</td>\n",
       "      <td>49.113452</td>\n",
       "      <td>58.1</td>\n",
       "      <td>3</td>\n",
       "    </tr>\n",
       "    <tr>\n",
       "      <th>3</th>\n",
       "      <td>Thursday</td>\n",
       "      <td>01-May-14</td>\n",
       "      <td>32.505369</td>\n",
       "      <td>Melissa</td>\n",
       "      <td>East</td>\n",
       "      <td>Salvatore</td>\n",
       "      <td>64.872559</td>\n",
       "      <td>35.2</td>\n",
       "      <td>3</td>\n",
       "    </tr>\n",
       "    <tr>\n",
       "      <th>4</th>\n",
       "      <td>Thursday</td>\n",
       "      <td>01-May-14</td>\n",
       "      <td>25.493613</td>\n",
       "      <td>Melissa</td>\n",
       "      <td>West</td>\n",
       "      <td>Salvatore</td>\n",
       "      <td>59.630052</td>\n",
       "      <td>38.4</td>\n",
       "      <td>2</td>\n",
       "    </tr>\n",
       "    <tr>\n",
       "      <th>5</th>\n",
       "      <td>Thursday</td>\n",
       "      <td>01-May-14</td>\n",
       "      <td>21.727466</td>\n",
       "      <td>Melissa</td>\n",
       "      <td>Centre</td>\n",
       "      <td>Bruno</td>\n",
       "      <td>53.715391</td>\n",
       "      <td>61.8</td>\n",
       "      <td>4</td>\n",
       "    </tr>\n",
       "    <tr>\n",
       "      <th>6</th>\n",
       "      <td>Thursday</td>\n",
       "      <td>01-May-14</td>\n",
       "      <td>38.394169</td>\n",
       "      <td>Laura</td>\n",
       "      <td>West</td>\n",
       "      <td>Bruno</td>\n",
       "      <td>60.266862</td>\n",
       "      <td>57.9</td>\n",
       "      <td>3</td>\n",
       "    </tr>\n",
       "    <tr>\n",
       "      <th>7</th>\n",
       "      <td>Thursday</td>\n",
       "      <td>01-May-14</td>\n",
       "      <td>22.186179</td>\n",
       "      <td>Melissa</td>\n",
       "      <td>West</td>\n",
       "      <td>Mario</td>\n",
       "      <td>61.187654</td>\n",
       "      <td>35.8</td>\n",
       "      <td>2</td>\n",
       "    </tr>\n",
       "    <tr>\n",
       "      <th>8</th>\n",
       "      <td>Thursday</td>\n",
       "      <td>01-May-14</td>\n",
       "      <td>35.324994</td>\n",
       "      <td>Laura</td>\n",
       "      <td>Centre</td>\n",
       "      <td>Mario</td>\n",
       "      <td>64.204093</td>\n",
       "      <td>36.6</td>\n",
       "      <td>2</td>\n",
       "    </tr>\n",
       "    <tr>\n",
       "      <th>9</th>\n",
       "      <td>Thursday</td>\n",
       "      <td>01-May-14</td>\n",
       "      <td>34.015280</td>\n",
       "      <td>Melissa</td>\n",
       "      <td>Centre</td>\n",
       "      <td>Bruno</td>\n",
       "      <td>67.383452</td>\n",
       "      <td>44.8</td>\n",
       "      <td>5</td>\n",
       "    </tr>\n",
       "    <tr>\n",
       "      <th>10</th>\n",
       "      <td>Thursday</td>\n",
       "      <td>01-May-14</td>\n",
       "      <td>33.792085</td>\n",
       "      <td>Melissa</td>\n",
       "      <td>Centre</td>\n",
       "      <td>Bruno</td>\n",
       "      <td>70.983051</td>\n",
       "      <td>49.5</td>\n",
       "      <td>4</td>\n",
       "    </tr>\n",
       "    <tr>\n",
       "      <th>11</th>\n",
       "      <td>Thursday</td>\n",
       "      <td>01-May-14</td>\n",
       "      <td>29.131207</td>\n",
       "      <td>Laura</td>\n",
       "      <td>East</td>\n",
       "      <td>Mario</td>\n",
       "      <td>69.949241</td>\n",
       "      <td>49.7</td>\n",
       "      <td>3</td>\n",
       "    </tr>\n",
       "    <tr>\n",
       "      <th>12</th>\n",
       "      <td>Thursday</td>\n",
       "      <td>01-May-14</td>\n",
       "      <td>21.926461</td>\n",
       "      <td>Melissa</td>\n",
       "      <td>West</td>\n",
       "      <td>Mario</td>\n",
       "      <td>60.798941</td>\n",
       "      <td>41.1</td>\n",
       "      <td>1</td>\n",
       "    </tr>\n",
       "    <tr>\n",
       "      <th>13</th>\n",
       "      <td>Thursday</td>\n",
       "      <td>01-May-14</td>\n",
       "      <td>28.185400</td>\n",
       "      <td>Melissa</td>\n",
       "      <td>Centre</td>\n",
       "      <td>Salvatore</td>\n",
       "      <td>72.440348</td>\n",
       "      <td>42.9</td>\n",
       "      <td>1</td>\n",
       "    </tr>\n",
       "    <tr>\n",
       "      <th>14</th>\n",
       "      <td>Thursday</td>\n",
       "      <td>01-May-14</td>\n",
       "      <td>32.603202</td>\n",
       "      <td>Laura</td>\n",
       "      <td>West</td>\n",
       "      <td>Bruno</td>\n",
       "      <td>63.111336</td>\n",
       "      <td>25.9</td>\n",
       "      <td>1</td>\n",
       "    </tr>\n",
       "    <tr>\n",
       "      <th>15</th>\n",
       "      <td>Thursday</td>\n",
       "      <td>01-May-14</td>\n",
       "      <td>32.648734</td>\n",
       "      <td>Melissa</td>\n",
       "      <td>West</td>\n",
       "      <td>Salvatore</td>\n",
       "      <td>55.732293</td>\n",
       "      <td>41.5</td>\n",
       "      <td>6</td>\n",
       "    </tr>\n",
       "    <tr>\n",
       "      <th>16</th>\n",
       "      <td>Thursday</td>\n",
       "      <td>01-May-14</td>\n",
       "      <td>37.398504</td>\n",
       "      <td>Melissa</td>\n",
       "      <td>Centre</td>\n",
       "      <td>Mario</td>\n",
       "      <td>54.507040</td>\n",
       "      <td>34.9</td>\n",
       "      <td>3</td>\n",
       "    </tr>\n",
       "    <tr>\n",
       "      <th>17</th>\n",
       "      <td>Thursday</td>\n",
       "      <td>01-May-14</td>\n",
       "      <td>33.956136</td>\n",
       "      <td>Melissa</td>\n",
       "      <td>East</td>\n",
       "      <td>Bruno</td>\n",
       "      <td>58.103934</td>\n",
       "      <td>42.4</td>\n",
       "      <td>4</td>\n",
       "    </tr>\n",
       "    <tr>\n",
       "      <th>18</th>\n",
       "      <td>Thursday</td>\n",
       "      <td>01-May-14</td>\n",
       "      <td>26.379708</td>\n",
       "      <td>Laura</td>\n",
       "      <td>East</td>\n",
       "      <td>Mario</td>\n",
       "      <td>56.517764</td>\n",
       "      <td>27.3</td>\n",
       "      <td>1</td>\n",
       "    </tr>\n",
       "    <tr>\n",
       "      <th>19</th>\n",
       "      <td>Thursday</td>\n",
       "      <td>01-May-14</td>\n",
       "      <td>33.193288</td>\n",
       "      <td>Melissa</td>\n",
       "      <td>Centre</td>\n",
       "      <td>Bruno</td>\n",
       "      <td>48.759259</td>\n",
       "      <td>47.7</td>\n",
       "      <td>4</td>\n",
       "    </tr>\n",
       "  </tbody>\n",
       "</table>\n",
       "</div>"
      ],
      "text/plain": [
       "         day       date       time operator  branch     driver  temperature  \\\n",
       "0   Thursday  01-May-14  33.708636    Laura    East      Bruno    71.433084   \n",
       "1   Thursday  01-May-14  29.382070  Melissa    East  Salvatore    64.952920   \n",
       "2   Thursday  01-May-14  33.580664  Melissa    West  Salvatore    49.113452   \n",
       "3   Thursday  01-May-14  32.505369  Melissa    East  Salvatore    64.872559   \n",
       "4   Thursday  01-May-14  25.493613  Melissa    West  Salvatore    59.630052   \n",
       "5   Thursday  01-May-14  21.727466  Melissa  Centre      Bruno    53.715391   \n",
       "6   Thursday  01-May-14  38.394169    Laura    West      Bruno    60.266862   \n",
       "7   Thursday  01-May-14  22.186179  Melissa    West      Mario    61.187654   \n",
       "8   Thursday  01-May-14  35.324994    Laura  Centre      Mario    64.204093   \n",
       "9   Thursday  01-May-14  34.015280  Melissa  Centre      Bruno    67.383452   \n",
       "10  Thursday  01-May-14  33.792085  Melissa  Centre      Bruno    70.983051   \n",
       "11  Thursday  01-May-14  29.131207    Laura    East      Mario    69.949241   \n",
       "12  Thursday  01-May-14  21.926461  Melissa    West      Mario    60.798941   \n",
       "13  Thursday  01-May-14  28.185400  Melissa  Centre  Salvatore    72.440348   \n",
       "14  Thursday  01-May-14  32.603202    Laura    West      Bruno    63.111336   \n",
       "15  Thursday  01-May-14  32.648734  Melissa    West  Salvatore    55.732293   \n",
       "16  Thursday  01-May-14  37.398504  Melissa  Centre      Mario    54.507040   \n",
       "17  Thursday  01-May-14  33.956136  Melissa    East      Bruno    58.103934   \n",
       "18  Thursday  01-May-14  26.379708    Laura    East      Mario    56.517764   \n",
       "19  Thursday  01-May-14  33.193288  Melissa  Centre      Bruno    48.759259   \n",
       "\n",
       "    bill  pizzas  \n",
       "0   58.4       4  \n",
       "1   26.4       2  \n",
       "2   58.1       3  \n",
       "3   35.2       3  \n",
       "4   38.4       2  \n",
       "5   61.8       4  \n",
       "6   57.9       3  \n",
       "7   35.8       2  \n",
       "8   36.6       2  \n",
       "9   44.8       5  \n",
       "10  49.5       4  \n",
       "11  49.7       3  \n",
       "12  41.1       1  \n",
       "13  42.9       1  \n",
       "14  25.9       1  \n",
       "15  41.5       6  \n",
       "16  34.9       3  \n",
       "17  42.4       4  \n",
       "18  27.3       1  \n",
       "19  47.7       4  "
      ]
     },
     "execution_count": 4,
     "metadata": {},
     "output_type": "execute_result"
    }
   ],
   "source": [
    "dfP.head(20)"
   ]
  },
  {
   "cell_type": "markdown",
   "metadata": {},
   "source": [
    "**Part A**: The manager's goal is to have an average delivery time across all branches of less than 30 minutes.  Perform an appropriate hypothesis test at the $\\alpha=0.05$ significance level to evaluate whether this goal has been achieved.  Be sure to clearly state your null and alternate hypothesis, describe your testing procedure, and show all calculations in Python. "
   ]
  },
  {
   "cell_type": "markdown",
   "metadata": {
    "collapsed": true
   },
   "source": [
    "**Solution**: Let $\\mu$ be the mean delivery time. We want to test the hypotheses \n",
    "\n",
    "$$\n",
    "H_0: \\mu = 30 \n",
    "\\\\ \n",
    "H_1: \\mu < 30 \n",
    "$$\n",
    "\n",
    "Since $n = 1266$, the sample size is large enough that we can perform a lower-tailed $Z$-test.  Let $\\bar{x}$ be the sample mean and $s$ be the sample standard deviation for delivery time.  Then our test statistic is \n",
    "\n",
    "$$\n",
    "Z = \\frac{\\bar{x}-30}{s/\\sqrt{n}} \\sim N(0,1) \n",
    "$$\n",
    "\n",
    "We can perform the test either using rejection regions or p-values.  The equivalent tests are \n",
    "\n",
    "**Rejection Region**: Reject the Null Hypothesis if $Z < -z_{0.05} = -1.645$, else fail to reject the Null Hypothesis\n",
    "\n",
    "**P-Value Test**: Reject the Null Hypothesis if $\\textrm{p-value} = \\Phi(Z) < 0.05$, else fail to reject the Null "
   ]
  },
  {
   "cell_type": "code",
   "execution_count": 5,
   "metadata": {},
   "outputs": [
    {
     "name": "stdout",
     "output_type": "stream",
     "text": [
      "n = 1266, xbar = 29.455, s = 6.112\n",
      "test statistic: Z = -3.17121\n",
      "p-value = 0.0007590326718121277\n"
     ]
    }
   ],
   "source": [
    "n = len(dfP[\"time\"])\n",
    "xbar = dfP[\"time\"].mean()\n",
    "s = dfP[\"time\"].std()\n",
    "print(\"n = {}, xbar = {:.3f}, s = {:.3f}\".format(n, xbar, s))\n",
    "Z = (xbar - 30)/(s/np.sqrt(n))\n",
    "print(\"test statistic: Z = {:.5f}\".format(Z))\n",
    "print(\"p-value = {}\".format(stats.norm.cdf(Z)))"
   ]
  },
  {
   "cell_type": "markdown",
   "metadata": {},
   "source": [
    "**Rejection Region**: Since $-3.171 = Z < -z_{0.05} = -1.645$ we reject the Null Hypothesis and conclude that there is sufficient statistical evidence to conclude that true mean delivery time is less than 30 minutes. \n",
    "\n",
    "**P-Value Test**: Since $\\Phi(Z) = 0.00076 < .05$ we reject the Null Hypothesis and conclude that there is sufficient statistical evidence to conclude that true mean delivery time is less than 30 minutes. "
   ]
  },
  {
   "cell_type": "markdown",
   "metadata": {},
   "source": [
    "**Part B**: The manager also has the goal of having an average delivery temperature across all branches of greater than 65F.  Perform an appropriate hypothesis test at the $\\alpha=0.05$ significance level to evaluate whether this goal has been achieved.  Be sure to clearly state your null and alternate hypothesis, describe your testing procedure, and show all calculations in Python. "
   ]
  },
  {
   "cell_type": "markdown",
   "metadata": {
    "collapsed": true
   },
   "source": [
    "**Solution**: Let $\\mu$ be the mean temperature. We want to test the hypotheses \n",
    "\n",
    "$$\n",
    "H_0: \\mu = 65 \n",
    "\\\\ \n",
    "H_1: \\mu > 65 \n",
    "$$\n",
    "\n",
    "Since $n = 1266$, the sample size is large enough that we can perform an upper-tailed $Z$-test.  Let $\\bar{x}$ be the sample mean and $s$ be the sample standard deviation for delivery temperature.  Then our test statistic is \n",
    "\n",
    "$$\n",
    "Z = \\frac{\\bar{x}-65}{s/\\sqrt{n}} \\sim N(0,1) \n",
    "$$\n",
    "\n",
    "We can perform the test either using rejection regions or p-values.  The equivalent tests are \n",
    "\n",
    "**Rejection Region**: Reject the Null Hypothesis if $Z > z_{0.05} = 1.645$, else fail to reject the Null Hypothesis\n",
    "\n",
    "**P-Value Test**: Reject the Null Hypothesis if $\\textrm{p-value} = 1-\\Phi(Z) < 0.05$, else fail to reject the Null "
   ]
  },
  {
   "cell_type": "code",
   "execution_count": 6,
   "metadata": {},
   "outputs": [
    {
     "name": "stdout",
     "output_type": "stream",
     "text": [
      "n = 1266, xbar = 65.274, s = 7.067\n",
      "test statistic: Z = 1.382\n",
      "p-value = 0.08347224174346857\n"
     ]
    }
   ],
   "source": [
    "xbar = dfP[\"temperature\"].mean()\n",
    "s = dfP[\"temperature\"].std()\n",
    "print(\"n = {}, xbar = {:.3f}, s = {:.3f}\".format(n, xbar, s))\n",
    "Z = (xbar - 65)/(s/np.sqrt(n))\n",
    "print(\"test statistic: Z = {:.3f}\".format(Z))\n",
    "print(\"p-value = {}\".format(1-stats.norm.cdf(Z)))"
   ]
  },
  {
   "cell_type": "markdown",
   "metadata": {},
   "source": [
    "**Rejection Region**: Since $1.382 = Z < z_{0.05} = 1.645$ we fail to reject the Null Hypothesis and conclude that there is **NOT** sufficient statistical evidence to conclude that true mean delivery temperature is greater than 65F. \n",
    "\n",
    "**P-Value Test**: Since $1-\\Phi(Z) = 0.0835 > .05$ we fail to reject the Null Hypothesis and conclude that there is **NOT** sufficient statistical evidence to conclude that true mean delivery temperature is greater than 65F. "
   ]
  },
  {
   "cell_type": "markdown",
   "metadata": {},
   "source": [
    "**Part C**: The manager has enough money to give one of his delivery drivers a raise based on good performance. He knows from the data that his two best drivers are Mario and Luigi, but he's not sure if there is evidence that either one is better than the other.  Using delivery time and temperature as the criteria, perform any necessary hypothesis tests at the $\\alpha = 0.05$ significance level, to determine if one of the drivers deserves a raise. Be sure to clearly describe your hypotheses and methodology, and show any relevant computations in Python. "
   ]
  },
  {
   "cell_type": "markdown",
   "metadata": {
    "collapsed": true
   },
   "source": [
    "**Solution**: We'll evaluate separate statistical tests to compare Mario and Luigi in terms of mean delivery time and mean delivery temperature. \n",
    "\n",
    "**Delivery Time**: \n",
    "\n",
    "Let $\\mu_M$ and $\\mu_L$ be the true mean delivery times for Mario and Luigi, respectively. We want to test the hypotheses \n",
    "\n",
    "$$\n",
    "H_0: \\mu_M - \\mu_L = 0 \n",
    "\\\\ \n",
    "H_1: \\mu_M - \\mu_L \\neq 0 \n",
    "$$\n",
    "\n",
    "We perform a two-tailed test for the difference of two means.  Let $\\bar{x}_M$ and $\\bar{x}_L$ be the sample means and $s_M$ and $s_L$ be the sample standard deviations for Mario and Luigi, respectively.  Then our test statistic is \n",
    "\n",
    "$$\n",
    "Z = \\left(\\bar{x}_M-\\bar{x}_L\\right)\\bigg/\\sqrt{\\frac{s_M^2}{n_M} + \\frac{s_L^2}{n_L}} \\sim N(0,1) \n",
    "$$\n",
    "\n",
    "We can perform the test either using using a confidence interval, rejection regions, or p-values.  The equivalent tests are \n",
    "\n",
    "**Confidence Interval**: Reject the Null Hypothesis if $0$ is in the confidence interval $\\left(\\bar{x}_M-\\bar{x}_L\\right) \\pm z_{0.025} \\times \\sqrt{\\frac{s_M^2}{n_M} + \\frac{s_L^2}{n_L}}$, else fail to reject the Null Hypothesis. \n",
    "\n",
    "**Rejection Region**: Reject the Null Hypothesis if $Z < -z_{0.025} = -1.96$ or $Z > z_{0.025} = 1.96$, else fail to reject the Null Hypothesis\n",
    "\n",
    "**P-Value Test**: Reject the Null Hypothesis if $\\textrm{p-value} = 2 \\times \\min\\{\\Phi(Z), 1-\\Phi(Z)\\} < 0.05$, else fail to reject the Null "
   ]
  },
  {
   "cell_type": "code",
   "execution_count": 7,
   "metadata": {},
   "outputs": [
    {
     "name": "stdout",
     "output_type": "stream",
     "text": [
      "CI:  [-1.1587720960852119, 1.1639463841639037]\n",
      "test statistic: Z = 0.00437\n",
      "p-value = 0.9965162995732613\n"
     ]
    }
   ],
   "source": [
    "n_M, n_L = np.sum(dfP[\"driver\"]==\"Mario\"), np.sum(dfP[\"driver\"]==\"Luigi\")\n",
    "xbar_M, xbar_L = dfP.loc[dfP[\"driver\"]==\"Mario\",\"time\"].mean(), dfP.loc[dfP[\"driver\"]==\"Luigi\",\"time\"].mean()\n",
    "s_M, s_L = dfP.loc[dfP[\"driver\"]==\"Mario\",\"time\"].std(), dfP.loc[dfP[\"driver\"]==\"Luigi\",\"time\"].std()\n",
    "SE = np.sqrt((s_M**2)/n_M + (s_L**2)/n_L)\n",
    "CI = [(xbar_M - xbar_L) + flip * stats.norm.ppf(0.975) * SE for flip in [-1,1]]\n",
    "print(\"CI: \", CI)\n",
    "Z = (xbar_M - xbar_L)/SE \n",
    "print(\"test statistic: Z = {:.5f}\".format(Z))\n",
    "print(\"p-value = {}\".format(2*np.min([stats.norm.cdf(Z), 1-stats.norm.cdf(Z)])))"
   ]
  },
  {
   "cell_type": "markdown",
   "metadata": {},
   "source": [
    "**Confidence Interval**: Since $0 \\in [-1.159, 1.164]$ we fail to reject the Null Hypothesis and conclude that there is **NOT** sufficient statistical evidence that there is a difference between the true mean delivery times for the two drivers. \n",
    "\n",
    "**Rejection Region**: Since $-1.96 < Z =0.0044 < 1.96$ we fail to reject the Null Hypothesis and conclude that there is **NOT** sufficient statistical evidence that there is a difference between the true mean delivery times for the two drivers. \n",
    "\n",
    "**P-Value Test**: Since $2\\times\\Phi(Z) = 0.9965 > .05$ we fail to reject the Null Hypothesis and conclude that there is **NOT** sufficient statistical evidence that there is a difference between the true mean delivery times for the two drivers. "
   ]
  },
  {
   "cell_type": "markdown",
   "metadata": {
    "collapsed": true
   },
   "source": [
    "**Delivery Temperature**: \n",
    "\n",
    "Let $\\mu_M$ and $\\mu_L$ be the true mean delivery temperatures for Mario and Luigi, respectively. We want to test the hypotheses \n",
    "\n",
    "$$\n",
    "H_0: \\mu_M - \\mu_L = 0 \n",
    "\\\\ \n",
    "H_1: \\mu_M - \\mu_L \\neq 0 \n",
    "$$\n",
    "\n",
    "We perform a two-tailed test for the difference of two means.  Let $\\bar{x}_M$ and $\\bar{x}_L$ be the sample means and $s_M$ and $s_L$ be the sample standard deviations for Mario and Luigi, respectively.  Then our test statistic is \n",
    "\n",
    "$$\n",
    "Z = \\left(\\bar{x}_M-\\bar{x}_L\\right)\\bigg/\\sqrt{\\frac{s_M^2}{n_M} + \\frac{s_L^2}{n_L}} \\sim N(0,1) \n",
    "$$\n",
    "\n",
    "We can perform the test either using using a confidence interval, rejection regions, or p-values.  The equivalent tests are \n",
    "\n",
    "**Confidence Interval**: Reject the Null Hypothesis if $0$ is in the confidence interval $\\left(\\bar{x}_M-\\bar{x}_L\\right) \\pm z_{0.025} \\times \\sqrt{\\frac{s_M^2}{n_M} + \\frac{s_L^2}{n_L}}$, else fail to reject the Null Hypothesis. \n",
    "\n",
    "**Rejection Region**: Reject the Null Hypothesis if $Z < -z_{0.025} = -1.96$ or $Z > z_{0.025} = 1.96$, else fail to reject the Null Hypothesis\n",
    "\n",
    "**P-Value Test**: Reject the Null Hypothesis if $\\textrm{p-value} = 2 \\times \\min\\{\\Phi(Z), 1-\\Phi(Z)\\} < 0.05$, else fail to reject the Null "
   ]
  },
  {
   "cell_type": "code",
   "execution_count": 8,
   "metadata": {},
   "outputs": [
    {
     "name": "stdout",
     "output_type": "stream",
     "text": [
      "CI:  [-2.0724233272399402, 0.71302052203945143]\n",
      "test statistic: Z = -0.95654\n",
      "p-value = 0.3388009215252752\n"
     ]
    }
   ],
   "source": [
    "n_M, n_L = np.sum(dfP[\"driver\"]==\"Mario\"), np.sum(dfP[\"driver\"]==\"Luigi\")\n",
    "xbar_M, xbar_L = dfP.loc[dfP[\"driver\"]==\"Mario\",\"temperature\"].mean(), dfP.loc[dfP[\"driver\"]==\"Luigi\",\"temperature\"].mean()\n",
    "s_M, s_L = dfP.loc[dfP[\"driver\"]==\"Mario\",\"temperature\"].std(), dfP.loc[dfP[\"driver\"]==\"Luigi\",\"temperature\"].std()\n",
    "SE = np.sqrt((s_M**2)/n_M + (s_L**2)/n_L)\n",
    "CI = [(xbar_M - xbar_L) + flip * stats.norm.ppf(0.975) * SE for flip in [-1,1]]\n",
    "print(\"CI: \", CI)\n",
    "Z = (xbar_M - xbar_L)/SE \n",
    "print(\"test statistic: Z = {:.5f}\".format(Z))\n",
    "print(\"p-value = {}\".format(2*np.min([stats.norm.cdf(Z), 1-stats.norm.cdf(Z)])))"
   ]
  },
  {
   "cell_type": "markdown",
   "metadata": {},
   "source": [
    "**Confidence Interval**: Since $0 \\in [-2.072, 0.713]$ we fail to reject the Null Hypothesis and conclude that there is **NOT** sufficient statistical evidence that there is a difference between the true mean delivery temperatures for the two drivers. \n",
    "\n",
    "**Rejection Region**: Since $-1.96 < Z = -0.957 < 1.96$ we fail to reject the Null Hypothesis and conclude that there is **NOT** sufficient statistical evidence that there is a difference between the true mean delivery temperatures for the two drivers. \n",
    "\n",
    "**P-Value Test**: Since $2\\times(1-\\Phi(Z)) = 0.3389 > .05$ we fail to reject the Null Hypothesis and conclude that there is **NOT** sufficient statistical evidence that there is a difference between the true mean delivery temperatures for the two drivers. \n",
    "\n",
    "Thus, based on the data, the manager cannot give either driver a raise based on their delivery times or delivery temperatures. "
   ]
  },
  {
   "cell_type": "markdown",
   "metadata": {},
   "source": [
    "**Part D**: On the other hand, the manager suspects that Salvatore has been underperforming as a driver.  The manager has a policy that if a pizza takes 40 minutes or longer to be delivered, he has to fork over a free bottle of wine.  This policy is only financially viable for the pizza chain if they have give out free wine on less than 5% of all pizza deliveries.  Perform a hypothesis test at the $\\alpha = 0.05$ significance level to determine if there is significant evidence that the proportion of Salvatore's deliveries that take longer than 40 minutes is greater than 5%.  "
   ]
  },
  {
   "cell_type": "markdown",
   "metadata": {
    "collapsed": true
   },
   "source": [
    "**Solution**: Let $p$ be the true proportion of Salvatore's deliveries that take longer than 40 minutes. We want to test the hypotheses \n",
    "\n",
    "$$\n",
    "H_0: p = 0.05 \n",
    "\\\\ \n",
    "H_1: p > 0.05 \n",
    "$$\n",
    "\n",
    "We will perform an upper-tailed $Z$-test.  Let $\\hat{p}$ be the sample proportion. Then our test statistic is \n",
    "\n",
    "$$\n",
    "Z = (~\\hat{p}-0.05~) \\bigg/ \\sqrt{\\frac{0.05(1-0.05)}{n}} \\sim N(0,1) \n",
    "$$\n",
    "\n",
    "We can perform the test either using rejection regions or p-values.  The equivalent tests are \n",
    "\n",
    "**Rejection Region**: Reject the Null Hypothesis if $Z > z_{0.05} = 1.645$, else fail to reject the Null Hypothesis\n",
    "\n",
    "**P-Value Test**: Reject the Null Hypothesis if $\\textrm{p-value} = 1-\\Phi(Z) < 0.05$, else fail to reject the Null "
   ]
  },
  {
   "cell_type": "code",
   "execution_count": 9,
   "metadata": {},
   "outputs": [
    {
     "name": "stdout",
     "output_type": "stream",
     "text": [
      "n = 344, phat = 0.0552\n",
      "test statistic: Z = 0.4453\n",
      "p-value = 0.3281\n"
     ]
    }
   ],
   "source": [
    "n_S = np.sum(dfP[\"driver\"]==\"Salvatore\")\n",
    "phat = np.sum(np.logical_and(dfP[\"driver\"]==\"Salvatore\", dfP[\"time\"]>40)) / n_S \n",
    "print(\"n = {}, phat = {:.4f}\".format(n_S, phat))\n",
    "SE = np.sqrt(0.05*(1-0.05)/n_S)\n",
    "Z = (phat-0.05)/SE \n",
    "print(\"test statistic: Z = {:.4f}\".format(Z))\n",
    "print(\"p-value = {:.4f}\".format(1-stats.norm.cdf(Z)))"
   ]
  },
  {
   "cell_type": "markdown",
   "metadata": {},
   "source": [
    "**Rejection Region**: Since $0.4453 = Z < z_{0.05} = 1.645$ we fail to reject the Null Hypothesis and conclude that there is **NOT** sufficient statistical evidence that the true proportion of deliveries for which Salvatore is late is greater than $p=0.05$. \n",
    "\n",
    "**P-Value Test**: Since $1-\\Phi(Z) = 0.3281 > .05$ we fail to reject the Null Hypothesis and conclude that there is **NOT** sufficient statistical evidence that the true proportion of deliveries for which Salvatore is late is greater than $p=0.05$. "
   ]
  },
  {
   "cell_type": "markdown",
   "metadata": {},
   "source": [
    "### [15 points] Problem 4 - Naps vs Coffee for Memory? \n",
    "***\n",
    "\n",
    "The consumption of coffee to benefit alertness is a common activity practiced by 90% of adults in North America. Often coffee is used to replace the need for sleep. One recent study compares students’ ability to recall memorized information after either the consumption of coffee or a brief nap. A random sample of 24 adults\n",
    "were randomly divided into two groups and verbally given a list\n",
    "of 25 words to memorize. During a break, one of the groups took a nap for an hour and a half,\n",
    "another group stayed awake and were given a coffee an hour prior to testing. Researchers measured the number of words participants were\n",
    "able to recall following the break. The summary statistics for the two groups are shown below.\n",
    "\n",
    "$$\n",
    "\\begin{array}{c|c|c|c}\n",
    "\\textrm{Group} & \\textrm{Sample Size} & \\textrm{Mean} & \\textrm{Standard Deviation} \\\\\n",
    "\\hline \n",
    "\\textrm{Nap} & 12 & 15.5 & 3.2 \\\\ \n",
    "\\textrm{Coffee} & 12 & 12.25 & 3.1 \\\\ \n",
    "\\end{array}\n",
    "$$\n",
    "\n",
    "In previous experiments the mean recall measurement was found to be normally distributed. \n",
    "\n",
    "**Part A**: Compute a 95% t-confidence interval for the mean recall measurement for participants that took a nap before the test. Do all computations in Python. "
   ]
  },
  {
   "cell_type": "markdown",
   "metadata": {},
   "source": [
    "**Solution**: We compute the confidence interval as \n",
    "\n",
    "$$\n",
    "\\bar{x} \\pm t_{\\alpha/2, n-1} \\times \\dfrac{s}{\\sqrt{n}}\n",
    "$$"
   ]
  },
  {
   "cell_type": "code",
   "execution_count": 10,
   "metadata": {},
   "outputs": [
    {
     "name": "stdout",
     "output_type": "stream",
     "text": [
      "[13.46681700054998, 17.53318299945002]\n"
     ]
    }
   ],
   "source": [
    "xbar, s, n = 15.5, 3.2, 12   \n",
    "CI = [xbar + flip * stats.t.ppf(0.975, n-1) * s/np.sqrt(n) for flip in [-1,1]]\n",
    "print(CI)"
   ]
  },
  {
   "cell_type": "markdown",
   "metadata": {},
   "source": [
    "**Part B**: Is there sufficient evidence, at the $\\alpha = 0.05$ significance level, to conclude that taking a nap promotes better memory recall that drinking coffee?  Be sure to clearly explain the test that you're doing and state all hypotheses. Do all computations in Python. "
   ]
  },
  {
   "cell_type": "markdown",
   "metadata": {},
   "source": [
    "**Solution**: We will perform a hypothesis test for the difference between the means.  Since the sample sizes are small, we will use a t-test.  Our hypotheses are \n",
    "\n",
    "$$\n",
    "\\begin{array}{ll}\n",
    "H_0 & \\mu_N - \\mu_C =0 \\\\\n",
    "H_1 & \\mu_N - \\mu_C > 0 \\\\\n",
    "\\end{array}\n",
    "$$\n",
    "\n",
    "The test statistic is given by $T = (\\bar{x}_N - \\bar{x}_C)\\bigg/\\sqrt{\\frac{s_N^2}{n_N} + \\frac{s_C^2}{n_C}}$ which follows the t-distribution with $n_N + n_C - 2$ degrees of freedom. Our two tests are \n",
    "\n",
    "**Rejection Region**: $T > t_{0.025, 22} = 2.074$   \n",
    "\n",
    "**P-Value Test**: $p$-value $=1 - $stats.t.cdf($T, 22) < \\alpha$ "
   ]
  },
  {
   "cell_type": "code",
   "execution_count": 11,
   "metadata": {},
   "outputs": [
    {
     "name": "stdout",
     "output_type": "stream",
     "text": [
      "T = 2.527\n",
      "pval = 0.010\n"
     ]
    }
   ],
   "source": [
    "xbar, sx, nx = 15.5, 3.2, 12   \n",
    "ybar, sy, ny = 12.25, 3.1, 12   \n",
    "dbar = xbar - ybar \n",
    "SE = np.sqrt((sx**2)/nx + (sy**2)/ny)\n",
    "T = dbar / SE \n",
    "pval = 1-stats.t.cdf(T, nx + ny -2)\n",
    "print(\"T = {:.3f}\".format(T))\n",
    "print(\"pval = {:.3f}\".format(pval))"
   ]
  },
  {
   "cell_type": "markdown",
   "metadata": {},
   "source": [
    "**Rejection Region**: Since $T = 2.527 > 2.074$ we reject the null and conclude that taking a nap promotes better memory recall than coffee. \n",
    "\n",
    "**P-Value Test**: Since $p$-value $0.01 < 0.05$ we reject the null and conclude that taking a nap promotes better memory recall than coffee. "
   ]
  },
  {
   "cell_type": "markdown",
   "metadata": {},
   "source": [
    "**Part C**: Compute a 95% confidence interval for the standard deviation of memory recall for coffee drinkers. Do all computations in Python.  "
   ]
  },
  {
   "cell_type": "markdown",
   "metadata": {},
   "source": [
    "**Solution**: Our confidence interval for the standard deviation is given by \n",
    "\n",
    "$$\n",
    "\\sqrt{\\dfrac{(n-1)s^2}{\\chi^2_{\\alpha/2, n-1}}} \\leq \\sigma \\leq \n",
    "\\sqrt{\\dfrac{(n-1)s^2}{\\chi^2_{1-\\alpha/2, n-1}}} \n",
    "$$\n",
    "\n",
    "We have "
   ]
  },
  {
   "cell_type": "code",
   "execution_count": 12,
   "metadata": {},
   "outputs": [
    {
     "name": "stdout",
     "output_type": "stream",
     "text": [
      "[2.1960249676730244, 5.2634218549444185]\n"
     ]
    }
   ],
   "source": [
    "alpha = 0.05 \n",
    "c2, c1 = stats.chi2.ppf(alpha/2, n-1), stats.chi2.ppf(1-alpha/2, n-1)\n",
    "CI = [np.sqrt((n-1)*sy*sy/c1), np.sqrt((n-1)*sy*sy/c2)]\n",
    "print(CI)"
   ]
  },
  {
   "cell_type": "markdown",
   "metadata": {},
   "source": [
    "### [20 points] Problem 5 - Bad Science for Fun and Profit \n",
    "***\n",
    "\n",
    "[Data Dredging](https://en.wikipedia.org/wiki/Data_dredging) and [p-hacking](https://www.explainxkcd.com/wiki/index.php/882:_Significant) are umbrella terms for the dangerous practice of automatically testing a large number of hypotheses on the entirety or subsets of a single dataset in order to find statistically significant results. In this exercise we will focus on the idea of testing hypotheses on subsets of a single data set.  \n",
    "\n",
    "Johnny Nefarious has landed his first data science internship at an online marketing firm.  His primary summer project has been to design and test a new email advertisement for his company's best-selling product. To test his advertisement his supervisors have allowed him to send his ad to 4 targeted customer groups of 50 people every day for a month. \n",
    "\n",
    "The effectiveness of online advertising is typically measured by the ad's [click-through rate](https://en.wikipedia.org/wiki/Click-through_rate) (CTR), which is defined to be the _proportion_ of users that click on an advertisement. The company's standard email advertisement has a CTR of $0.05$.  Johnny is hoping to land a permanent position at the company when he graduates, so he's **really** motivated to show his supervisors that the CTR of his email advertisement is a (statistically) significant improvement over their previous ad. \n",
    "\n",
    "The data from Johnny's summer experiment can be found in email.csv. Load this dataset into Pandas. "
   ]
  },
  {
   "cell_type": "code",
   "execution_count": 13,
   "metadata": {},
   "outputs": [
    {
     "data": {
      "text/html": [
       "<div>\n",
       "<style>\n",
       "    .dataframe thead tr:only-child th {\n",
       "        text-align: right;\n",
       "    }\n",
       "\n",
       "    .dataframe thead th {\n",
       "        text-align: left;\n",
       "    }\n",
       "\n",
       "    .dataframe tbody tr th {\n",
       "        vertical-align: top;\n",
       "    }\n",
       "</style>\n",
       "<table border=\"1\" class=\"dataframe\">\n",
       "  <thead>\n",
       "    <tr style=\"text-align: right;\">\n",
       "      <th></th>\n",
       "      <th>Group</th>\n",
       "      <th>Date</th>\n",
       "      <th>Sent</th>\n",
       "      <th>Clicked</th>\n",
       "    </tr>\n",
       "  </thead>\n",
       "  <tbody>\n",
       "    <tr>\n",
       "      <th>0</th>\n",
       "      <td>1</td>\n",
       "      <td>NaN</td>\n",
       "      <td>50</td>\n",
       "      <td>1</td>\n",
       "    </tr>\n",
       "    <tr>\n",
       "      <th>1</th>\n",
       "      <td>1</td>\n",
       "      <td>Oct  2 2017</td>\n",
       "      <td>50</td>\n",
       "      <td>2</td>\n",
       "    </tr>\n",
       "    <tr>\n",
       "      <th>2</th>\n",
       "      <td>1</td>\n",
       "      <td>Oct  3 2017</td>\n",
       "      <td>50</td>\n",
       "      <td>4</td>\n",
       "    </tr>\n",
       "    <tr>\n",
       "      <th>3</th>\n",
       "      <td>1</td>\n",
       "      <td>NaN</td>\n",
       "      <td>50</td>\n",
       "      <td>5</td>\n",
       "    </tr>\n",
       "    <tr>\n",
       "      <th>4</th>\n",
       "      <td>1</td>\n",
       "      <td>Oct  5 2017</td>\n",
       "      <td>50</td>\n",
       "      <td>1</td>\n",
       "    </tr>\n",
       "  </tbody>\n",
       "</table>\n",
       "</div>"
      ],
      "text/plain": [
       "   Group         Date  Sent  Clicked\n",
       "0      1          NaN    50        1\n",
       "1      1  Oct  2 2017    50        2\n",
       "2      1  Oct  3 2017    50        4\n",
       "3      1          NaN    50        5\n",
       "4      1  Oct  5 2017    50        1"
      ]
     },
     "execution_count": 13,
     "metadata": {},
     "output_type": "execute_result"
    }
   ],
   "source": [
    "dfAd = pd.read_csv(\"data/email.csv\")\n",
    "dfAd.head()"
   ]
  },
  {
   "cell_type": "markdown",
   "metadata": {},
   "source": [
    "**Part A**: State the null and alternate hypotheses that Johnny should test to see if his ad campaign is an improvement over the company's standard mailer with a CTR of $0.05$. "
   ]
  },
  {
   "cell_type": "markdown",
   "metadata": {},
   "source": [
    "**Solution**: \n",
    "\n",
    "$H_0: p = 0.05$ (the CTR of Johnny's ad is equal to the usual $0.05$)\n",
    "\n",
    "$H_1: p > 0.05$ (the CTR of Johnny's ad is greater than the standard $0.05$) \n"
   ]
  },
  {
   "cell_type": "markdown",
   "metadata": {},
   "source": [
    "**Part B**: Test the hypothesis from **Part A** at the $\\alpha = 0.05$ significance level using a p-value test. Is there sufficient evidence for Johnny to conclude that his ad campaign is an improvement?   "
   ]
  },
  {
   "cell_type": "code",
   "execution_count": 14,
   "metadata": {},
   "outputs": [
    {
     "name": "stdout",
     "output_type": "stream",
     "text": [
      "All Data: p-value = 0.2244\n"
     ]
    }
   ],
   "source": [
    "def ztest(clicks, sent, alpha=0.05):\n",
    "    '''\n",
    "    Function to test H1: p > 0.05 \n",
    "    Returns p-value based on H0: p=0.05 \n",
    "    '''\n",
    "    n = np.sum(sent)\n",
    "    phat = np.sum(clicks)/n\n",
    "    SE = np.sqrt(0.05*(1-0.05)/n)\n",
    "    z = (phat-0.05)/SE \n",
    "    pvalue = 1 - stats.norm.cdf(z)\n",
    "    return pvalue \n",
    "\n",
    "# Test H1 on all data\n",
    "print(\"All Data: p-value = {:.4f}\".format(ztest(dfAd[\"Clicked\"], dfAd[\"Sent\"], alpha=0.05)))"
   ]
  },
  {
   "cell_type": "markdown",
   "metadata": {},
   "source": [
    "**Part C**: Bummer, Johnny thinks. This is the part where he decides to resort to some questionable science.  Maybe there is a reasonable subset of the data for which his alternative hypothesis is supported?  Can he find it?  Can he come up for a reasonable justification for why this subset of the data should be considered while the rest should be discarded? \n",
    "\n",
    "Here are the **rules**: Johnny cannot modify the original data (e.g. by adding nonexistent clicks to certain groups or days) because his boss will surely notice.  Instead he needs to find a subset of the data for which his hypothesis is supported by a p-value test at the $\\alpha = 0.05$ significance level _and_ be able to explain to his supervisors why his sub-selection of the data is reasonable.  \n",
    "\n",
    "In addition to your explanation of why your successful subset of the data is potentially reasonable, be sure to thoroughly explain the details of the tests that you perform and show all of your Python computation.  "
   ]
  },
  {
   "cell_type": "code",
   "execution_count": 15,
   "metadata": {},
   "outputs": [
    {
     "name": "stdout",
     "output_type": "stream",
     "text": [
      "Group 1: p-value = 0.7392\n",
      "Group 2: p-value = 0.3417\n",
      "Group 3: p-value = 0.2608\n",
      "Group 4: p-value = 0.1341\n"
     ]
    }
   ],
   "source": [
    "# Test H1 on all groups \n",
    "for g in range(1,4+1):\n",
    "    print(\"Group {}: p-value = {:.4f}\".format(g, ztest(dfAd.loc[dfAd[\"Group\"]==g, \"Clicked\"], dfAd.loc[dfAd[\"Group\"]==g, \"Sent\"], alpha=0.05)))"
   ]
  },
  {
   "cell_type": "code",
   "execution_count": 16,
   "metadata": {},
   "outputs": [
    {
     "name": "stdout",
     "output_type": "stream",
     "text": [
      "No Date All: p-value = 0.2244\n"
     ]
    }
   ],
   "source": [
    "# Test on Data without missing Dates \n",
    "print(\"No Date All: p-value = {:.4f}\".format(ztest(dfAd.loc[dfAd[\"Date\"] != \"NA\", \"Clicked\"], dfAd.loc[dfAd[\"Date\"] != \"NA\", \"Sent\"], alpha=0.05)))"
   ]
  },
  {
   "cell_type": "code",
   "execution_count": 17,
   "metadata": {},
   "outputs": [
    {
     "name": "stdout",
     "output_type": "stream",
     "text": [
      "No Date Group 1: p-value = 0.8334\n",
      "No Date Group 2: p-value = 0.5000\n",
      "No Date Group 3: p-value = 0.0076\n",
      "No Date Group 4: p-value = 0.4666\n"
     ]
    }
   ],
   "source": [
    "# Test on Group Data without missing Dates \n",
    "dfClean = dfAd.loc[dfAd[\"Date\"].notnull(), :].copy()\n",
    "# Test H1 on all groups \n",
    "for g in range(1,4+1):\n",
    "    print(\"No Date Group {}: p-value = {:.4f}\".format(g, ztest(dfClean.loc[dfClean[\"Group\"]==g, \"Clicked\"], dfClean.loc[dfClean[\"Group\"]==g, \"Sent\"], alpha=0.05)))"
   ]
  },
  {
   "cell_type": "markdown",
   "metadata": {},
   "source": [
    "**Eureka!**.  Johnny's hypothesis is true if he only looks at the data from Group 3 when he excludes rows with missing dates! "
   ]
  },
  {
   "cell_type": "code",
   "execution_count": 18,
   "metadata": {
    "collapsed": true
   },
   "outputs": [],
   "source": [
    "np.random.seed(1236)\n",
    "truep = 0.05\n",
    "df = pd.DataFrame({\"Group\": np.zeros(31*4, dtype=int), \n",
    "                   \"Date\": np.zeros(31*4, dtype=str), \n",
    "                   \"Sent\": np.zeros(31*4, dtype=int), \n",
    "                   \"Clicked\": np.zeros(31*4, dtype=int)})\n",
    "for g in range(4):\n",
    "    # Set group number \n",
    "    df.loc[g*31:(g+1)*31, \"Group\"] = g+1\n",
    "    # Set date \n",
    "    for day in range(31):\n",
    "        df.loc[g*31+day, \"Date\"] = \"Oct {:2d} 2017\".format(day+1)\n",
    "    # Set number of emails sent \n",
    "    df.loc[g*31:(g+1)*31, \"Sent\"] = 50 \n",
    "    \n",
    "# Set clicked to random draw from Bin(50, 0.05)\n",
    "df.loc[:,\"Clicked\"] = np.random.binomial(50, truep, size=31*4)\n",
    "    \n",
    "# Remove a third of the dates in Group 3 \n",
    "for ind in range(len(df)):\n",
    "    if np.random.choice([1,2]) == 1:\n",
    "        df.loc[ind, \"Date\"] = \"NA\"\n",
    "    else:\n",
    "        if df.loc[ind, \"Group\"] == 3:\n",
    "            df.loc[ind, \"Clicked\"] = np.random.binomial(50, 0.070)\n",
    "            \n",
    "df=df.loc[:,[\"Group\", \"Date\", \"Sent\", \"Clicked\"]]\n",
    "    \n",
    "# df.to_csv(\"email.csv\", index=False)"
   ]
  },
  {
   "cell_type": "markdown",
   "metadata": {},
   "source": [
    "### [20 points] Problem 6 - Simple Linear Regression for Gas Mileage \n",
    "***\n",
    "\n",
    "The data in auto.csv contains information on cars from the 1970s and 1980s. In this exercise you will construct a simple linear regression model for the response variable mpg with horsepower as the feature. Load the data into a Pandas DataFrame.    \n"
   ]
  },
  {
   "cell_type": "code",
   "execution_count": 19,
   "metadata": {},
   "outputs": [
    {
     "data": {
      "text/html": [
       "<div>\n",
       "<style>\n",
       "    .dataframe thead tr:only-child th {\n",
       "        text-align: right;\n",
       "    }\n",
       "\n",
       "    .dataframe thead th {\n",
       "        text-align: left;\n",
       "    }\n",
       "\n",
       "    .dataframe tbody tr th {\n",
       "        vertical-align: top;\n",
       "    }\n",
       "</style>\n",
       "<table border=\"1\" class=\"dataframe\">\n",
       "  <thead>\n",
       "    <tr style=\"text-align: right;\">\n",
       "      <th></th>\n",
       "      <th>model</th>\n",
       "      <th>year</th>\n",
       "      <th>mpg</th>\n",
       "      <th>cylinders</th>\n",
       "      <th>horsepower</th>\n",
       "      <th>weight</th>\n",
       "    </tr>\n",
       "  </thead>\n",
       "  <tbody>\n",
       "    <tr>\n",
       "      <th>0</th>\n",
       "      <td>chevrolet chevelle malibu</td>\n",
       "      <td>70</td>\n",
       "      <td>18.0</td>\n",
       "      <td>8</td>\n",
       "      <td>130.0</td>\n",
       "      <td>3504.0</td>\n",
       "    </tr>\n",
       "    <tr>\n",
       "      <th>1</th>\n",
       "      <td>buick skylark 320</td>\n",
       "      <td>70</td>\n",
       "      <td>15.0</td>\n",
       "      <td>8</td>\n",
       "      <td>165.0</td>\n",
       "      <td>3693.0</td>\n",
       "    </tr>\n",
       "    <tr>\n",
       "      <th>2</th>\n",
       "      <td>plymouth satellite</td>\n",
       "      <td>70</td>\n",
       "      <td>18.0</td>\n",
       "      <td>8</td>\n",
       "      <td>150.0</td>\n",
       "      <td>3436.0</td>\n",
       "    </tr>\n",
       "    <tr>\n",
       "      <th>3</th>\n",
       "      <td>amc rebel sst</td>\n",
       "      <td>70</td>\n",
       "      <td>16.0</td>\n",
       "      <td>8</td>\n",
       "      <td>150.0</td>\n",
       "      <td>3433.0</td>\n",
       "    </tr>\n",
       "    <tr>\n",
       "      <th>4</th>\n",
       "      <td>ford torino</td>\n",
       "      <td>70</td>\n",
       "      <td>17.0</td>\n",
       "      <td>8</td>\n",
       "      <td>140.0</td>\n",
       "      <td>3449.0</td>\n",
       "    </tr>\n",
       "  </tbody>\n",
       "</table>\n",
       "</div>"
      ],
      "text/plain": [
       "                       model  year   mpg  cylinders  horsepower  weight\n",
       "0  chevrolet chevelle malibu    70  18.0          8       130.0  3504.0\n",
       "1          buick skylark 320    70  15.0          8       165.0  3693.0\n",
       "2         plymouth satellite    70  18.0          8       150.0  3436.0\n",
       "3              amc rebel sst    70  16.0          8       150.0  3433.0\n",
       "4                ford torino    70  17.0          8       140.0  3449.0"
      ]
     },
     "execution_count": 19,
     "metadata": {},
     "output_type": "execute_result"
    }
   ],
   "source": [
    "dfAuto = pd.read_csv(\"data/auto.csv\")\n",
    "dfAuto.head()"
   ]
  },
  {
   "cell_type": "markdown",
   "metadata": {},
   "source": [
    "**Part A**: Perform a simple linear regression with horsepower as the feature and mpg as the response.  Report the estimated regression model in the form $Y = \\alpha + \\beta x$. Do all computations in Python. "
   ]
  },
  {
   "cell_type": "code",
   "execution_count": 20,
   "metadata": {},
   "outputs": [
    {
     "name": "stdout",
     "output_type": "stream",
     "text": [
      "Y = 39.936 + -0.158X\n"
     ]
    }
   ],
   "source": [
    "beta, alpha, rvalue, pvalue, stderr = stats.linregress(dfAuto[\"horsepower\"], dfAuto[\"mpg\"])\n",
    "print(\"Y = {:.3f} + {:.3f}X\".format(alpha, beta))"
   ]
  },
  {
   "cell_type": "markdown",
   "metadata": {},
   "source": [
    "**Part B**: Make a scatter-plot of the data with horsepower as the feature and mpg as the response and overlay the estimated regression line. \n"
   ]
  },
  {
   "cell_type": "code",
   "execution_count": 21,
   "metadata": {},
   "outputs": [
    {
     "data": {
      "image/png": "[encoded data removed]",
      "text/plain": [
       "<matplotlib.figure.Figure at 0x21b8892b080>"
      ]
     },
     "metadata": {},
     "output_type": "display_data"
    }
   ],
   "source": [
    "fig, ax = plt.subplots(nrows=1, ncols=1, figsize=(12,8))\n",
    "ax.scatter(dfAuto[\"horsepower\"], dfAuto[\"mpg\"], color=\"steelblue\", alpha=0.5, s=100)\n",
    "ax.set_xlabel(\"horsepower\", fontsize=16)\n",
    "ax.set_ylabel(\"mpg\", fontsize=16)\n",
    "ax.set_title(\"horsepower vs mpg\", fontsize=20)\n",
    "ax.plot(dfAuto[\"horsepower\"], alpha + beta * dfAuto[\"horsepower\"], color=\"steelblue\", lw=3);"
   ]
  },
  {
   "cell_type": "markdown",
   "metadata": {},
   "source": [
    "**Part C**: Is the relationship between horsepower and mpg positive or negative? Justify your response. "
   ]
  },
  {
   "cell_type": "markdown",
   "metadata": {},
   "source": [
    "**Solution**: The relationship is negative.  We can see this because $\\hat{\\beta} = -0.158$ and because the slope of the fitted regression line in the graph is clearly negative.  "
   ]
  },
  {
   "cell_type": "markdown",
   "metadata": {},
   "source": [
    "**Part D**: Find a 95% confidence interval for the slope parameter.  Based on this confidence interval, is there sufficient evidence to believe, at the 95% confidence level, that there is a real relationship between horsepower and mpg? "
   ]
  },
  {
   "cell_type": "code",
   "execution_count": 22,
   "metadata": {},
   "outputs": [
    {
     "name": "stdout",
     "output_type": "stream",
     "text": [
      "CI: [-0.171, -0.145]\n"
     ]
    }
   ],
   "source": [
    "CI = [beta + flip * stats.t.ppf(0.975, len(dfAuto)-2) * stderr for flip in [-1,1]]\n",
    "print(\"CI: [{:.3f}, {:.3f}]\".format(CI[0], CI[1]))"
   ]
  },
  {
   "cell_type": "markdown",
   "metadata": {},
   "source": [
    "**Solution**: Since the confidence interval does not include $0$ we conclude, at the 95% confidence interval, that there is sufficient evidence to suggest that the relationship between horsepower and mpg is real. "
   ]
  },
  {
   "cell_type": "markdown",
   "metadata": {},
   "source": [
    "**Part E**: Double-check your result from **Part D** by performing an equivalent hypothesis test.  Be sure to state your null and alternative hypotheses and explain your general methodology.  Do your conclusions agree with those made in **Part D**? "
   ]
  },
  {
   "cell_type": "markdown",
   "metadata": {},
   "source": [
    "**Solution**: Our hypotheses are \n",
    "\n",
    "$$\n",
    "\\begin{array}{ll}\n",
    "H_0: & \\beta = 0 \\\\\n",
    "H_1: & \\beta \\neq 0 \\\\\n",
    "\\end{array}\n",
    "$$\n",
    "\n",
    "Our test statistic is $T = \\dfrac{\\hat{\\beta} - 0}{SE}$ where $SE$ is the standard error for the slope reported by stats.linregress. \n",
    "\n",
    "This test statistic follows the $t$-distribution with $n-2$ degrees of freedom.  We can either do a Rejection Region test or a p-value test.  \n",
    "\n",
    "**Rejection Region**: Test $T < t_{0.975, 390} = -1.97$ or $T > t_{0.025, 390} = 1.97$ \n",
    "\n",
    "**P-Value Test**: $p$-value $= 2 \\times \\min( 1-$stats.t.cdf(T, 390),  stats.t.cdf(T,390)$ )$"
   ]
  },
  {
   "cell_type": "code",
   "execution_count": 23,
   "metadata": {},
   "outputs": [
    {
     "name": "stdout",
     "output_type": "stream",
     "text": [
      "t-statistic = -24.489, p-value = 7.031989029404864e-81\n"
     ]
    }
   ],
   "source": [
    "T = (beta - 0)/stderr\n",
    "pval = 2*np.min([stats.t.cdf(T, len(dfAuto)-2), 1-stats.t.cdf(T, len(dfAuto)-2)])\n",
    "print(\"t-statistic = {:.3f}, p-value = {}\".format(T, pval))"
   ]
  },
  {
   "cell_type": "markdown",
   "metadata": {},
   "source": [
    "Since $T = -24.489 < -1.97$ we conclude from the Rejection Region test that the slope parameter is nonzero.\n",
    "\n",
    "Since $p$-value $= 7.03 \\times 10^{-81} < 0.05$ we conclude that the slope parameter is nonzero. "
   ]
  },
  {
   "cell_type": "markdown",
   "metadata": {},
   "source": [
    "**Part F**: What gas mileage would your simple linear regression model predict for a car with a horsepower of $97$? "
   ]
  },
  {
   "cell_type": "code",
   "execution_count": 24,
   "metadata": {},
   "outputs": [
    {
     "name": "stdout",
     "output_type": "stream",
     "text": [
      "y(97) = 24.625 mpg\n"
     ]
    }
   ],
   "source": [
    "y = alpha + beta * 97\n",
    "print(\"y(97) = {:.3f} mpg\".format(y))"
   ]
  },
  {
   "cell_type": "code",
   "execution_count": null,
   "metadata": {
    "collapsed": true
   },
   "outputs": [],
   "source": []
  },
  {
   "cell_type": "code",
   "execution_count": null,
   "metadata": {
    "collapsed": true
   },
   "outputs": [],
   "source": []
  }
 ],
 "metadata": {
  "kernelspec": {
   "display_name": "Python 3",
   "language": "python",
   "name": "python3"
  },
  "language_info": {
   "codemirror_mode": {
    "name": "ipython",
    "version": 3
   },
   "file_extension": ".py",
   "mimetype": "text/x-python",
   "name": "python",
   "nbconvert_exporter": "python",
   "pygments_lexer": "ipython3",
   "version": "3.6.3"
  }
 },
 "nbformat": 4,
 "nbformat_minor": 2
}
